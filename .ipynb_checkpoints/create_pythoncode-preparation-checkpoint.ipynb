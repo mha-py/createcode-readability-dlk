{
 "cells": [
  {
   "cell_type": "code",
   "execution_count": 1,
   "id": "89e80fcd-c2d0-44de-a06e-4be77f5ecc5f",
   "metadata": {},
   "outputs": [],
   "source": [
    "import json, os\n",
    "from tqdm.notebook import tqdm, trange\n",
    "import pickle as pkl\n",
    "%load_ext autoreload\n",
    "%autoreload 2\n",
    "\n",
    "path = 'F:/$daten/datasets/pythoncode/train/'\n",
    "files = os.listdir(path)\n",
    "\n",
    "with open(path+files[1], 'r') as f:\n",
    "    d = json.load(f)"
   ]
  },
  {
   "cell_type": "code",
   "execution_count": 20,
   "id": "a4e7e79a-94a3-49dc-9504-0223510664f1",
   "metadata": {},
   "outputs": [],
   "source": [
    "def strip_comments(text):\n",
    "    newtext = ''\n",
    "    for line in text.split('\\n'):\n",
    "        newtext += line.split('#')[0] + '\\n'\n",
    "    return newtext\n"
   ]
  },
  {
   "cell_type": "code",
   "execution_count": 22,
   "id": "5501738a-a120-434c-b5e1-82b16593fe48",
   "metadata": {},
   "outputs": [
    {
     "data": {
      "application/vnd.jupyter.widget-view+json": {
       "model_id": "ad8b48352f6f4f88b92a978edf4c3a10",
       "version_major": 2,
       "version_minor": 0
      },
      "text/plain": [
       "  0%|          | 0/139386 [00:00<?, ?it/s]"
      ]
     },
     "metadata": {},
     "output_type": "display_data"
    },
    {
     "ename": "UnicodeDecodeError",
     "evalue": "'charmap' codec can't decode byte 0x81 in position 4875: character maps to <undefined>",
     "output_type": "error",
     "traceback": [
      "\u001b[1;31m---------------------------------------------------------------------------\u001b[0m",
      "\u001b[1;31mUnicodeDecodeError\u001b[0m                        Traceback (most recent call last)",
      "Cell \u001b[1;32mIn[22], line 4\u001b[0m\n\u001b[0;32m      2\u001b[0m \u001b[38;5;28;01mfor\u001b[39;00m fn \u001b[38;5;129;01min\u001b[39;00m tqdm(files):\n\u001b[0;32m      3\u001b[0m     \u001b[38;5;28;01mwith\u001b[39;00m \u001b[38;5;28mopen\u001b[39m(path\u001b[38;5;241m+\u001b[39mfn, \u001b[38;5;124m'\u001b[39m\u001b[38;5;124mr\u001b[39m\u001b[38;5;124m'\u001b[39m) \u001b[38;5;28;01mas\u001b[39;00m f:\n\u001b[1;32m----> 4\u001b[0m         d \u001b[38;5;241m=\u001b[39m \u001b[43mjson\u001b[49m\u001b[38;5;241;43m.\u001b[39;49m\u001b[43mload\u001b[49m\u001b[43m(\u001b[49m\u001b[43mf\u001b[49m\u001b[43m)\u001b[49m\n\u001b[0;32m      6\u001b[0m     code \u001b[38;5;241m=\u001b[39m \u001b[38;5;124m'\u001b[39m\u001b[38;5;124m'\u001b[39m\n\u001b[0;32m      7\u001b[0m     \u001b[38;5;28;01mfor\u001b[39;00m cell, celltext \u001b[38;5;129;01min\u001b[39;00m d[\u001b[38;5;124m'\u001b[39m\u001b[38;5;124msource\u001b[39m\u001b[38;5;124m'\u001b[39m]\u001b[38;5;241m.\u001b[39mitems():\n\u001b[0;32m      8\u001b[0m         \u001b[38;5;66;03m#print(d['cell_type'][cell].capitalize())\u001b[39;00m\n",
      "File \u001b[1;32mD:\\WPy64-31150\\python-3.11.5.amd64\\Lib\\json\\__init__.py:293\u001b[0m, in \u001b[0;36mload\u001b[1;34m(fp, cls, object_hook, parse_float, parse_int, parse_constant, object_pairs_hook, **kw)\u001b[0m\n\u001b[0;32m    274\u001b[0m \u001b[38;5;28;01mdef\u001b[39;00m \u001b[38;5;21mload\u001b[39m(fp, \u001b[38;5;241m*\u001b[39m, \u001b[38;5;28mcls\u001b[39m\u001b[38;5;241m=\u001b[39m\u001b[38;5;28;01mNone\u001b[39;00m, object_hook\u001b[38;5;241m=\u001b[39m\u001b[38;5;28;01mNone\u001b[39;00m, parse_float\u001b[38;5;241m=\u001b[39m\u001b[38;5;28;01mNone\u001b[39;00m,\n\u001b[0;32m    275\u001b[0m         parse_int\u001b[38;5;241m=\u001b[39m\u001b[38;5;28;01mNone\u001b[39;00m, parse_constant\u001b[38;5;241m=\u001b[39m\u001b[38;5;28;01mNone\u001b[39;00m, object_pairs_hook\u001b[38;5;241m=\u001b[39m\u001b[38;5;28;01mNone\u001b[39;00m, \u001b[38;5;241m*\u001b[39m\u001b[38;5;241m*\u001b[39mkw):\n\u001b[0;32m    276\u001b[0m \u001b[38;5;250m    \u001b[39m\u001b[38;5;124;03m\"\"\"Deserialize ``fp`` (a ``.read()``-supporting file-like object containing\u001b[39;00m\n\u001b[0;32m    277\u001b[0m \u001b[38;5;124;03m    a JSON document) to a Python object.\u001b[39;00m\n\u001b[0;32m    278\u001b[0m \n\u001b[1;32m   (...)\u001b[0m\n\u001b[0;32m    291\u001b[0m \u001b[38;5;124;03m    kwarg; otherwise ``JSONDecoder`` is used.\u001b[39;00m\n\u001b[0;32m    292\u001b[0m \u001b[38;5;124;03m    \"\"\"\u001b[39;00m\n\u001b[1;32m--> 293\u001b[0m     \u001b[38;5;28;01mreturn\u001b[39;00m loads(fp\u001b[38;5;241m.\u001b[39mread(),\n\u001b[0;32m    294\u001b[0m         \u001b[38;5;28mcls\u001b[39m\u001b[38;5;241m=\u001b[39m\u001b[38;5;28mcls\u001b[39m, object_hook\u001b[38;5;241m=\u001b[39mobject_hook,\n\u001b[0;32m    295\u001b[0m         parse_float\u001b[38;5;241m=\u001b[39mparse_float, parse_int\u001b[38;5;241m=\u001b[39mparse_int,\n\u001b[0;32m    296\u001b[0m         parse_constant\u001b[38;5;241m=\u001b[39mparse_constant, object_pairs_hook\u001b[38;5;241m=\u001b[39mobject_pairs_hook, \u001b[38;5;241m*\u001b[39m\u001b[38;5;241m*\u001b[39mkw)\n",
      "File \u001b[1;32mD:\\WPy64-31150\\python-3.11.5.amd64\\Lib\\encodings\\cp1252.py:23\u001b[0m, in \u001b[0;36mIncrementalDecoder.decode\u001b[1;34m(self, input, final)\u001b[0m\n\u001b[0;32m     22\u001b[0m \u001b[38;5;28;01mdef\u001b[39;00m \u001b[38;5;21mdecode\u001b[39m(\u001b[38;5;28mself\u001b[39m, \u001b[38;5;28minput\u001b[39m, final\u001b[38;5;241m=\u001b[39m\u001b[38;5;28;01mFalse\u001b[39;00m):\n\u001b[1;32m---> 23\u001b[0m     \u001b[38;5;28;01mreturn\u001b[39;00m codecs\u001b[38;5;241m.\u001b[39mcharmap_decode(\u001b[38;5;28minput\u001b[39m,\u001b[38;5;28mself\u001b[39m\u001b[38;5;241m.\u001b[39merrors,decoding_table)[\u001b[38;5;241m0\u001b[39m]\n",
      "\u001b[1;31mUnicodeDecodeError\u001b[0m: 'charmap' codec can't decode byte 0x81 in position 4875: character maps to <undefined>"
     ]
    }
   ],
   "source": [
    "collection = []\n",
    "for fn in tqdm(files):\n",
    "    with open(path+fn, 'r') as f:\n",
    "        d = json.load(f)\n",
    "        \n",
    "    code = ''\n",
    "    for cell, celltext in d['source'].items():\n",
    "        #print(d['cell_type'][cell].capitalize())\n",
    "        celltype = d['cell_type'][cell]\n",
    "        if celltype == 'code':\n",
    "            code += '\\n<C>\\n'\n",
    "            ##code += strip_comments(celltext)\n",
    "            code += celltext\n",
    "        if celltype == 'markdown':\n",
    "            code += '\\n<M>\\n'\n",
    "            code += celltext\n",
    "    collection.append(code)"
   ]
  },
  {
   "cell_type": "code",
   "execution_count": 23,
   "id": "6cf2853c-9f8a-4ec7-b9d7-209ab214250a",
   "metadata": {
    "scrolled": true
   },
   "outputs": [
    {
     "name": "stdout",
     "output_type": "stream",
     "text": [
      "\n",
      "<C>\n",
      "# This Python 3 environment comes with many helpful analytics libraries installed\n",
      "# It is defined by the kaggle/python Docker image: https://github.com/kaggle/docker-python\n",
      "# For example, here's several helpful packages to load\n",
      "\n",
      "import numpy as np # linear algebra\n",
      "import pandas as pd # data processing, CSV file I/O (e.g. pd.read_csv)\n",
      "import matplotlib.pyplot as plt\n",
      "import seaborn as sns\n",
      "\n",
      "# other imports\n",
      "import sys\n",
      "\n",
      "# Input data files are available in the read-only \"../input/\" directory\n",
      "# For example, running this (by clicking run or pressing Shift+Enter) will list all files under the input directory\n",
      "\n",
      "import os\n",
      "for dirname, _, filenames in os.walk('/kaggle/input'):\n",
      "    for filename in filenames:\n",
      "        print(os.path.join(dirname, filename))\n",
      "\n",
      "# You can write up to 20GB to the current directory (/kaggle/working/) that gets preserved as output when you create a version using \"Save & Run All\" \n",
      "# You can also write temporary files to /kaggle/temp/, but they won't be saved outside of the current session\n",
      "<C>\n",
      "!pip install scikit-allel\n",
      "<C>\n",
      "import allel\n",
      "allel.__version__\n",
      "<C>\n",
      "#callset = allel.read_vcf('../input/end-als/end-als/genomics-data/AnswerALS_subset_annovar.hg38_anno_and_geno.no_intergenic.vcf')\n",
      "<C>\n",
      "#sorted(callset.keys())\n",
      "<C>\n",
      "#callset['samples']\n",
      "<C>\n",
      "import numpy as np\n",
      "np.__version__\n",
      "<C>\n",
      "!pip install zarr\n",
      "<C>\n",
      "import zarr\n",
      "zarr.__version__\n",
      "<C>\n",
      "!pip install numcodecs\n",
      "<C>\n",
      "import numcodecs\n",
      "numcodecs.__version__\n",
      "<C>\n",
      "vcf_path = '../input/end-als/end-als/genomics-data/AnswerALS_subset_annovar.hg38_anno_and_geno.no_intergenic.vcf'\n",
      "!ls -lh {vcf_path}\n",
      "<C>\n",
      "zarr_path = '../input/end-als/end-als/genomics-data/AnswerALS_subset_annovar.hg38_anno_and_geno.no_intergenic.vcf'\n",
      "<C>\n",
      "#The original snippet used data from chromosome 22. End ALS didn't mention any chromossome in the file\n",
      "#Trying to make it work, I removed the group and the fields. Unfortunately, it didn't work.\n",
      "\n",
      "#allel.vcf_to_zarr(vcf_path, zarr_path, group='22', fields='*', log=sys.stdout, overwrite=True)\n",
      "<C>\n",
      "allel.vcf_to_zarr(vcf_path, zarr_path, group='*', fields='*', log=sys.stdout, overwrite=True)\n",
      "<C>\n",
      "callset = zarr.open_group(zarr_path, mode='r')\n",
      "callset.tree(expand=True)\n",
      "<C>\n",
      "gt_zarr = callset['22/calldata/GT']\n",
      "gt_zarr.info\n",
      "<C>\n",
      "pos = allel.SortedIndex(callset['22/variants/POS'])\n",
      "pos\n",
      "<C>\n",
      "loc_region = pos.locate_range(20000000, 20100000)\n",
      "loc_region\n",
      "<C>\n",
      "gt_region = allel.GenotypeArray(gt_zarr[loc_region])\n",
      "gt_region\n",
      "<C>\n",
      "multi_allelic = callset['22/variants/MULTI_ALLELIC'][:]\n",
      "multi_allelic\n",
      "<C>\n",
      "gt = allel.GenotypeArray(gt_zarr)\n",
      "gt\n",
      "<C>\n",
      "gt_variant_selection = gt.compress(loc_variant_selection, axis=0)\n",
      "gt_variant_selection\n",
      "<C>\n",
      "gt_dask = allel.GenotypeDaskArray(gt_zarr)\n",
      "gt_dask\n",
      "<C>\n",
      "gt_variant_selection = gt_dask.compress(loc_variant_selection, axis=0).compute()\n",
      "gt_variant_selection\n",
      "<M>\n",
      "#That snippet above took so long (more than 15 minutes to read a VCF) and is consuming My RAM.\n",
      "Then I commented it.\n",
      "<M>\n",
      "#Extract data and convert to Zarr format, use the `vcf_to_zarr`() function from scikit-allel.\n",
      "That conversion will make life easier downstream.\n",
      "<M>\n",
      "#I hope to learn a little bit how to work with vcf files, scikit-allel and BioInformatics.\n",
      "<M>\n",
      "#Code by Alistair Miles  http://alimanfoo.github.io/2018/04/09/selecting-variants.html\n",
      "<M>\n",
      "#The ‘samples’ array contains sample identifiers extracted from the header line in the VCF file.\n",
      "<M>\n",
      "#Loading data for a gene\n",
      "<M>\n",
      "#The callset object returned by read_vcf() is a Python dictionary (dict). It contains several NumPy arrays, each of which can be accessed via a key. Here are the available keys:\n",
      "<M>\n",
      "#After FSPathExistNotDir: path exists but is not a directory: %r  Everything went wrong.\n",
      "\n",
      "#Maybe anyone can fix it.\n",
      "<M>\n",
      "#Use Dask if data is larger and/or your computer doesn’t have much RAM\n",
      "<M>\n",
      "![](https://image.slidesharecdn.com/karenfent-191031210734/95/enabling-biobankscale-genomic-processing-with-spark-sql-53-638.jpg?cb=1572556092)slideshare.net\n",
      "<M>\n",
      "#Extract genotypes for the selection\n",
      "<M>\n",
      "#Extract data from a VCF\n",
      "<M>\n",
      "#Open the Zarr data \n",
      "<M>\n",
      "#Filtering variants\n",
      "<M>\n",
      "#Extract genotype data for these variants\n",
      "<M>\n",
      "#Variant Call Format (VCF)\n",
      "<M>\n",
      "#Apply the selection, using almost the same syntax, except that when working via Dask we need to call the compute() method to get the final result:\n",
      "<M>\n",
      "#Start with the scikit-allel function read_vcf()\n"
     ]
    }
   ],
   "source": [
    "print(collection[10])"
   ]
  },
  {
   "cell_type": "code",
   "execution_count": 24,
   "id": "00356268-2a70-44d5-890e-85560e377c38",
   "metadata": {},
   "outputs": [],
   "source": [
    "import cpc_bpe as bpe"
   ]
  },
  {
   "cell_type": "code",
   "execution_count": 25,
   "id": "ada824c6-ed31-4c77-9137-6b6c36c982ba",
   "metadata": {},
   "outputs": [],
   "source": [
    "text = ''.join(collection)[:10000000]"
   ]
  },
  {
   "cell_type": "code",
   "execution_count": 26,
   "id": "75f2a1ed-770e-4b72-8eda-dd5011728c07",
   "metadata": {},
   "outputs": [
    {
     "data": {
      "application/vnd.jupyter.widget-view+json": {
       "model_id": "a96b31cd15e44b22b4444a9e771fb2cd",
       "version_major": 2,
       "version_minor": 0
      },
      "text/plain": [
       "  0%|          | 0/5000 [00:00<?, ?it/s]"
      ]
     },
     "metadata": {},
     "output_type": "display_data"
    }
   ],
   "source": [
    "bpc = {('<', 'C'): 0,\n",
    " ('<C', '>'): 1,\n",
    " ('<', 'M'): 2,\n",
    " ('<M', '>'): 3 }\n",
    "bpc = bpe.create_code(text, 5000, nmin=5, bpe_codes=bpc)\n",
    "\n",
    "with open('cpc_bpc.dat', 'wb') as f:\n",
    "    pkl.dump(bpc, f)"
   ]
  },
  {
   "cell_type": "code",
   "execution_count": 27,
   "id": "32ad956e-61bc-4d6a-9671-31f0798a5dff",
   "metadata": {},
   "outputs": [
    {
     "name": "stdout",
     "output_type": "stream",
     "text": [
      "{('<', 'C'): 0, ('<C', '>'): 1, ('<', 'M'): 2, ('<M', '>'): 3, ('i', 'n'): 0, ('a', 't'): 1, ('r', 'e'): 2, ('o', 'r'): 3, ('o', 'n'): 4, ('e', 'r'): 5, ('e', 's'): 6, ('t', 'h'): 7, ('a', 'l'): 8, ('a', 'n'): 9, ('e', 'n'): 10, ('p', 'l'): 11, ('s', 'e'): 12, ('a', 'r'): 13, ('t', 'r'): 14, ('i', 's'): 15, ('c', 'o'): 16, ('t', 'i'): 17, ('d', 'e'): 18, ('l', 'e'): 19, ('th', 'e'): 20, ('a', 's'): 21, ('r', 'o'): 22, ('in', 'g'): 23, ('i', 'm'): 24, ('at', 'a'): 25, ('t', 'o'): 26, ('m', 'e'): 27, ('a', 'in'): 28, ('f', 'i'): 29, ('s', 'i'): 30, ('d', 'f'): 31, ('d', 'ata'): 32, ('o', 't'): 33, ('tr', 'ain'): 34, ('i', 'c'): 35, ('g', 'e'): 36, ('a', 'c'): 37, ('t', '_'): 38, ('f', 'or'): 39, ('o', 'u'): 40, ('s', 't'): 41, ('u', 'm'): 42, ('e', 'l'): 43, ('m', 'o'): 44, ('an', 'd'): 45, ('e', 'd'): 46, ('a', 'b'): 47, ('l', 'o'): 48, ('o', 'f'): 49, ('i', 't'): 50, ('i', 'on'): 51, ('or', 't'): 52, ('a', 'x'): 53, ('pl', 't'): 54, ('a', 'd'): 55, ('v', 'al'): 56, ('t', 'es'): 57, ('u', 'n'): 58, ('p', 'ort'): 59, ('a', 'p'): 60, ('co', 'l'): 61, ('a', 'm'): 62, ('i', 'd'): 63, ('c', 'h'): 64, ('de', 'l'): 65, ('im', 'port'): 66, ('re', 's'): 67, ('in', 't'): 68, ('u', 'e'): 69, ('at', 'ion'): 70, ('u', 'r'): 71, ('pl', 'ot'): 72, ('ti', 'on'): 73, ('at', 'e'): 74, ('re', 'd'): 75, ('mo', 'del'): 76, ('z', 'e'): 77, ('h', 'e'): 78, ('u', 't'): 79, ('p', 'r'): 80, ('a', 'me'): 81, ('s', 'h'): 82, ('si', 'ze'): 83, ('y', '_'): 84, ('w', 'e'): 85, ('en', 't'): 86, ('v', 'e'): 87, ('tes', 't'): 88, ('a', 'y'): 89, ('e', 'x'): 90, ('n', 's'): 91, ('w', 'i'): 92, ('e', 't'): 93, ('l', 'ab'): 94, ('f', 'e'): 95, ('ro', 'm'): 96, ('u', 'l'): 97, ('pr', 'int'): 98, ('o', 'w'): 99, ('0', '0'): 100, ('f', 'rom'): 101, ('i', 'g'): 102, ('o', 'l'): 103, ('fi', 'g'): 104, ('p', 'red'): 105, ('lab', 'el'): 106, ('i', 'f'): 107, ('a', 'g'): 108, ('p', 'ut'): 109, ('a', 'ge'): 110, ('se', 't'): 111, ('p', 'e'): 112, ('n', 'p'): 113, ('a', 're'): 114, ('s', 'u'): 115, ('in', 'e'): 116, ('c', 'l'): 117, ('p', 'd'): 118, ('c', 'on'): 119, ('T', 'r'): 120, ('at', 'u'): 121, ('c', 'e'): 122, ('train', '_'): 123, ('is', 't'): 124, ('t', 'er'): 125, ('en', 'd'): 126, ('h', 't'): 127, ('c', 's'): 128, ('v', 'er'): 129, ('p', 'o'): 130, ('c', 't'): 131, ('ou', 't'): 132, ('p', 'ro'): 133, ('d', 'i'): 134, ('n', 'um'): 135, ('u', 'es'): 136, ('al', 'l'): 137, ('m', 'at'): 138, ('l', 'en'): 139, ('co', 'm'): 140, ('wi', 'th'): 141, ('ar', 'n'): 142, ('i', 'b'): 143, ('col', 'um'): 144, ('se', 'l'): 145, ('df', '_'): 146, ('e', 'm'): 147, ('cs', 'v'): 148, ('fe', 'atu'): 149, ('t', 's'): 150, ('p', 'er'): 151, ('o', 'm'): 152, ('sel', 'f'): 153, ('v', 'i'): 154, ('2', '0'): 155, ('si', 'on'): 156, ('Tr', 'ue'): 157, ('su', 'b'): 158, ('t', 'y'): 159, ('l', 'l'): 160, ('co', 'un'): 161, ('s', 'ing'): 162, ('pred', 'ic'): 163, ('p', 'y'): 164, ('q', 'u'): 165, ('er', 's'): 166, ('X', '_'): 167, ('val', 'ues'): 168, ('in', 'de'): 169, ('ap', 'e'): 170, ('tes', 't_'): 171, ('le', 'arn'): 172, ('in', 'put'): 173, ('col', 'or'): 174, ('n', 'e'): 175, ('s', 'co'): 176, ('l', 'y'): 177, ('b', 'e'): 178, ('b', 'y'): 179, ('inde', 'x'): 180, ('ti', 't'): 181, ('1', '0'): 182, ('c', 'k'): 183, ('colum', 'ns'): 184, ('b', 'o'): 185, ('or', 'd'): 186, ('D', 'ata'): 187, ('de', 'f'): 188, ('n', 'ot'): 189, ('w', 'h'): 190, ('s', 'tr'): 191, ('s', 'ns'): 192, ('k', 'e'): 193, ('pl', 'e'): 194, ('as', 's'): 195, ('ag', 'g'): 196, ('for', 'm'): 197, ('p', 's'): 198, ('sh', 'ow'): 199, ('p', 'ar'): 200, ('h', 'a'): 201, ('th', 'at'): 202, ('tit', 'le'): 203, ('re', 't'): 204, ('c', 'tion'): 205, ('sh', 'ape'): 206, ('ex', 't'): 207, ('an', 's'): 208, ('ur', 'n'): 209, ('s', 's'): 210, ('an', 'ge'): 211, ('ge', 't'): 212, ('R', 'e'): 213, ('ac', 'e'): 214, ('c', 'es'): 215, ('ig', 'ht'): 216, ('m', 'ax'): 217, ('sco', 're'): 218, ('c', 'an'): 219, ('i', 'z'): 220, ('s', 'c'): 221, ('ro', 'p'): 222, ('ax', 'is'): 223, ('lo', 'c'): 224, ('u', 'p'): 225, ('T', 'he'): 226, ('c', 'ur'): 227, ('data', 'set'): 228, ('i', 'l'): 229, ('g', 'r'): 230, ('n', 'ame'): 231, ('se', 't_'): 232, ('s', 'k'): 233, ('re', 'ad'): 234, ('on', 't'): 235, ('ar', 'i'): 236, ('on', 'e'): 237, ('u', 're'): 238, ('ret', 'urn'): 239, ('l', 'ine'): 240, ('k', 'er'): 241, ('l', 'ist'): 242, ('val', 'ue'): 243, ('u', 'se'): 244, ('featu', 'res'): 245, ('agg', 'le'): 246, ('al', 'se'): 247, ('ou', 'r'): 248, ('o', 's'): 249, ('th', 'is'): 250, ('s', 'o'): 251, ('p', 'at'): 252, ('F', 'alse'): 253, ('ac', 'k'): 254, ('l', 'i'): 255, ('sk', 'learn'): 256, ('as', 'si'): 257, ('me', 'an'): 258, ('u', 's'): 259, ('or', 'y'): 260, ('ti', 'me'): 261, ('im', 'age'): 262, ('and', 'om'): 263, ('t', 'ext'): 264, ('k', 'aggle'): 265, ('ty', 'pe'): 266, ('d', 'rop'): 267, ('p', 're'): 268, ('r', 'ame'): 269, ('I', 'n'): 270, ('ap', 'p'): 271, ('he', 'ad'): 272, ('a', 'se'): 273, ('es', 't'): 274, ('predic', 't'): 275, ('l', 'es'): 276, ('e', 'ar'): 277, ('s', 'or'): 278, ('o', 'p'): 279, ('r', 'ange'): 280, ('assi', 'fi'): 281, ('re', 'n'): 282, ('f', 'ont'): 283, ('i', 'p'): 284, ('fig', 'size'): 285, ('d', 'is'): 286, ('lo', 'w'): 287, ('l', 'ay'): 288, ('1', '00'): 289, ('b', 'er'): 290, ('m', 'ent'): 291, ('_', 'data'): 292, ('ac', 'h'): 293, ('s', '_'): 294, ('wi', 'll'): 295, ('ic', 'e'): 296, ('_', 'csv'): 297, ('g', 'ro'): 298, ('am', 'ple'): 299, ('pl', 'it'): 300, ('ou', 'n'): 301, ('ha', 've'): 302, ('1', '2'): 303, ('in', 'd'): 304, ('ol', 'd'): 305, ('_', 's'): 306, ('t', 'e'): 307, ('i', 'es'): 308, ('d', 'o'): 309, ('ad', 'd'): 310, ('ar', 'y'): 311, ('at', 'ch'): 312, ('t', 'ar'): 313, ('lo', 'ss'): 314, ('re', 'l'): 315, ('g', 'res'): 316, ('y', 'ou'): 317, ('fi', 't'): 318, ('o', 're'): 319, ('cl', 'ass'): 320, ('m', 'is'): 321, ('1', '5'): 322, ('o', 'k'): 323, ('o', 'g'): 324, ('s', 'um'): 325, ('tr', 'ans'): 326, ('m', 'in'): 327, ('C', 'l'): 328, ('ro', 'w'): 329, ('d', 'a'): 330, ('o', 'd'): 331, ('coun', 't'): 332, ('it', 'y'): 333, ('am', 'es'): 334, ('l', 'ib'): 335, ('un', 'd'): 336, ('featu', 're'): 337, ('m', 'a'): 338, ('val', 'id'): 339, ('ht', 't'): 340, ('tr', 'ib'): 341, ('ig', 'h'): 342, ('i', 'r'): 343, ('v', 'ari'): 344, ('u', 'al'): 345, ('n', '_'): 346, ('x', '_'): 347, ('c', 'or'): 348, ('o', 'b'): 349, ('an', 'ce'): 350, ('T', 'h'): 351, ('ate', 'g'): 352, ('app', 'end'): 353, ('w', 'ord'): 354, ('_', 'df'): 355, ('pl', 'ace'): 356, ('y_', 'train'): 357, ('b', 'ar'): 358, ('htt', 'ps'): 359, ('_', 'size'): 360, ('v', 'ed'): 361, ('cur', 'ac'): 362, ('r', 'i'): 363, ('fig', 'ure'): 364, ('c', 'i'): 365, ('ap', 'pl'): 366, ('read', '_csv'): 367, ('pro', 'ces'): 368, ('label', 's'): 369, ('im', 'g'): 370, ('t', 'f'): 371, ('we', 'et'): 372, ('res', 'ul'): 373, ('m', 'ap'): 374, ('b', 'r'): 375, ('r', 'andom'): 376, ('m', 'al'): 377, ('ag', 'es'): 378, ('t', 'or'): 379, ('at', 'i'): 380, ('tion', 's'): 381, ('X_', 'train'): 382, ('b', 'atch'): 383, ('pat', 'h'): 384, ('c', 'al'): 385, ('t', 'weet'): 386, ('t', 'a'): 387, ('tr', 'ic'): 388, ('c', 're'): 389, ('s', 'plit'): 390, ('W', 'e'): 391, ('_', 'st'): 392, ('sub', 'plot'): 393, ('w', 'or'): 394, ('ab', 'le'): 395, ('ti', 'm'): 396, ('a', 'u'): 397, ('to', 'p'): 398, ('y_', 'test'): 399, ('re', 'e'): 400, ('2', '5'): 401, ('ker', 'as'): 402, ('trib', 'u'): 403, ('u', 'st'): 404, ('trans', 'form'): 405, ('w', 'w'): 406, ('c', 'at'): 407, ('ic', 'al'): 408, ('out', 'put'): 409, ('g', 'o'): 410, ('_', '_'): 411, ('ic', 't'): 412, ('gro', 'up'): 413, ('f', 'un'): 414, ('s', 'p'): 415, ('d', 'ing'): 416, ('assifi', 'er'): 417, ('for', 'mat'): 418, ('C', 'on'): 419, ('ic', 'h'): 420, ('ne', 'w'): 421, ('pl', 'ay'): 422, ('n', 'o'): 423, ('val', '_'): 424, ('c', 'ateg'): 425, ('th', 'er'): 426, ('as', 'k'): 427, ('ti', 'ck'): 428, ('an', 'y'): 429, ('M', 'o'): 430, ('h', 'ist'): 431, ('g', 'en'): 432, ('q', 'ue'): 433, ('ac', 'curac'): 434, ('coun', 'ts'): 435, ('re', 'g'): 436, ('a', 'v'): 437, ('tar', 'get'): 438, ('t', 'em'): 439, ('Re', 'gres'): 440, ('id', 'th'): 441, ('qu', 'en'): 442, ('p', 'u'): 443, ('iz', 'er'): 444, ('g', 'end'): 445, ('c', 'v'): 446, ('_', 'model'): 447, ('ur', 'vi'): 448, ('font', 'size'): 449, ('ul', 'l'): 450, ('wor', 'k'): 451, ('tr', 'y'): 452, ('lo', 'g'): 453, ('n', 'a'): 454, ('v', 'ation'): 455, ('c', 'r'): 456, ('ar', 'r'): 457, ('al', 'y'): 458, ('ge', 't_'): 459, ('line', 'ar'): 460, ('num', 'ber'): 461, ('or', 's'): 462, ('d', 'ate'): 463, ('t', 'en'): 464, ('me', 'tric'): 465, ('_', 'f'): 466, ('fi', 'le'): 467, ('D', 'e'): 468, ('ar', 'd'): 469, ('wh', 'ich'): 470, ('Th', 'is'): 471, ('F', 'rame'): 472, ('ar', 't'): 473, ('N', 'one'): 474, ('en', 'se'): 475, ('sc', 'al'): 476, ('p', 'i'): 477, ('el', 'se'): 478, ('c', 'ent'): 479, ('he', 're'): 480, ('re', 'ct'): 481, ('l', 'am'): 482, ('po', 'ch'): 483, ('I', 'm'): 484, ('lay', 'ers'): 485, ('w', 'idth'): 486, ('C', 'oun'): 487, ('fi', 'len'): 488, ('un', 'i'): 489, ('lo', 'ad'): 490, ('y', 'ear'): 491, ('max', '_'): 492, ('num', 'py'): 493, ('d', 'er'): 494, ('am', 's'): 495, ('y', 'label'): 496, ('mo', 're'): 497, ('Data', 'Frame'): 498, ('it', 'e'): 499, ('fe', 'ren'): 500, ('plot', 'lib'): 501, ('S', 'e'): 502, ('ax', 'es'): 503, ('arr', 'ay'): 504, ('train', 'ing'): 505, ('u', 'sing'): 506, ('or', 'mal'): 507, ('ti', 'c'): 508, ('Cl', 'assifier'): 509, ('X_', 'test'): 510, ('th', 'on'): 511, ('se', 'le'): 512, ('tor', 'ch'): 513, ('in', 'al'): 514, ('s', 'er'): 515, ('b', 'l'): 516, ('e', 'w'): 517, ('p', 'res'): 518, ('train_', 'df'): 519, ('b', 'da'): 520, ('fi', 'r'): 521, ('x', 'label'): 522, ('e', 'poch'): 523, ('is', 'ion'): 524, ('at', 'ing'): 525, ('mat', 'plotlib'): 526, ('model', '_'): 527, ('and', 'as'): 528, ('lam', 'bda'): 529, ('im', 'ages'): 530, ('_', 'counts'): 531, ('to', '_'): 532, ('d', 'u'): 533, ('proces', 'sing'): 534, ('m', 'ar'): 535, ('ac', 'ti'): 536, ('e', 'ach'): 537, ('b', 'et'): 538, ('A', 'T'): 539, ('i', 'ze'): 540, ('b', 'in'): 541, ('h', 'as'): 542, ('colum', 'n'): 543, ('value', '_counts'): 544, ('Mo', 'del'): 545, ('c', 'ation'): 546, ('model', 's'): 547, ('1', '6'): 548, ('_', 'id'): 549, ('y', 'le'): 550, ('f', 'lo'): 551, ('d', 'es'): 552, ('categ', 'or'): 553, ('metric', 's'): 554, ('l', 'd'): 555, ('E', 'n'): 556, ('tem', 'p'): 557, ('y_', 'pred'): 558, ('fun', 'ction'): 559, ('di', 'r'): 560, ('A', 'ge'): 561, ('e', 'p'): 562, ('ation', 's'): 563, ('c', 'le'): 564, ('p', 'andas'): 565, ('tribu', 'tion'): 566, ('d', 'ict'): 567, ('n', 'el'): 568, ('S', 't'): 569, ('F', 'or'): 570, ('we', 'ight'): 571, ('appl', 'y'): 572, ('st', 'yle'): 573, ('er', 'r'): 574, ('f', 'o'): 575, ('ri', 'x'): 576, ('con', 't'): 577, ('ter', 's'): 578, ('Tr', 'ain'): 579, ('s', 'ample'): 580, ('gen', 'er'): 581, ('b', 'ack'): 582, ('gr', 'id'): 583, ('uni', 'que'): 584, ('at', 'ed'): 585, ('d', 'if'): 586, ('arn', 'ing'): 587, ('m', 'on'): 588, ('num', '_'): 589, ('en', 'ti'): 590, ('t', 'ing'): 591, ('f', 'rame'): 592, ('j', 'e'): 593, ('t', 'al'): 594, ('mis', 'sion'): 595, ('c', 'ision'): 596, ('N', 'um'): 597, ('st', 'at'): 598, ('g', 'i'): 599, ('ic', 'k'): 600, ('urvi', 'ved'): 601, ('se', 'e'): 602, ('an', 't'): 603, ('batch', '_size'): 604, ('o', 'st'): 605, ('c', '_'): 606, ('en', 'g'): 607, ('co', 'de'): 608, ('am', 'pl'): 609, ('g', 'b'): 610, ('po', 'si'): 611, ('bo', 'ok'): 612, ('ent', 's'): 613, ('h', 'ow'): 614, ('data', '_'): 615, ('en', 'ce'): 616, ('so', 'me'): 617, ('e', 'f'): 618, ('h', 'igh'): 619, ('d', 'im'): 620, ('di', 'rect'): 621, ('_', 'r'): 622, ('flo', 'at'): 623, ('c', 'as'): 624, ('c', 'y'): 625, ('b', 'ut'): 626, ('1', '9'): 627, ('a', 'i'): 628, ('on', 'ly'): 629, ('in', 'place'): 630, ('accurac', 'y'): 631, ('m', 'er'): 632, ('I', 'D'): 633, ('c', 'a'): 634, ('to', 'tal'): 635, ('j', 'o'): 636, ('le', 'gend'): 637, ('n', 'n'): 638, ('l', 'in'): 639, ('i', 'loc'): 640, ('o', 'ver'): 641, ('pu', 't_'): 642, ('an', 'aly'): 643, ('pro', 'b'): 644, ('b', 'ase'): 645, ('le', 'd'): 646, ('as', 'on'): 647, ('mis', 'sing'): 648, ('group', 'by'): 649, ('si', 'g'): 650, ('c', 'all'): 651, ('G', 'B'): 652, ('ord', 'er'): 653, ('fi', 'les'): 654, ('s', 'a'): 655, ('ig', 'n'): 656, ('sub', 'mission'): 657, ('5', '0'): 658, ('mat', 'rix'): 659, ('f', 'ul'): 660, ('s', 'is'): 661, ('m', 'ask'): 662, ('in', 'i'): 663, ('bo', 'x'): 664, ('po', 'int'): 665, ('ro', 'und'): 666, ('f', 'old'): 667, ('ex', 'ample'): 668, ('L', 'o'): 669, ('ac', 't'): 670, ('k', 'en'): 671, ('n', 'g'): 672, ('ke', 'y'): 673, ('s', 'm'): 674, ('th', 'an'): 675, ('Regres', 'sion'): 676, ('acti', 'vation'): 677, ('l', 'ot'): 678, ('_st', 'ate'): 679, ('vi', 'ew'): 680, ('ab', 'les'): 681, ('h', 'el'): 682, ('valid', 'ation'): 683, ('op', 'tim'): 684, ('ch', 'e'): 685, ('E', 'x'): 686, ('I', 't'): 687, ('all', 'y'): 688, ('direct', 'ory'): 689, ('on', 'g'): 690, ('row', 's'): 691, ('n', 'ow'): 692, ('it', 'em'): 693, ('R', 'andom'): 694, ('jo', 'in'): 695, ('in', 'fo'): 696, ('as', 'type'): 697, ('use', 'd'): 698, ('w', 'r'): 699, ('he', 'ight'): 700, ('n', 'ull'): 701, ('ti', 've'): 702, ('ore', 'st'): 703, ('subplot', 's'): 704, ('rel', 'ation'): 705, ('co', 'der'): 706, ('th', 'od'): 707, ('resul', 'ts'): 708, ('d', 'ay'): 709, ('word', 's'): 710, ('err', 'or'): 711, ('dif', 'feren'): 712, ('hist', 'ory'): 713, ('at', 'es'): 714, ('fi', 'll'): 715, ('categor', 'ical'): 716, ('r', 'un'): 717, ('el', 'l'): 718, ('s', 'pe'): 719, ('the', 're'): 720, ('par', 'ame'): 721, ('ul', 'ar'): 722, ('3', '2'): 723, ('in', 'st'): 724, ('3', '0'): 725, ('mo', 'st'): 726, ('es', 's'): 727, ('it', 'er'): 728, ('random', '_state'): 729, ('num', 'er'): 730, ('a', 'red'): 731, ('col', 's'): 732, ('res', 'h'): 733, ('S', 'V'): 734, ('predic', 'tions'): 735, ('at', 'h'): 736, ('m', 'u'): 737, ('P', 'r'): 738, ('ou', 'ld'): 739, ('learn', 'ing'): 740, ('q', 'ues'): 741, ('1', '4'): 742, ('A', 'n'): 743, ('ww', 'w'): 744, ('v', 'is'): 745, ('iz', 'ation'): 746, ('s', 'ame'): 747, ('o', 'ther'): 748, ('u', 'b'): 749, ('b', 'ed'): 750, ('resul', 't'): 751, ('p', 'ha'): 752, ('ti', 'mat'): 753, ('re', 'place'): 754, ('d', 'ist'): 755, ('cre', 'ate'): 756, ('an', 'g'): 757, ('s', 'im'): 758, ('tick', 's'): 759, ('de', 'v'): 760, ('fir', 'st'): 761, ('n', 'ormal'): 762, ('in', 'to'): 763, ('1', '8'): 764, ('che', 'ck'): 765, ('W', 'h'): 766, ('e', 'book'): 767, ('vari', 'ables'): 768, ('G', 'r'): 769, ('assifi', 'cation'): 770, ('ro', 'ss'): 771, ('al', 'so'): 772, ('S', 'E'): 773, ('S', 'co'): 774, ('2', '00'): 775, ('P', 'y'): 776, ('V', 'al'): 777, ('at', 'or'): 778, ('we', 'en'): 779, ('com', 'p'): 780, ('ti', 'al'): 781, ('S', 'urvived'): 782, ('dis', 'tribution'): 783, ('f', 'low'): 784, ('ap', 'h'): 785, ('je', 'ct'): 786, ('f', 'f'): 787, ('py', 'plot'): 788, ('to', 'ken'): 789, ('me', 'thod'): 790, ('i', 'ly'): 791, ('bet', 'ween'): 792, ('predic', 'tion'): 793, ('p', 'x'): 794, ('in', 'put_'): 795, ('l', 'at'): 796, ('_', 'b'): 797, ('ker', 'nel'): 798, ('u', 'sion'): 799, ('filen', 'ame'): 800, ('cur', 'ren'): 801, ('ten', 'sor'): 802, ('df_', 'train'): 803, ('v', 'id'): 804, ('D', 'ense'): 805, ('it', 's'): 806, ('cle', 'an'): 807, ('F', 'e'): 808, ('fi', 't_'): 809, ('i', 'ent'): 810, ('z', 'ion'): 811, ('set_', 'index'): 812, ('l', 'r'): 813, ('train_', 'test_'): 814, ('train_test_', 'split'): 815, ('fi', 'l'): 816, ('de', 'd'): 817, ('hel', 'p'): 818, ('es', 'timat'): 819, ('P', 'red'): 820, ('sor', 't_'): 821, ('data', 'frame'): 822, ('al', 'pha'): 823, ('T', 'est'): 824, ('g', 'h'): 825, ('ati', 've'): 826, ('se', 'ed'): 827, ('at', 'ter'): 828, ('T', 'y'): 829, ('ac', 'tion'): 830, ('_', 're'): 831, ('sele', 'ction'): 832, ('S', 'T'): 833, ('a', 'f'): 834, ('des', 'cr'): 835, ('mo', 'de'): 836, ('ar', 'g'): 837, ('n', 'ames'): 838, ('ar', 'ch'): 839, ('test_', 'df'): 840, ('me', 'di'): 841, ('es', 't_'): 842, ('ver', 'y'): 843, ('_', 'score'): 844, ('Y', 'ou'): 845, ('F', 'orest'): 846, ('ma', 'ke'): 847, ('con', 'f'): 848, ('as', 't'): 849, ('id', 'x'): 850, ('vari', 'able'): 851, ('sco', 'res'): 852, ('P', 'ro'): 853, ('de', 'p'): 854, ('L', 'et'): 855, ('lo', 'ok'): 856, ('arning', 's'): 857, ('Pr', 'ice'): 858, ('le', 'f'): 859, ('Fe', 'atu'): 860, ('s', 'al'): 861, ('p', 'es'): 862, ('sort_', 'values'): 863, ('og', 'get'): 864, ('sc', 'atter'): 865, ('po', 's'): 866, ('6', '4'): 867, ('s', 'on'): 868, ('n', 'et'): 869, ('st', 'ate'): 870, ('or', 'n'): 871, ('L', 'ine'): 872, ('v', 'en'): 873, ('2', 'D'): 874, ('o', 'ol'): 875, ('y', 'our'): 876, ('th', 'es'): 877, ('end', 'ing'): 878, ('Ty', 'pe'): 879, ('me', 'd'): 880, ('not', 'ebook'): 881, ('py', 'thon'): 882, ('w', 'here'): 883, ('pre', 'processing'): 884, ('train_', 'data'): 885, ('_', 'train'): 886, ('C', 'h'): 887, ('ver', 'age'): 888, ('rel', 'u'): 889, ('1', '1'): 890, ('d', 's'): 891, ('ampl', 'es'): 892, ('_', 'p'): 893, ('w', 'arnings'): 894, ('v', 'el'): 895, ('int', 'er'): 896, ('A', 'c'): 897, ('R', 'es'): 898, ('epoch', 's'): 899, ('B', 'o'): 900, ('se', 'd'): 901, ('l', 'im'): 902, ('is', 'tic'): 903, ('n', 'on'): 904, ('a', 'k'): 905, ('z', 'er'): 906, ('Sco', 're'): 907, ('e', 'ps'): 908, ('m', 'any'): 909, ('st', 'art'): 910, ('cv', '2'): 911, ('D', 'is'): 912, ('m', 'l'): 913, ('L', 'e'): 914, ('gr', 'aph'): 915, ('A', 'd'): 916, ('us', 'to'): 917, ('am', 'ily'): 918, ('ou', 's'): 919, ('P', 'lot'): 920, ('ti', 'l'): 921, ('ab', 'orn'): 922, ('Num', 'ber'): 923, ('_', 'features'): 924, ('S', 'cal'): 925, ('t', 'w'): 926, ('pro', 'du'): 927, ('par', 'ams'): 928, ('con', 'cat'): 929, ('em', 'bed'): 930, ('df', '1'): 931, ('2', '1'): 932, ('r', 'f'): 933, ('S', 'al'): 934, ('cl', 'f'): 935, ('cor', 'r'): 936, ('I', 'M'): 937, ('ty', 'pes'): 938, ('Py', 'thon'): 939, ('dis', 'play'): 940, ('differen', 't'): 941, ('set_', 'title'): 942, ('li', 'ke'): 943, ('cl', 'assification'): 944, ('Im', 'age'): 945, ('dev', 'ice'): 946, ('C', 'om'): 947, ('se', 'quen'): 948, ('qu', 'ared'): 949, ('vi', 'r'): 950, ('Line', 'ar'): 951, ('I', 'd'): 952, ('ne', 'ed'): 953, ('re', 'set_index'): 954, ('ro', 't'): 955, ('lef', 't'): 956, ('model_', 'selection'): 957, ('co', 'py'): 958, ('00', '0'): 959, ('b', 'est'): 960, ('igh', 'b'): 961, ('f', 'ind'): 962, ('ver', 'bo'): 963, ('il', 'd'): 964, ('j', 'ust'): 965, ('und', 'er'): 966, ('the', 'y'): 967, ('N', 'e'): 968, ('or', 'i'): 969, ('I', 'N'): 970, ('low', 'er'): 971, ('lib', 'r'): 972, ('ul', 't'): 973, ('n', 'i'): 974, ('w', 'ay'): 975, ('appl', 'ic'): 976, ('t', 'ree'): 977, ('parame', 'ters'): 978, ('T', 'im'): 979, ('og', 'g'): 980, ('filen', 'ames'): 981, ('g', 'th'): 982, ('curren', 't'): 983, ('cl', 'u'): 984, ('as', 'c'): 985, ('w', 'as'): 986, ('ari', 'es'): 987, ('L', 'ab'): 988, ('ai', 'lab'): 989, ('ac', 'c'): 990, ('verbo', 'se'): 991, ('wh', 'en'): 992, ('b', 'le'): 993, ('wr', 'ite'): 994, ('C', 'O'): 995, ('f', 'inal'): 996, ('co', 'me'): 997, ('M', 'L'): 998, ('se', 'aborn'): 999, ('E', '_'): 1000, ('lay', 'out'): 1001, ('ic', 'es'): 1002, ('_', 'matrix'): 1003, ('fill', 'na'): 1004, ('medi', 'an'): 1005, ('ti', 'es'): 1006, ('av', 'ailab'): 1007, ('cent', 'er'): 1008, ('c', 'u'): 1009, ('The', 're'): 1010, ('mo', 've'): 1011, ('len', 'gth'): 1012, ('f', 're'): 1013, ('tr', 'ue'): 1014, ('optim', 'izer'): 1015, ('ce', 'p'): 1016, ('M', 'e'): 1017, ('asc', 'ending'): 1018, ('g', 're'): 1019, ('e', 'val'): 1020, ('Regres', 'sor'): 1021, ('m', 's'): 1022, ('el', 'if'): 1023, ('T', 'e'): 1024, ('the', 'm'): 1025, ('h', 'ue'): 1026, ('x', 'ticks'): 1027, ('a', 'w'): 1028, ('k', 'ind'): 1029, ('c', 'ross'): 1030, ('x_', 'train'): 1031, ('thes', 'e'): 1032, ('pl', 'o'): 1033, ('ti', 'cs'): 1034, ('dir', 'name'): 1035, ('per', 'form'): 1036, ('Lab', 'el'): 1037, ('S', 'h'): 1038, ('Data', 'set'): 1039, ('pe', 'ct'): 1040, ('2', '4'): 1041, ('A', 'M'): 1042, ('er', 'ate'): 1043, ('st', 'ar'): 1044, ('help', 'ful'): 1045, ('pr', 'ice'): 1046, ('1', '7'): 1047, ('Con', 'v'): 1048, ('p', 'ng'): 1049, ('is', 'null'): 1050, ('L', 'og'): 1051, ('f', 'ore'): 1052, ('N', 'ame'): 1053, ('ed', '_'): 1054, ('availab', 'le'): 1055, ('oun', 'd'): 1056, ('coun', 'try'): 1057, ('fit_', 'transform'): 1058, ('re', 'gres'): 1059, ('D', 'rop'): 1060, ('count', 'plot'): 1061, ('c', 'map'): 1062, ('c', 'ul'): 1063, ('tw', 'o'): 1064, ('E', 'm'): 1065, ('f', 'ol'): 1066, ('ighb', 'ors'): 1067, ('v', 'ing'): 1068, ('in', 'ce'): 1069, ('S', 'I'): 1070, ('ab', 's'): 1071, ('C', 'ol'): 1072, ('date', 'time'): 1073, ('conf', 'usion'): 1074, ('ach', 'ine'): 1075, ('d', 'en'): 1076, ('cas', 'es'): 1077, ('H', 'e'): 1078, ('dep', 'th'): 1079, ('ed', 'u'): 1080, ('tensor', 'flow'): 1081, ('se', 'ason'): 1082, ('cont', 'ain'): 1083, ('ab', 'out'): 1084, ('quen', 'cy'): 1085, ('co', 'ding'): 1086, ('wh', 'at'): 1087, ('P', 'er'): 1088, ('ab', 'il'): 1089, ('P', 'U'): 1090, ('ck', 'er'): 1091, ('descr', 'ib'): 1092, ('S', 'o'): 1093, ('resh', 'ape'): 1094, ('o', 'ple'): 1095, ('analy', 'sis'): 1096, ('S', '_'): 1097, ('vis', 'ual'): 1098, ('lo', 'b'): 1099, ('_', 't'): 1100, ('co', 'ef'): 1101, ('T', 'o'): 1102, ('a', 've'): 1103, ('Scal', 'er'): 1104, ('_', 'name'): 1105, ('1', '3'): 1106, ('_', 'test'): 1107, ('scal', 'e'): 1108, ('he', 'at'): 1109, ('b', 'u'): 1110, ('n', 'ing'): 1111, ('E', 'D'): 1112, ('rot', 'ation'): 1113, ('me', 'ans'): 1114, ('N', 'ormal'): 1115, ('ct', 'or'): 1116, ('u', 'pd'): 1117, ('bin', 's'): 1118, ('N', 'N'): 1119, ('C', 'H'): 1120, ('_', 'x'): 1121, ('add', '_'): 1122, ('ul', 'ti'): 1123, ('bl', 'ack'): 1124, ('e', 'k'): 1125, ('C', 'V'): 1126, ('add', 'ing'): 1127, ('mar', 'k'): 1128, ('en', 'tr'): 1129, ('cl', 'ust'): 1130, ('h', 'y'): 1131, ('ob', 'ject'): 1132, ('class', 'es'): 1133, ('p', 'on'): 1134, ('feature', '_'): 1135, ('k', 'now'): 1136, ('I', 'f'): 1137, ('x_', 'test'): 1138, ('en', 'um'): 1139, ('enum', 'erate'): 1140, ('M', 'ax'): 1141, ('o', 'c'): 1142, ('st', 'ep'): 1143, ('embed', 'ding'): 1144, ('_', 'error'): 1145, ('im', 'show'): 1146, ('Random', 'Forest'): 1147, ('A', 'R'): 1148, ('v', 'ar'): 1149, ('9', '9'): 1150, ('i', 'le'): 1151, ('tr', 'i'): 1152, ('le', 't'): 1153, ('au', 'to'): 1154, ('zion', 'e'): 1155, ('form', 'ation'): 1156, ('100', '0'): 1157, ('p', 'a'): 1158, ('F', 'are'): 1159, ('sc', 'i'): 1160, ('Train', 'ing'): 1161, ('cor', 'relation'): 1162, ('gr', 'am'): 1163, ('p', 'al'): 1164, ('box', 'plot'): 1165, ('in', 'clu'): 1166, ('d', 'type'): 1167, ('estimat', 'ors'): 1168, ('s', 'top'): 1169, ('fol', 'low'): 1170, ('0', '1'): 1171, ('describ', 'e'): 1172, ('r', 'ight'): 1173, ('wh', 'o'): 1174, ('O', 'N'): 1175, ('In', 'put'): 1176, ('g', 'ment'): 1177, ('stat', 's'): 1178, ('N', 'o'): 1179, ('out', 'li'): 1180, ('N', 'ot'): 1181, ('ut', 'e'): 1182, ('sm', 't'): 1183, ('of', 'f'): 1184, ('en', 'sion'): 1185, ('y_', 'score'): 1186, ('an', 'not'): 1187, ('De', 'cision'): 1188, ('ca', 'use'): 1189, ('P', 'ar'): 1190, ('p', 'ass'): 1191, ('X', 'GB'): 1192, ('Coun', 't'): 1193, ('lin', 'es'): 1194, ('sample', '_'): 1195, ('p', 'ol'): 1196, ('par', 'am'): 1197, ('mon', 'th'): 1198, ('ques', 'tion'): 1199, ('Log', 'istic'): 1200, ('_r', 'ate'): 1201, ('heat', 'map'): 1202, ('me', 'm'): 1203, ('v', 'ot'): 1204, ('D', 'ate'): 1205, ('th', 'ub'): 1206, ('upd', 'ate'): 1207, ('mar', 'ker'): 1208, ('up', 'per'): 1209, ('T', 'ree'): 1210, ('2', 'f'): 1211, ('plot', '_'): 1212, ('B', 'smt'): 1213, ('T', '_'): 1214, ('P', 're'): 1215, ('b', 'est_'): 1216, ('the', 'ir'): 1217, ('C', 'A'): 1218, ('Featu', 're'): 1219, ('ol', 'u'): 1220, ('fir', 'med'): 1221, ('4', '0'): 1222, ('accurac', 'y_score'): 1223, ('T', 'ot'): 1224, ('Im', 'port'): 1225, ('as', 'es'): 1226, ('k', 'ed'): 1227, ('_', 'y'): 1228, ('sa', 've'): 1229, ('A', 'l'): 1230, ('pred', 's'): 1231, ('an', 'k'): 1232, ('ab', 'in'): 1233, ('gro', 'und'): 1234, ('ip', 'el'): 1235, ('j', 'son'): 1236, ('str', 'ing'): 1237, ('gi', 'thub'): 1238, ('C', 're'): 1239, ('tr', 'ace'): 1240, ('ex', 'pl'): 1241, ('df_', 'test'): 1242, ('year', 's'): 1243, ('SI', 'Z'): 1244, ('w', 'ould'): 1245, ('r', 'ate'): 1246, ('ab', 'o'): 1247, ('ge', 'ts'): 1248, ('n', 'an'): 1249, ('U', 'n'): 1250, ('Y', 'ear'): 1251, ('u', 'ff'): 1252, ('ipel', 'ine'): 1253, ('st', 'd'): 1254, ('k', 'de'): 1255, ('en', 't_'): 1256, ('m', 'ag'): 1257, ('al', '_'): 1258, ('wh', 'ite'): 1259, ('ic', 'tion'): 1260, ('gr', 'ad'): 1261, ('f', 'amily'): 1262, ('o', 'se'): 1263, ('b', 'el'): 1264, ('th', 'ing'): 1265, ('pat', 'i'): 1266, ('libr', 'aries'): 1267, ('and', 'ard'): 1268, ('s', 'v'): 1269, ('en', 'coder'): 1270, ('m', 'ary'): 1271, ('SIZ', 'E'): 1272, ('ou', 'd'): 1273, ('Drop', 'out'): 1274, ('R', 'E'): 1275, ('in', 'formation'): 1276, ('re', 'name'): 1277, ('f', 'a'): 1278, ('f', 'r'): 1279, ('re', 'view'): 1280, ('ver', 'sion'): 1281, ('Lo', 'ad'): 1282, ('regres', 'sion'): 1283, ('ex', 'tr'): 1284, ('N', 'et'): 1285, ('sele', 'ct'): 1286, ('base', 'd'): 1287, ('T', 'it'): 1288, ('an', 'ti'): 1289, ('s', 'ort'): 1290, ('p', 'adding'): 1291, ('et', 'te'): 1292, ('V', 'is'): 1293, ('fi', 'ed'): 1294, ('vi', 'de'): 1295, ('ol', 's'): 1296, ('confusion', '_matrix'): 1297, ('N', 'ow'): 1298, ('a', 'verage'): 1299, ('plo', 'y'): 1300, ('lay', 'er'): 1301, ('do', 'es'): 1302, ('dim', 'ension'): 1303, ('ac', 'tor'): 1304, ('spe', 'ci'): 1305, ('S', 'ex'): 1306, ('ax', 's'): 1307, ('uff', 'le'): 1308, ('D', 'E'): 1309, ('w', 'ard'): 1310, ('al', 'ign'): 1311, ('Ac', 'curac'): 1312, ('Accurac', 'y'): 1313, ('Wh', 'at'): 1314, ('An', 'aly'): 1315, ('per', 'cent'): 1316, ('re', 'st'): 1317, ('ser', 'ies'): 1318, ('abo', 've'): 1319, ('m', 'y'): 1320, ('bl', 'ue'): 1321, ('q', 'r'): 1322, ('i', 'se'): 1323, ('numer', 'ic'): 1324, ('r', 'c'): 1325, ('9', '0'): 1326, ('n_', 'estimators'): 1327, ('le', 'vel'): 1328, ('ear', 'ch'): 1329, ('C', 'o'): 1330, ('_', 'in'): 1331, ('de', 'te'): 1332, ('cal', 'cul'): 1333, ('Coun', 'try'): 1334, ('mer', 'ge'): 1335, ('A', 's'): 1336, ('weight', 's'): 1337, ('Tot', 'al'): 1338, ('def', 'in'): 1339, ('test_', 'size'): 1340, ('lo', 'ck'): 1341, ('si', 'de'): 1342, ('g', 'ori'): 1343, ('gori', 'th'): 1344, ('P', 'ool'): 1345, ('we', 're'): 1346, ('P', 'class'): 1347, ('x', 'gb'): 1348, ('C', 'SV'): 1349, ('o', '_'): 1350, ('8', '0'): 1351, ('in', 'cre'): 1352, ('atu', 's'): 1353, ('c', 'usto'): 1354, ('r', 'ating'): 1355, ('if', 't'): 1356, ('25', '5'): 1357, ('predict', 'ed'): 1358, ('s', 'es'): 1359, ('e', 'le'): 1360, ('sh', 'ould'): 1361, ('ogget', 'ti'): 1362, ('th', 'en'): 1363, ('abil', 'ity'): 1364, ('max_', 'depth'): 1365, ('as', 'ter'): 1366, ('outli', 'ers'): 1367, ('5', '00'): 1368, ('pe', 'ople'): 1369, ('categ', 'ory'): 1370, ('Conv', '2D'): 1371, ('d', 'um'): 1372, ('G', 'en'): 1373, ('d', 't'): 1374, ('R', 'O'): 1375, ('fil', 'ter'): 1376, ('applic', 'ation'): 1377, ('to', '_csv'): 1378, ('h', 'o'): 1379, ('gend', 'er'): 1380, ('pres', 'ent'): 1381, ('bet', 'ter'): 1382, ('c', 'm'): 1383, ('S', 'er'): 1384, ('G', 'E'): 1385, ('2', '8'): 1386, ('scal', 'ed'): 1387, ('vir', 'on'): 1388, ('12', '8'): 1389, ('S', 'p'): 1390, ('quared', '_error'): 1391, ('form', 'a'): 1392, ('fe', 'ct'): 1393, ('ch', 'ange'): 1394, ('ch', 'ar'): 1395, ('m', 'ain'): 1396, ('C', 'he'): 1397, ('produ', 'ct'): 1398, ('co', 'lo'): 1399, ('ver', 't'): 1400, ('be', 'cause'): 1401, ('n', 'l'): 1402, ('com', 'es'): 1403, ('ini', 't_'): 1404, ('point', 's'): 1405, ('t', 'ask'): 1406, ('en', 'viron'): 1407, ('A', 'll'): 1408, ('ign', 'ore'): 1409, ('t', 'q'): 1410, ('tq', 'd'): 1411, ('tqd', 'm'): 1412, ('f', 'ace'): 1413, ('0', '5'): 1414, ('m', 'i'): 1415, ('proces', 's'): 1416, ('fi', 'ci'): 1417, ('al', 's'): 1418, ('Gr', 'id'): 1419, ('ser', 'vation'): 1420, ('f', 'ull'): 1421, ('mean', '_s'): 1422, ('mean_s', 'quared_error'): 1423, ('sh', 'uffle'): 1424, ('ax', '1'): 1425, ('c', 't_'): 1426, ('w', 'ant'): 1427, ('p', 'ack'): 1428, ('ow', 'n'): 1429, ('sum', 'mary'): 1430, ('20', '20'): 1431, ('h', 'ou'): 1432, ('our', 'ce'): 1433, ('numer', 'ical'): 1434, ('sal', 'es'): 1435, ('gener', 'ator'): 1436, ('color', 's'): 1437, ('c', 'ar'): 1438, ('se', 'ver'): 1439, ('6', '0'): 1440, ('c', 'ase'): 1441, ('S', 'earch'): 1442, ('Tim', 'e'): 1443, ('ing', '_'): 1444, ('dist', 'plot'): 1445, ('t', 'ab'): 1446, ('b', 'a'): 1447, ('Q', 'ual'): 1448, ('m', 'ulti'): 1449, ('s', 'qr'): 1450, ('sqr', 't'): 1451, ('C', 'abin'): 1452, ('er', 'ing'): 1453, ('ex', 'p'): 1454, ('eval', 'u'): 1455, ('ex', 'per'): 1456, ('Tit', 'le'): 1457, ('ta', 'ke'): 1458, ('se', 'arch'): 1459, ('Dis', 'tribution'): 1460, ('F', 'old'): 1461, ('B', 'u'): 1462, ('F', 're'): 1463, ('work', 'ing'): 1464, ('h', 'ot'): 1465, ('pre', 'vi'): 1466, ('com', 'pl'): 1467, ('af', 'ter'): 1468, ('bar', 'ked'): 1469, ('train_', 'csv'): 1470, ('_s', 'plit'): 1471, ('en', 'coding'): 1472, ('zer', 'os'): 1473, ('me', 'ta'): 1474, ('re', 'move'): 1475, ('h', '1'): 1476, ('4', '2'): 1477, ('c', 'ed'): 1478, ('s', 'ur'): 1479, ('Che', 'ck'): 1480, ('O', 'R'): 1481, ('input', 's'): 1482, ('r', 'aw'): 1483, ('n', 'b'): 1484, ('tr', 'ies'): 1485, ('op', 'en'): 1486, ('sp', 'ace'): 1487, ('Analy', 'sis'): 1488, ('si', 'ty'): 1489, ('er', '_'): 1490, ('p', 'or'): 1491, ('qu', 'al'): 1492, ('En', 'coder'): 1493, ('u', 'til'): 1494, ('str', 'u'): 1495, ('sever', 'al'): 1496, ('int', 'e'): 1497, ('com', 'pi'): 1498, ('all', '_data'): 1499, ('u', 'ps'): 1500, ('em', 'ploy'): 1501, ('back', 'ground'): 1502, ('v', 'es'): 1503, ('im', 'mag'): 1504, ('colo', 're'): 1505, ('j', 'ob'): 1506, ('go', 'od'): 1507, ('or', 'g'): 1508, ('M', 'SE'): 1509, ('bo', 'ost'): 1510, ('d', 'types'): 1511, ('Bo', 'ost'): 1512, ('T', 'E'): 1513, ('F', 'in'): 1514, ('al', 'gorith'): 1515, ('an', 'ces'): 1516, ('call', 'back'): 1517, ('set_', 'ylabel'): 1518, ('environ', 'ment'): 1519, ('train', 'ed'): 1520, ('n', 'ext'): 1521, ('tar', 'get_'): 1522, ('valid', '_'): 1523, ('or', 'ing'): 1524, ('g', 'lob'): 1525, ('ces', 's'): 1526, ('output', 's'): 1527, ('is', 'to'): 1528, ('t_', 'df'): 1529, ('defin', 'ed'): 1530, ('C', 'or'): 1531, ('su', 'p'): 1532, ('feren', 'ce'): 1533, ('ta', 'il'): 1534, ('ne', 'g'): 1535, ('m', 'ay'): 1536, ('pal', 'ette'): 1537, ('br', 'a'): 1538, ('se', '_'): 1539, ('1', 'e'): 1540, ('do', 'cker'): 1541, ('se', 'con'): 1542, ('re', 'f'): 1543, ('mu', 'ch'): 1544, ('a', '_'): 1545, ('di', 'v'): 1546, ('Em', 'barked'): 1547, ('red', 'u'): 1548, ('re', 'c'): 1549, ('ob', 'j'): 1550, ('id', 'ge'): 1551, ('pl', 'ic'): 1552, ('g', 'er'): 1553, ('A', 're'): 1554, ('id', 'den'): 1555, ('__', '__'): 1556, ('__', 'init_'): 1557, ('__init_', '_'): 1558, ('v', 's'): 1559, ('mal', 'e'): 1560, ('compi', 'le'): 1561, ('in', 'ess'): 1562, ('ar', 'age'): 1563, ('scal', 'er'): 1564, ('m', 'p'): 1565, ('or', 'm'): 1566, ('_', 'c'): 1567, ('pre', 'cision'): 1568, ('val_', 'loss'): 1569, ('f', '1'): 1570, ('al', 'ge'): 1571, ('alge', 'bra'): 1572, ('float', '32'): 1573, ('f', 'c'): 1574, ('al', 'k'): 1575, ('il', 'ar'): 1576, ('ch', 'es'): 1577, ('qu', 'i'): 1578, ('g', 'in'): 1579, ('net', 'work'): 1580, ('par', 't'): 1581, ('bar', 'plot'): 1582, ('p', 'ad'): 1583, ('i', 'de'): 1584, ('analy', 'tics'): 1585, ('reg', 'ular'): 1586, ('di', 'tion'): 1587, ('token', 'izer'): 1588, ('D', 'o'): 1589, ('fre', 'quency'): 1590, ('cl', 'ick'): 1591, ('sa', 'ved'): 1592, ('Pred', 'ict'): 1593, ('z', 'ip'): 1594, ('p', '_'): 1595, ('is', 'h'): 1596, ('Ser', 'ies'): 1597, ('le', 'ase'): 1598, ('run', 'ning'): 1599, ('St', 'andard'): 1600, ('l', 'ight'): 1601, ('t', 'un'): 1602, ('import', 'ance'): 1603, ('s', 'of'): 1604, ('u', 'd'): 1605, ('olu', 'tion'): 1606, ('bel', 'ow'): 1607, ('plot', 'ly'): 1608, ('ch', 'or'): 1609, ('m', 'an'): 1610, ('m', 'se'): 1611, ('F', 'i'): 1612, ('A', 't'): 1613, ('sequen', 'ces'): 1614, ('Re', 'g'): 1615, ('G', 'arage'): 1616, ('im', 'um'): 1617, ('linear', '_model'): 1618, ('m', 'ble'): 1619, ('learning', '_rate'): 1620, ('_re', 'port'): 1621, ('Se', 'quen'): 1622, ('_', 'list'): 1623, ('Te', 'am'): 1624, ('Vis', 'ual'): 1625, ('ar', 'ange'): 1626, ('high', 'er'): 1627, ('pack', 'ages'): 1628, ('w', 'on'): 1629, ('r', 'r'): 1630, ('urvi', 'val'): 1631, ('A', 'U'): 1632, ('s', 'to'): 1633, ('h', 'idden'): 1634, ('st', 'ack'): 1635, ('RandomForest', 'Classifier'): 1636, ('ke', 'w'): 1637, ('M', 'is'): 1638, ('J', 'H'): 1639, ('Val', 'ue'): 1640, ('follow', 'ing'): 1641, ('ro', 'u'): 1642, ('A', 'u'): 1643, ('test_', 'data'): 1644, ('th', 'resh'): 1645, ('_', 'SIZE'): 1646, ('_', 'count'): 1647, ('7', '5'): 1648, ('contain', 's'): 1649, ('we', 'ek'): 1650, ('2', '2'): 1651, ('les', 's'): 1652, ('Tr', 'ans'): 1653, ('con', 'v'): 1654, ('f', 'l'): 1655, ('st', 'and'): 1656, ('av', 'el'): 1657, ('cep', 't'): 1658, ('g', 'ame'): 1659, ('classification', '_report'): 1660, ('O', 'ut'): 1661, ('id', 's'): 1662, ('sp', 'an'): 1663, ('entr', 'o'): 1664, ('lat', 'ten'): 1665, ('per', '_'): 1666, ('an', 'nel'): 1667, ('S', 'ub'): 1668, ('S', 'et'): 1669, ('ini', 'tial'): 1670, ('bo', 'th'): 1671, ('pa', 'ir'): 1672, ('t', 'ex'): 1673, ('w', 'alk'): 1674, ('po', 'se'): 1675, ('k', 'es'): 1676, ('po', 'p'): 1677, ('pi', 'e'): 1678, ('k', 'ing'): 1679, ('c', 'er'): 1680, ('n', 'orm'): 1681, ('ro', 'c_'): 1682, ('Logistic', 'Regression'): 1683, ('qu', 'anti'): 1684, ('posi', 'tive'): 1685, ('S', 'pe'): 1686, ('fi', 'c'): 1687, ('Gen', 'er'): 1688, ('Are', 'a'): 1689, ('ip', 'tion'): 1690, ('s', 'y'): 1691, ('to', 'list'): 1692, ('c', 'lo'): 1693, ('reg', 'ion'): 1694, ('do', 'c'): 1695, ('N', 'ew'): 1696, ('Sequen', 'tial'): 1697, ('def', 'a'): 1698, ('Le', 'arning'): 1699, ('cl', 'assifier'): 1700, ('at', 'tribu'): 1701, ('P', 'O'): 1702, ('D', 'AT'): 1703, ('Standard', 'Scaler'): 1704, ('su', 're'): 1705, ('l', 'ast'): 1706, ('m', 'achine'): 1707, ('ati', 'o'): 1708, ('res', 'pon'): 1709, ('c', 'ies'): 1710, ('d', 'at'): 1711, ('E', 'N'): 1712, ('load', 'er'): 1713, ('P', 'o'): 1714, ('el', 'y'): 1715, ('U', 'S'): 1716, ('pos', 'si'): 1717, ('_', 'con'): 1718, ('Normal', 'ization'): 1719, ('callback', 's'): 1720, ('c', 'ell'): 1721, ('hy', 'per'): 1722, ('Se', 'ason'): 1723, ('He', 're'): 1724, ('isto', 'gram'): 1725, ('set', 's'): 1726, ('am', 'p'): 1727, ('_s', 'amples'): 1728, ('a', 'de'): 1729, ('st', 'eps'): 1730, ('Search', 'CV'): 1731, ('ig', 'inal'): 1732, ('ot', 'to'): 1733, ('drop', 'na'): 1734, ('is', '_'): 1735, ('ense', 'mble'): 1736, ('inclu', 'de'): 1737, ('tim', 'es'): 1738, ('w', 'in'): 1739, ('an', 'chor'): 1740, ('R', 'MSE'): 1741, ('ch', 'annel'): 1742, ('Sal', 'e'): 1743, ('normal', 'ize'): 1744, ('sim', 'ple'): 1745, ('cont', 'in'): 1746, ('rou', 'gh'): 1747, ('Cre', 'ate'): 1748, ('stat', 'is'): 1749, ('Ne', 'ighbors'): 1750, ('_', 'path'): 1751, ('I', 'ON'): 1752, ('e', 'very'): 1753, ('P', 'ass'): 1754, ('s', 'ent'): 1755, ('d', 'ur'): 1756, ('f', 'actor'): 1757, ('Q', 'u'): 1758, ('SV', 'C'): 1759, ('B', 'atch'): 1760, ('it', 'y_'): 1761, ('job', 's'): 1762, ('ch', 'ild'): 1763, ('Sh', 'ift'): 1764, ('_', 'index'): 1765, ('20', '15'): 1766, ('perform', 'ance'): 1767, ('20', '21'): 1768, ('zion', 'i'): 1769, ('R', 'un'): 1770, ('fi', 'x'): 1771, ('ord', 's'): 1772, ('or', 'iz'): 1773, ('ass', 'o'): 1774, ('are', 'a'): 1775, ('w', 'ell'): 1776, ('Me', 'an'): 1777, ('rf', 'm'): 1778, ('g', 'g'): 1779, ('ch', 'o'): 1780, ('com', 'bin'): 1781, ('Sal', 'ary'): 1782, ('G', 'et'): 1783, ('R', 'A'): 1784, ('mat', 'h'): 1785, ('Decision', 'Tree'): 1786, ('K', 'aggle'): 1787, ('click', 'ing'): 1788, ('En', 'ter'): 1789, ('previ', 'ous'): 1790, ('dataset', 's'): 1791, ('Ex', 'pl'): 1792, ('L', 'A'): 1793, ('line', 'width'): 1794, ('5', '12'): 1795, ('entro', 'py'): 1796, ('te', 'ch'): 1797, ('te', 'am'): 1798, ('he', 'art'): 1799, ('parame', 'ter'): 1800, ('g', '_'): 1801, ('all', '_features'): 1802, ('qu', 'are'): 1803, ('x', '1'): 1804, ('ht', 'ml'): 1805, ('um', 'ent'): 1806, ('iz', 'ed'): 1807, ('O', 'b'): 1808, ('inst', 'al'): 1809, ('instal', 'led'): 1810, ('y', 'lim'): 1811, ('inst', 'all'): 1812, ('R', 'ate'): 1813, ('util', 's'): 1814, ('p', 'ing'): 1815, ('sal', 'ary'): 1816, ('set_', 'xlabel'): 1817, ('b', 'order'): 1818, ('su', 'ch'): 1819, ('oriz', 'ont'): 1820, ('st', 'ud'): 1821, ('eng', 'er'): 1822, ('posi', 'zione'): 1823, ('pres', 'sing'): 1824, ('sim', 'ilar'): 1825, ('Val', 'id'): 1826, ('_', 'dim'): 1827, ('be', 'fore'): 1828, ('po', 'ol'): 1829, ('A', 'p'): 1830, ('s', 'urvived'): 1831, ('_', 'to_'): 1832, ('se', 'ction'): 1833, ('show', 's'): 1834, ('en', 'sor'): 1835, ('h', '2'): 1836, ('ses', 'sion'): 1837, ('cross', '_'): 1838, ('stru', 'ct'): 1839, ('ne', 'ighbors'): 1840, ('fe', 'at'): 1841, ('T', 'ar'): 1842, ('H', 'o'): 1843, ('ti', 'cal'): 1844, ('j', 'or'): 1845, ('ampl', 'ing'): 1846, ('l', 'ong'): 1847, ('df_', 'clean'): 1848, ('x', 'el'): 1849, ('th', 'rough'): 1850, ('C', 'usto'): 1851, ('s', 'mo'): 1852, ('prob', 'le'): 1853, ('s', 'kew'): 1854, ('t', 're'): 1855, ('immag', 'ine'): 1856, ('dum', 'm'): 1857, ('at', 'er'): 1858, ('b', 'ers'): 1859, ('M', 'A'): 1860, ('enti', 'ment'): 1861, ('Featu', 'res'): 1862, ('plot', 's'): 1863, ('gre', 'en'): 1864, ('AT', 'CH'): 1865, ('_', 'dict'): 1866, ('to', 'ur'): 1867, ('E', 'R'): 1868, ('l', 'gb'): 1869, ('le', 'ct'): 1870, ('cur', 've'): 1871, ('ou', 'gh'): 1872, ('O', 'r'): 1873, ('h', 'our'): 1874, ('b', 'ig'): 1875, ('K', 'Fold'): 1876, ('sci', 'py'): 1877, ('b', 'as'): 1878, ('co', 'ul'): 1879, ('coul', 'd'): 1880, ('Per', 'cent'): 1881, ('an', 'ic'): 1882, ('Col', 'um'): 1883, ('A', 'verage'): 1884, ('IM', 'A'): 1885, ('25', '6'): 1886, ('b', 'al'): 1887, ('h', 'and'): 1888, ('4', '5'): 1889, ('Bo', 'x'): 1890, ('par', 'tic'): 1891, ('defa', 'ult'): 1892, ('mo', 'vi'): 1893, ('import', 'ant'): 1894, ('gi', 'ven'): 1895, ('item', 's'): 1896, ('Max', 'Pool'): 1897, ('thresh', 'old'): 1898, ('M', 'on'): 1899, ('s', 'ince'): 1900, ('S', 'F'): 1901, ('dumm', 'ies'): 1902, ('ur', 'al'): 1903, ('ut', 'ure'): 1904, ('ur', 'ns'): 1905, ('key', 's'): 1906, ('con', 'vert'): 1907, ('i', 'o'): 1908, ('com', 'mon'): 1909, ('M', 'in'): 1910, ('th', 'ose'): 1911, ('c', 'ap'): 1912, ('estimat', 'or'): 1913, ('play', 'er'): 1914, ('in', 'line'): 1915, ('n', 'ess'): 1916, ('eng', 'ine'): 1917, ('B', 'ut'): 1918, ('_', 'color'): 1919, ('en', 'code'): 1920, ('c', 'tive'): 1921, ('20', '19'): 1922, ('B', 'ATCH'): 1923, ('d', '_'): 1924, ('oun', 't'): 1925, ('at', 't'): 1926, ('M', 'at'): 1927, ('d', 'on'): 1928, ('y_', 'true'): 1929, ('M', 'achine'): 1930, ('v', 'oc'): 1931, ('k', 'nn'): 1932, ('S', 'plit'): 1933, ('ex', 'pect'): 1934, ('d', 'ates'): 1935, ('et', 'e'): 1936, ('S', 'tr'): 1937, ('sig', 'n'): 1938, ('i', 'a'): 1939, ('K', 'Neighbors'): 1940, ('co', 'vid'): 1941, ('R', 'F'): 1942, ('igh', 't_'): 1943, ('in', 'come'): 1944, ('S', 'ave'): 1945, ('rel', 'ated'): 1946, ('cl', 'oud'): 1947, ('P', 'AT'): 1948, ('R', 'ating'): 1949, ('20', '17'): 1950, ('se', 'em'): 1951, ('wi', 'se'): 1952, ('g', 'n'): 1953, ('U', 'R'): 1954, ('Tar', 'get'): 1955, ('sm', 'all'): 1956, ('du', 'plic'): 1957, ('coun', 'tries'): 1958, ('di', 'se'): 1959, ('categor', 'ies'): 1960, ('Valid', 'ation'): 1961, ('b', 'lock'): 1962, ('ro', 'om'): 1963, ('s', 'amples'): 1964, ('voc', 'ab'): 1965, ('lin', 'k'): 1966, ('g', 'ree'): 1967, ('min', '_'): 1968, ('qu', 'er'): 1969, ('_', 'non'): 1970, ('fil', 'ters'): 1971, ('Lo', 'ss'): 1972, ('j', 'p'): 1973, ('secon', 'd'): 1974, ('ty', 'le'): 1975, ('neg', 'ative'): 1976, ('h', 'i'): 1977, ('V', 'ari'): 1978, ('l', 'and'): 1979, ('Sale', 'Price'): 1980, ('id', 'enti'): 1981, ('f', 'ound'): 1982, ('p', 'are'): 1983, ('ap', 'pro'): 1984, ('gro', 'ups'): 1985, ('T', 'O'): 1986, ('T', 'ensor'): 1987, ('sof', 't'): 1988, ('loc', 'ation'): 1989, ('fold', 's'): 1990, ('ure', 'au'): 1991, ('sc', 'oring'): 1992, ('char', 'ac'): 1993, ('al', 'e'): 1994, ('3', '00'): 1995, ('_', 'C'): 1996, ('O', 'ne'): 1997, ('cu', 'da'): 1998, ('od', 'u'): 1999, ('ac', 'es'): 2000, ('wh', 'ile'): 2001, ('c', 'f'): 2002, ('gener', 'ate'): 2003, ('y_', 'val'): 2004, ('lo', 'an'): 2005, ('om', 'an'): 2006, ('D', 'ay'): 2007, ('u', 'de'): 2008, ('V', 'e'): 2009, ('val_', 'score'): 2010, ('si', 'an'): 2011, ('St', 'ate'): 2012, ('jp', 'g'): 2013, ('ve', 'ctor'): 2014, ('p', 'ur'): 2015, ('de', 'ath'): 2016, ('re', 'call'): 2017, ('t', 'able'): 2018, ('cont', 'ent'): 2019, ('b', 'old'): 2020, ('read', 'y'): 2021, ('y', 'ticks'): 2022, ('tick', 'labels'): 2023, ('p', 'ip'): 2024, ('an', 'ts'): 2025, ('question', '_'): 2026, ('update', '_'): 2027, ('s', 'quare'): 2028, ('function', 's'): 2029, ('in', 'di'): 2030, ('i', 'e'): 2031, ('t', 'u'): 2032, ('s', 'ol'): 2033, ('pi', 'xel'): 2034, ('Linear', 'Regression'): 2035, ('m', 'en'): 2036, ('p', 'en'): 2037, ('im', 'put'): 2038, ('Grid', 'SearchCV'): 2039, ('fe', 'w'): 2040, ('C', 'ont'): 2041, ('ogget', 'to'): 2042, ('cor', 'rect'): 2043, ('R', 'et'): 2044, ('percent', 'age'): 2045, ('g', 'ames'): 2046, ('cas', 't'): 2047, ('s', 'ch'): 2048, ('sequen', 'ce'): 2049, ('go', 'ing'): 2050, ('day', 's'): 2051, ('7', '0'): 2052, ('T', 'AR'): 2053, ('TAR', 'GE'): 2054, ('u', 'res'): 2055, ('o', 'per'): 2056, ('high', 'est'): 2057, ('Batch', 'Normalization'): 2058, ('C', 'ateg'): 2059, ('P', 'I'): 2060, ('sing', 'le'): 2061, ('or', 'iginal'): 2062, ('re', 'qui'): 2063, ('d', 'ig'): 2064, ('ed', 'ge'): 2065, ('im', 'p'): 2066, ('categorical', '_'): 2067, ('Con', 'firmed'): 2068, ('gment', 'ation'): 2069, ('d', 'ot'): 2070, ('mo', 'ving'): 2071, ('be', 'en'): 2072, ('t', 'k'): 2073, ('predic', 't_'): 2074, ('_non', 'linear'): 2075, ('Label', 'Encoder'): 2076, ('GB', 'M'): 2077, ('drop', '_'): 2078, ('new', '_'): 2079, ('D', 'I'): 2080, ('z', 'z'): 2081, ('get_', 'dummies'): 2082, ('E', 'rr'): 2083, ('B', 'l'): 2084, ('Gr', 'ad'): 2085, ('end', 's'): 2086, ('de', 'cision'): 2087, ('d', 'own'): 2088, ('pe', 'ti'): 2089, ('20', '18'): 2090, ('b', 'i'): 2091, ('df', '2'): 2092, ('_', 'age'): 2093, ('i', '_'): 2094, ('su', 'per'): 2095, ('_', 'loss'): 2096, ('w', 'ind'): 2097, ('ing', 's'): 2098, ('posi', 'tion'): 2099, ('servation', 's'): 2100, ('ang', 'u'): 2101, ('D', 'A'): 2102, ('im', 'read'): 2103, ('ma', 'jor'): 2104, ('out', 'put_'): 2105, ('h', 'at'): 2106, ('pr', 'ices'): 2107, ('F', 'rom'): 2108, ('lines', 'tyle'): 2109, ('r', 'is'): 2110, ('n', 'er'): 2111, ('ans', 'w'): 2112, ('temp', 'or'): 2113, ('Cl', 'ass'): 2114, ('int', '64'): 2115, ('fici', 'ent'): 2116, ('f', 'y'): 2117, ('algorith', 'm'): 2118, ('G', 'end'): 2119, ('Gend', 'er'): 2120, ('use', 'ful'): 2121, ('O', 'n'): 2122, ('re', 'present'): 2123, ('ED', 'A'): 2124, ('A', 'L'): 2125, ('er', 't'): 2126, ('b', 'ureau'): 2127, ('PAT', 'H'): 2128, ('star', 't_'): 2129, ('ter', 'n'): 2130, ('im', 'pro'): 2131, ('ar', 'ly'): 2132, ('l', 'ar'): 2133, ('is', 'o'): 2134, ('20', '16'): 2135, ('3', '6'): 2136, ('l', 'y_'): 2137, ('O', 'ver'): 2138, ('L', 'ST'): 2139, ('LST', 'M'): 2140, ('b', 'ir'): 2141, ('quer', 'y'): 2142, ('00', '00'): 2143, ('ar', 'ound'): 2144, ('i', 'ties'): 2145, ('ment', 's'): 2146, ('_', 'type'): 2147, ('ter', 'm'): 2148, ('kernel', '_size'): 2149, ('_', 'params'): 2150, ('p', 'h'): 2151, ('cross_', 'val_score'): 2152, ('0', '2'): 2153, ('ar', 'k'): 2154, ('Pred', 'ic'): 2155, ('S', 'ib'): 2156, ('Sib', 'Sp'): 2157, ('BATCH', '_SIZE'): 2158, ('d', 'l'): 2159, ('b', 're'): 2160, ('ti', 'gh'): 2161, ('tigh', 't_'): 2162, ('tight_', 'layout'): 2163, ('t', 'mp'): 2164, ('me', 'as'): 2165, ('n_', 'jobs'): 2166, ('F', 'ir'): 2167, ('Fir', 'st'): 2168, ('no', '_'): 2169, ('ve', 'red'): 2170, ('app', 'iness'): 2171, ('5', '5'): 2172, ('Val', 'ues'): 2173, ('Pred', 'iction'): 2174, ('i', 'or'): 2175, ('Fre', 'quency'): 2176, ('dise', 'ase'): 2177, ('to', 'ols'): 2178, ('incre', 'ase'): 2179, ('ow', 'er'): 2180, ('N', 'a'): 2181, ('d', 'id'): 2182, ('sel', 'ine'): 2183, ('S', 'ize'): 2184, ('vari', 'ance'): 2185, ('p', 'un'): 2186, ('exper', 'im'): 2187, ('out', 'side'): 2188, ('ag', 's'): 2189, ('S', 'cat'): 2190, ('Scat', 'ter'): 2191, ('_', 'pred'): 2192, ('R', 'idge'): 2193, ('r', 'mse'): 2194, ('r', '2'): 2195, ('re', 'al'): 2196, ('sample_', 'submission'): 2197, ('m', 'ight'): 2198, ('ax', '2'): 2199, ('c', 'ity'): 2200, ('prob', 's'): 2201, ('In', 'di'): 2202, ('tar', 'gets'): 2203, ('dete', 'ction'): 2204, ('u', 'ally'): 2205, ('T', 'op'): 2206, ('P', 'arch'): 2207, ('x', 't'): 2208, ('od', 'es'): 2209, ('al', 'th'): 2210, ('ro', 'up'): 2211, ('custo', 'mer'): 2212, ('transform', 's'): 2213, ('f', 'li'): 2214, ('otto', 'm'): 2215, ('KNeighbors', 'Classifier'): 2216, ('x', 'g'): 2217, ('employ', 'ed'): 2218, ('T', 'RA'): 2219, ('I', 'T'): 2220, ('G', 'PU'): 2221, ('em', 'on'): 2222, ('multi', 'ple'): 2223, ('test', 'ing'): 2224, ('_', 'v'): 2225, ('co', 'vered'): 2226, ('input_', 'shape'): 2227, ('h', 'ref'): 2228, ('iso', 'de'): 2229, ('filter', 'warnings'): 2230, ('list', 'dir'): 2231, ('T', 'ick'): 2232, ('embedding', 's'): 2233, ('roc_', 'au'): 2234, ('C', 'T'): 2235, ('prob', 'ability'): 2236, ('clust', 'er'): 2237, ('D', 'es'): 2238, ('v', 'a'): 2239, ('a', 'us'): 2240, ('aus', 'sian'): 2241, ('S', 'ci'): 2242, ('ul', 'ts'): 2243, ('Pass', 'enger'): 2244, ('pi', 'vot'): 2245, ('_', 'range'): 2246, ('Err', 'or'): 2247, ('ation', 'al'): 2248, ('way', 's'): 2249, ('e', 'as'): 2250, ('under', 'stand'): 2251, ('DecisionTree', 'Classifier'): 2252, ('clust', 'ers'): 2253, ('s', 'ource'): 2254, ('di', 'o'): 2255, ('end', 'ent'): 2256, ('Grad', 'ient'): 2257, ('Te', 'ams'): 2258, ('til', 'de'): 2259, ('ke', 'ep'): 2260, ('Mo', 'st'): 2261, ('th', 'ree'): 2262, ('pl', 'ac'): 2263, ('us', 'er'): 2264, ('sv', 'm'): 2265, ('re', 'size'): 2266, ('sh', 'ip'): 2267, ('H', 'ow'): 2268, ('with', 'in'): 2269, ('ay', 'es'): 2270, ('mat', 'ch'): 2271, ('iz', 'ers'): 2272, ('X_', 'val'): 2273, ('comp', 'are'): 2274, ('Reg', 'ion'): 2275, ('Ad', 'd'): 2276, ('Team', 'ID'): 2277, ('y', '1'): 2278, ('De', 'f'): 2279, ('p', 'ick'): 2280, ('de', 'gree'): 2281, ('sig', 'ni'): 2282, ('signi', 'fi'): 2283, ('signifi', 'can'): 2284, ('M', 'O'): 2285, ('_', 'weight'): 2286, ('M', '_'): 2287, ('_', 'input'): 2288, ('rom', 'ot'): 2289, ('romot', 'ed'): 2290, ('f', 'm'): 2291, ('nl', 'tk'): 2292, ('atu', 're'): 2293, ('it', 'ude'): 2294, ('Tick', 'et'): 2295, ('an', 'ced'): 2296, ('with', 'out'): 2297, ('m', 'ers'): 2298, ('differen', 'ce'): 2299, ('DAT', 'A'): 2300, ('_', 'per_'): 2301, ('AM', 'T_'): 2302, ('ames', 'df'): 2303, ('Par', 'ams'): 2304, ('is', 'na'): 2305, ('ind', 'ic'): 2306, ('orizont', 'al'): 2307, ('d', 'iction'): 2308, ('Re', 'ad'): 2309, ('know', 'n'): 2310, ('g', 'y'): 2311, ('l', 'a'): 2312, ('movi', 'es'): 2313, ('n', '_split'): 2314, ('n_split', 's'): 2315, ('pat', 'ches'): 2316, ('ut', 'ed'): 2317, ('C', 'ases'): 2318, ('con', 'firmed'): 2319, ('Predict', 'ed'): 2320, ('p', 't'): 2321, ('com', 'peti'): 2322, ('st', 'em'): 2323, ('no', 'ise'): 2324, ('G', 'o'): 2325, ('kde', 'plot'): 2326, ('Mis', 'sing'): 2327, ('o', 'ost'): 2328, ('ind', 'ices'): 2329, ('mean', '_'): 2330, ('ha', 'ving'): 2331, ('sig', 'ht'): 2332, ('ateg', 'y'): 2333, ('gr', 'ay'): 2334, ('num', 'bers'): 2335, ('sort', 'ed'): 2336, ('vide', 'o'): 2337, ('P', 'A'): 2338, ('Ad', 'am'): 2339, ('_', 'file'): 2340, ('pres', 'er'): 2341, ('0', '3'): 2342, ('in', 'k'): 2343, ('si', 'd'): 2344, ('l', 'ing'): 2345, ('n', 'unique'): 2346, ('calcul', 'ate'): 2347, ('G', 'roup'): 2348, ('_st', 'eps'): 2349, ('to', 'c'): 2350, ('load', '_'): 2351, ('em', 'ent'): 2352, ('evalu', 'ate'): 2353, ('et', 'c'): 2354, ('redu', 'ce'): 2355, ('co', 'ur'): 2356, ('p', 'ipeline'): 2357, ('In', 'de'): 2358, ('w', 'c'): 2359, ('e', '_'): 2360, ('L', 'i'): 2361, ('img', '_'): 2362, ('ang', 'es'): 2363, ('se', 'x'): 2364, ('Na', 'N'): 2365, ('sub', 'set'): 2366, ('ti', 'll'): 2367, ('se', 'q'): 2368, ('s', 'entiment'): 2369, ('mo', 'id'): 2370, ('we', 'ver'): 2371, ('ath', 'er'): 2372, ('face', 'color'): 2373, ('ad', 'i'): 2374, ('o', 'th'): 2375, ('n', 'rows'): 2376, ('n', 'd'): 2377, ('l', 'as'): 2378, ('tr', 'o'): 2379, ('Cl', 'assification'): 2380, ('e', 'ven'): 2381, ('b', 'ottom'): 2382, ('Passenger', 'Id'): 2383, ('w', 'he'): 2384, ('_', '1'): 2385, ('y', 'n'): 2386, ('ing', '2D'): 2387, ('tempor', 'ary'): 2388, ('per', 'c'): 2389, ('si', 'z'): 2390, ('pro', 'vid'): 2391, ('k', 'i'): 2392, ('le', 'af'): 2393, ('s', 'at'): 2394, ('X_', 'train_'): 2395, ('df_', '21'): 2396, ('pl', 'y'): 2397, ('r', 'atio'): 2398, ('agg', 'reg'): 2399, ('token', 's'): 2400, ('C', 'al'): 2401, ('E', 'PO'): 2402, ('EPO', 'CH'): 2403, ('ION', '_'): 2404, ('Do', 'cker'): 2405, ('su', 'gg'): 2406, ('e', 'qual'): 2407, ('XGB', 'oost'): 2408, ('ba', 'seline'): 2409, ('err', 'ors'): 2410, ('_', 'plot'): 2411, ('k', 'fold'): 2412, ('bo', 'x_'): 2413, ('sp', '_nonlinear'): 2414, ('g', 'c'): 2415, ('star', 'ts'): 2416, ('en', 'cy'): 2417, ('inte', 'rest'): 2418, ('re', 'ction'): 2419, ('W', 'ord'): 2420, ('tit', 'anic'): 2421, ('15', '0'): 2422, ('cr', 'iter'): 2423, ('df_', '20'): 2424, ('ction', 's'): 2425, ('sig', 'moid'): 2426, ('Not', 'e'): 2427, ('f', 'uture'): 2428, ('mo', 'd'): 2429, ('extr', 'act'): 2430, ('s', 'urvival'): 2431, ('est', 'amp'): 2432, ('ag', 'ain'): 2433, ('K', 'NN'): 2434, ('con', 'fig'): 2435, ('Des', 'cr'): 2436, ('TARGE', 'T'): 2437, ('D', 'ist'): 2438, ('edu', 'cation'): 2439, ('preser', 'ved'): 2440, ('s', 'l'): 2441, ('edge', 'color'): 2442, ('or', 'a'): 2443, ('df_', 'sales'): 2444, ('ma', 'de'): 2445, ('st', 'atus'): 2446, ('h', 'istogram'): 2447, ('l', 'er'): 2448, ('T', 'H'): 2449, ('min', '_samples'): 2450, ('U', 'N'): 2451, ('play', 'ed'): 2452, ('t', 'ed'): 2453, ('h', 'ad'): 2454, ('Percent', 'age'): 2455, ('di', 'ag'): 2456, ('t', 'ain'): 2457, ('Data', 'Load'): 2458, ('DataLoad', 'er'): 2459, ('ati', 'fied'): 2460, ('cr', 'im'): 2461, ('experim', 'ent'): 2462, ('am', 'ount'): 2463, ('W', 'i'): 2464, ('seem', 's'): 2465, ('S', 'im'): 2466, ('clo', 'se'): 2467, ('com', 'put'): 2468, ('r', 'avel'): 2469, ('comp', 'on'): 2470, ('diction', 'ary'): 2471, ('libr', 'ary'): 2472, ('select', 'ed'): 2473, ('H', 'y'): 2474, ('_', 'labels'): 2475, ('rc', 'Params'): 2476, ('R', '2'): 2477, ('le', 'ad'): 2478, ('sh', 'are'): 2479, ('possi', 'ble'): 2480, ('cross', 'entropy'): 2481, ('validation', '_data'): 2482, ('param', '_'): 2483, ('_', 'cols'): 2484, ('f', 'ri'): 2485, ('of', '_'): 2486, ('for', 'ward'): 2487, ('lar', 'ge'): 2488, ('ci', 'ties'): 2489, ('ob', 'je'): 2490, ('Y', '_train'): 2491, ('str', 'ategy'): 2492, ('pre', 'trained'): 2493, ('G', 'aussian'): 2494, ('fun', 'c'): 2495, ('con', 'tr'): 2496, ('x', 'lim'): 2497, ('stat', 'es'): 2498, ('proble', 'm'): 2499, ('An', 'd'): 2500, ('gb', 'm'): 2501, ('i', 've'): 2502, ('re', 'port'): 2503, ('si', 'l'): 2504, ('I', 'C'): 2505, ('on', 'es'): 2506, ('c', 'n'): 2507, ('il', 'ding'): 2508, ('wor', 'ld'): 2509, ('Coun', 'ts'): 2510, ('trib', 'ute'): 2511, ('dist', 'ance'): 2512, ('expl', 'ain'): 2513, ('con', 'st'): 2514, ('proces', 'sed'): 2515, ('ic', 'a'): 2516, ('import', 'ances'): 2517, ('op', 'tion'): 2518, ('Col', 'or'): 2519, ('an', 'cy'): 2520, ('h', 'orizontal'): 2521, ('xg', 'boost'): 2522, ('M', 'E_'): 2523, ('per', 'ature'): 2524, ('or', 'ical'): 2525, ('significan', 't'): 2526, ('reg', '_'): 2527, ('en', 's'): 2528, ('S', 'ince'): 2529, ('ar', 'y_'): 2530, ('gener', 'al'): 2531, ('statis', 'tics'): 2532, ('loss', 'es'): 2533, ('1', '20'): 2534, ('speci', 'al'): 2535, ('em', 'sp'): 2536, ('visual', 'ization'): 2537, ('A', 'b'): 2538, ('bas', 'ic'): 2539, ('Cl', 'oud'): 2540, ('U', 'se'): 2541, ('Mat', 'rix'): 2542, ('li', 'k'): 2543, ('is', 'in'): 2544, ('ib', 'r'): 2545, ('m', 'it'): 2546, ('li', 'fe'): 2547, ('covid', '19'): 2548, ('F', 'r'): 2549, ('Mon', 'th'): 2550, ('P', 'CA'): 2551, ('C', 'an'): 2552, ('L', 'R'): 2553, ('ad', 'ar'): 2554, ('_', 'year'): 2555, ('bre', 'ak'): 2556, ('d', 'as'): 2557, ('x', 'ticklabels'): 2558, ('si', 'te'): 2559, ('X_', 'valid'): 2560, ('h', '3'): 2561, ('eng', 'ers'): 2562, ('a', 'zione'): 2563, ('di', 'com'): 2564, ('B', 'est'): 2565, ('cre', 'ated'): 2566, ('f', 'er'): 2567, ('n', 'odes'): 2568, ('En', 'g'): 2569, ('ack', 'ing'): 2570, ('Inde', 'x'): 2571, ('Boost', 'ing'): 2572, ('concat', 'en'): 2573, ('F', 'amily'): 2574, ('li', 'de'): 2575, ('Gener', 'ator'): 2576, ('p', 'ower'): 2577, ('ib', 'le'): 2578, ('un', 'its'): 2579, ('p', 'ret'): 2580, ('c_', 'score'): 2581, ('G', 'D'): 2582, ('_f', 'r'): 2583, ('Bsmt', 'Fin'): 2584, ('F', 'G'): 2585, ('po', 'k'): 2586, ('pok', 'emon'): 2587, ('R', 'o'): 2588, ('i', 'al'): 2589, ('x', 'axis'): 2590, ('3', '5'): 2591, ('Im', 'put'): 2592, ('attribu', 'tes'): 2593, ('L', 'eng'): 2594, ('Leng', 'th'): 2595, ('room', 's'): 2596, ('pati', 'ents'): 2597, ('ip', 'ants'): 2598, ('from', '_'): 2599, ('d', 'one'): 2600, ('F', 'un'): 2601, ('trib', 'uted'): 2602, ('x', 'y'): 2603, ('ord', 'ing'): 2604, ('ex', 'cept'): 2605, ('whe', 'ther'): 2606, ('S', 'O'): 2607, ('_', 'output'): 2608, ('4', 'f'): 2609, ('C', 'ity'): 2610, ('x', 'fc'): 2611, ('g', 'am'): 2612, ('gam', 'ma'): 2613, ('plot', 'ting'): 2614, ('method', 's'): 2615, ('U', 'sing'): 2616, ('i', 'an'): 2617, ('ul', 'ation'): 2618, ('W', 'or'): 2619, ('A', 'f'): 2620, ('F', 'latten'): 2621, ('P', 'ol'): 2622, ('cal', 'led'): 2623, ('b', 'box_'): 2624, ('Q', '1'): 2625, ('impro', 've'): 2626, ('fr', 'ames'): 2627, ('S', 'ource'): 2628, ('abs', 'ol'): 2629, ('absol', 'ute'): 2630, ('is', 's'): 2631, ('iss', 'ue'): 2632, ('criter', 'ion'): 2633, ('Ve', 'ctor'): 2634, ('h', 'old'): 2635, ('update_', 'layout'): 2636, ('_', 'co'): 2637, ('_', 'image'): 2638, ('ad', 'just'): 2639, ('fe', 'male'): 2640, ('de', 'ep'): 2641, ('quanti', 'le'): 2642, ('al', 'ready'): 2643, ('Custo', 'mer'): 2644, ('ro', 'ot'): 2645, ('sig', 'ma'): 2646, ('dis', 'c'): 2647, ('stop', 'words'): 2648, ('arg', 'max'): 2649, ('Str', 'atified'): 2650, ('n', 'cols'): 2651, ('ur', 'l'): 2652, ('review', 's'): 2653, ('_', 'time'): 2654, ('Cor', 'relation'): 2655, ('uni', 'form'): 2656, ('str', 'ip'): 2657, ('s', 'he'): 2658, ('wind', 'ow'): 2659, ('if', 'y'): 2660, ('max', 'imum'): 2661, ('M', 'a'): 2662, ('pe', 'ar'): 2663, ('D', 'i'): 2664, ('av', 'es'): 2665, ('ch', 'art'): 2666, ('2', '24'): 2667, ('_', 'col'): 2668, ('l', 'ate'): 2669, ('Re', 'move'): 2670, ('De', 'ath'): 2671, ('H', 'appiness'): 2672, ('_', 'B'): 2673, ('str', 'ong'): 2674, ('spe', 'c'): 2675, ('tribu', 'tions'): 2676, ('Expl', 'or'): 2677, ('mem', 'ory'): 2678, ('ci', 'al'): 2679, ('k', 'it'): 2680, ('iz', 'ing'): 2681, ('g', 'es'): 2682, ('con', 's'): 2683, ('is', 't_'): 2684, ('on', 's'): 2685, ('D', 'F'): 2686, ('fit', 'ting'): 2687, ('_', 'sequences'): 2688, ('ap', 'i'): 2689, ('le', 'ts'): 2690, ('par', 'a'): 2691, ('Tim', 'es'): 2692, ('n', 'h'): 2693, ('it', 'or'): 2694, ('e', 'i'): 2695, ('I', 's'): 2696, ('de', 'c'): 2697, ('9', '5'): 2698, ('in', 'sight'): 2699, ('work', 'ers'): 2700, ('_p', 'ipeline'): 2701, ('Re', 'view'): 2702, ('0', '_'): 2703, ('y', 'test'): 2704, ('look', 's'): 2705, ('or', 'ient'): 2706, ('c', 'are'): 2707, ('u', 'ation'): 2708, ('2', '7'): 2709, ('descr', 'iption'): 2710, ('al', 'ity'): 2711, ('fi', 'el'): 2712, ('s', 'till'): 2713, ('relation', 'ship'): 2714, ('de', 'code'): 2715, ('Wi', 'th'): 2716, ('s', 't_'): 2717, ('id', 'es'): 2718, ('scatter', 'plot'): 2719, ('3', '4'): 2720, ('com', 'm'): 2721, ('inst', 'ance'): 2722, ('Af', 'ter'): 2723, ('lik', 'ely'): 2724, ('cl', 'usion'): 2725, ('assi', 'gn'): 2726, ('lim', 'it'): 2727, ('Au', 'to'): 2728, ('et', 'a'): 2729, ('co', 'st'): 2730, ('TRA', 'IN'): 2731, ('tri', 'al'): 2732, ('flo', 'or'): 2733, ('hou', 'se'): 2734, ('P', 'L'): 2735, ('T', 'PU'): 2736, ('ke', 't_'): 2737, ('H', 'igh'): 2738, ('zer', 'o'): 2739, ('ut', 'ori'): 2740, ('au', 'c'): 2741, ('stats', 'models'): 2742, ('y_', 'data'): 2743, ('re', 'lease'): 2744, ('og', 'le'): 2745, ('_', 'ID'): 2746, ('u', 'be'): 2747, ('MaxPool', 'ing2D'): 2748, ('an', 'te'): 2749, ('sup', 'title'): 2750, ('one', '_'): 2751, ('ist', 's'): 2752, ('B', 'ar'): 2753, ('bu', 'ild'): 2754, ('speci', 'fic'): 2755, ('A', 'N'): 2756, ('f', '_'): 2757, ('pre', 'p'): 2758, ('int', '8'): 2759, ('competi', 'tion'): 2760, ('ret', 'urns'): 2761, ('at', 'ory'): 2762, ('M', 'W'): 2763, ('con', 'dition'): 2764, ('RO', 'C'): 2765, ('h', 'r'): 2766, ('cl', 'ip'): 2767, ('arg', 's'): 2768, ('soft', 'max'): 2769, ('b', 'il'): 2770, ('am', 'il'): 2771, ('us', 'age'): 2772, ('A', 'ct'): 2773, ('engine', 'ering'): 2774, ('compl', 'ex'): 2775, ('tweet', 's'): 2776, ('on', 't_'): 2777, ('tech', 'ni'): 2778, ('N', 'B'): 2779, ('f', 'ur'): 2780, ('_', 'label'): 2781, ('ed', 'ul'): 2782, ('edul', 'er'): 2783, ('S', 'K'): 2784, ('mask', 's'): 2785, ('Ho', 'wever'): 2786, ('_', 'mode'): 2787, ('read', '_'): 2788, ('y_', 'train_'): 2789, ('l', 'angu'): 2790, ('We', 'ek'): 2791, ('ren', 'd'): 2792, ('de', 'tail'): 2793, ('in', '_'): 2794, ('E', 'p'): 2795, ('_r', 'adar'): 2796, ('lin', 'space'): 2797, ('sci', 'ence'): 2798, ('obje', 'ctive'): 2799, ('le', 'an'): 2800, ('t', 'xt'): 2801, ('s', 'ay'): 2802, ('dur', 'ing'): 2803, ('vel', 'y'): 2804, ('max_', 'features'): 2805, ('mo', 'tion'): 2806, ('y_', 'valid'): 2807, ('Dist', 'ance'): 2808, ('om', 'en'): 2809, ('_', 'out'): 2810, ('r2', '_score'): 2811, ('x', '2'): 2812, ('em', 'p'): 2813, ('pro', 'ject'): 2814, ('Import', 'ing'): 2815, ('h', 'ol'): 2816, ('roc_au', 'c_score'): 2817, ('Res', 'ults'): 2818, ('p', 'ay'): 2819, ('be', 'gin'): 2820, ('param_', 'grid'): 2821, ('c', 'pu'): 2822, ('ã', 'o'): 2823, ('ques', 'tions'): 2824, ('as', 'pect'): 2825, ('y', 'axis'): 2826, ('r', 'adi'): 2827, ('re', 'sid'): 2828, ('Po', 'si'): 2829, ('3', '1'): 2830, ('_f', 'rame'): 2831, ('Colum', 'n'): 2832, ('tr', 'odu'): 2833, ('to', 'o'): 2834, ('lab', 'e'): 2835, ('labe', 'led'): 2836, ('scores', '_'): 2837, ('s_', 'df'): 2838, ('Sh', 'ape'): 2839, ('e', 'val_'): 2840, ('work', 's'): 2841, ('4', '00'): 2842, ('M', 'ulti'): 2843, ('to', 'ol'): 2844, ('cour', 'se'): 2845, ('P', 'J'): 2846, ('best_', 'param'): 2847, ('8', '5'): 2848, ('DI', 'R'): 2849, ('lo', 'pe'): 2850, ('full', '_data'): 2851, ('dimension', 'e'): 2852, ('con', 'om'): 2853, ('charac', 'ter'): 2854, ('it', 'al'): 2855, ('tit', 'les'): 2856, ('Trans', 'form'): 2857, ('ar', 'ti'): 2858, ('to_', 'datetime'): 2859, ('st', 'ation'): 2860, ('s', 'quared'): 2861, ('tex', 't_'): 2862, ('on', 'a'): 2863, ('s', 'in'): 2864, ('B', 'ase'): 2865, ('e', 't_'): 2866, ('K', 'er'): 2867, ('cle', 'ar'): 2868, ('ed', 'ges'): 2869, ('L', 'ibr'): 2870, ('train_', 'size'): 2871, ('10', '24'): 2872, ('co', 'ver'): 2873, ('le', 'ast'): 2874, ('Cl', 'ust'): 2875, ('cep', 'tion'): 2876, ('df_', 'rfm'): 2877, ('t', 'd'): 2878, ('I', 'F'): 2879, ('df_', 'application'): 2880, ('r', 'gb'): 2881, ('pixel', 's'): 2882, ('po', 'st'): 2883, ('3', 'f'): 2884, ('h', 'ard'): 2885, ('sh', 'ap'): 2886, ('f', 'latten'): 2887, ('sh', 'op'): 2888, ('r', 'and'): 2889, ('vi', 'ded'): 2890, ('v', 'ision'): 2891, ('b', 's'): 2892, ('P', 'E'): 2893, ('act', 'ual'): 2894, ('_', 'text'): 2895, ('in', 'o'): 2896, ('concaten', 'ate'): 2897, ('T', 'ool'): 2898, ('tour', 'ne'): 2899, ('sp_nonlinear', '_radar'): 2900, ('Image', 'Data'): 2901, ('ImageData', 'Generator'): 2902, ('den', 'sity'): 2903, ('gi', 've'): 2904, ('add_', 'subplot'): 2905, ('Label', 's'): 2906, ('2', '9'): 2907, ('hyper', 'parameters'): 2908, ('ad', 'os'): 2909, ('fig', '1'): 2910, ('bar', 'h'): 2911, ('train_', 'X'): 2912, ('pass', 'engers'): 2913, ('data_', 'test'): 2914, ('partic', 'ipants'): 2915, ('df_', '19'): 2916, ('at', 'o'): 2917, ('int', '32'): 2918, ('pl', 'ement'): 2919, ('def', 'ine'): 2920, ('pro', 'per'): 2921, ('ex', 'pres'): 2922, ('tick', 'et'): 2923, ('tim', 'estamp'): 2924, ('Categ', 'orical'): 2925, ('total', '_'): 2926, ('g', 'p'): 2927, ('es', 'e'): 2928, ('bin', 'ary'): 2929, ('pro', 'ps'): 2930, ('rating', 's'): 2931, ('IN', 'G'): 2932, ('SE', 'ED'): 2933, ('drop', 'out'): 2934, ('M', 'S'): 2935, ('sele', 'ct_'): 2936, ('select_', 'dtypes'): 2937, ('pre', 'v'): 2938, ('col', 'lect'): 2939, ('s', 'ampling'): 2940, ('tex', 'ts'): 2941, ('p', 'et'): 2942, ('k', 'means'): 2943, ('sub', 'sample'): 2944, ('Descr', 'iption'): 2945, ('om', 'ial'): 2946, ('dur', 'ation'): 2947, ('W', 'idth'): 2948, ('o', 'ice'): 2949, ('ag', 'ue'): 2950, ('C', 'at'): 2951, ('qual', 'ity'): 2952, ('us', 'es'): 2953, ('contin', 'ue'): 2954, ('re', 'ason'): 2955, ('Visual', 'ization'): 2956, ('P', 'R'): 2957, ('pu', 'bl'): 2958, ('Ex', 'tr'): 2959, ('d', 'ense'): 2960, ('grad', 'ient'): 2961, ('per', 'i'): 2962, ('mark', 'et'): 2963, ('ob', 'ser'): 2964, ('Me', 'ans'): 2965, ('s', 'rc'): 2966, ('final', '_'): 2967, ('red', 'it'): 2968, ('_', 'agg'): 2969, ('po', 's_'): 2970, ('in', 'it'): 2971, ('S', 'how'): 2972, ('Act', 'ual'): 2973, ('l', 'ish'): 2974, ('Test', 'ing'): 2975, ('tem', 'perature'): 2976, ('si', 'der'): 2977, ('custo', 'mers'): 2978, ('car', 's'): 2979, ('SK', '_ID'): 2980, ('d', 'ic'): 2981, ('Con', 'd'): 2982, ('R', 'ow'): 2983, ('Sim', 'ple'): 2984, ('ol', 'in'): 2985, ('S', 'um'): 2986, ('ten', 'tion'): 2987, ('O', 'pen'): 2988, ('agg', 'ing'): 2989, ('requi', 'red'): 2990, ('exper', 'i'): 2991, ('gen', 're'): 2992, ('á', 'c'): 2993, ('u', 'zz'): 2994, ('CO', 'L'): 2995, ('htt', 'p'): 2996, ('R', 'ank'): 2997, ('S', 'urvival'): 2998, ('F', 'em'): 2999, ('Y', '_'): 3000, ('qu', 'ent'): 3001, ('rel', 'ations'): 3002, ('En', 'coding'): 3003, ('per', 'son'): 3004, ('EPOCH', 'S'): 3005, ('TE', 'ST'): 3006, ('min_', 'child'): 3007, ('un', 'a'): 3008, ('inte', 'ger'): 3009, ('pl', 'i'): 3010, ('pick', 'le'): 3011, ('m', 'b'): 3012, ('tr', 'al'): 3013, ('Com', 'p'): 3014, ('____', '____'): 3015, ('Indi', 'a'): 3016, ('co', 's'): 3017, ('U', 'ni'): 3018, ('l', 'arg'): 3019, ('ic', 's'): 3020, ('e', 'ad'): 3021, ('radi', 'us'): 3022, ('combin', 'ed'): 3023, ('O', 'f'): 3024, ('B', 'y'): 3025, ('meas', 'ure'): 3026, ('ou', 't_'): 3027, ('l', 's'): 3028, ('algorith', 'ms'): 3029, ('d', 'ue'): 3030, ('po', 'thes'): 3031, ('_per_', 'epoch'): 3032, ('M', 'I'): 3033, ('P', 'res'): 3034, ('AM', 'E'): 3035, ('_r', 'ating'): 3036, ('get_', 'height'): 3037, ('ed', 'om'): 3038, ('attribu', 'to'): 3039, ('RandomForest', 'Regressor'): 3040, ('Th', 'ese'): 3041, ('v', 'ice'): 3042, ('C', 'ross'): 3043, ('ot', 'enti'): 3044, ('siz', 'es'): 3045, ('Fun', 'ction'): 3046, ('PJ', 'ME_'): 3047, ('PJME_', 'MW'): 3048, ('model_', 'name'): 3049, ('comp', 'ared'): 3050, ('V', 'ID'): 3051, ('play', 'ers'): 3052, ('B', 'ath'): 3053, ('C', 'FG'): 3054, ('vid', 'ual'): 3055, ('ang', 'le'): 3056, ('bal', 'anced'): 3057, ('ir', 'is'): 3058, ('con', 'ne'): 3059, ('P', 'e'): 3060, ('m', 'ust'): 3061, ('se', 'par'): 3062, ('m', 'aster'): 3063, ('E', 'val'): 3064, ('or', 'ange'): 3065, ('P', 'ati'): 3066, ('Min', 'Max'): 3067, ('MinMax', 'Scaler'): 3068, ('E', 'X'): 3069, ('qu', 'ora'): 3070, ('bbox_', 'to_'): 3071, ('bbox_to_', 'anchor'): 3072, ('1', 'st'): 3073, ('dis', 'tric'): 3074, ('te', 'ams'): 3075, ('C', 'm'): 3076, ('perc', 'enti'): 3077, ('percenti', 'le'): 3078, ('S', 'te'): 3079, ('sc', 'r'): 3080, ('c', 'ut'): 3081, ('Cre', 'ating'): 3082, ('does', 'n'): 3083, ('pati', 'ence'): 3084, ('light', 'gbm'): 3085, ('L', 'GBM'): 3086, ('00', '1'): 3087, ('h', '5'): 3088, ('best_param', 's_'): 3089, ('_s', 'im'): 3090, ('Num', 'er'): 3091, ('ou', 's_'): 3092, ('Let', 's'): 3093, ('Death', 's'): 3094, ('Ep', 'isode'): 3095, ('att', 'ach'): 3096, ('d', 'raw'): 3097, ('g', 'ain'): 3098, ('compon', 'ents'): 3099, ('glob', 'al'): 3100, ('con', 'sider'): 3101, ('ear', 'ly_'): 3102, ('early_', 'stop'): 3103, ('AR', 'IMA'): 3104, ('_', 'l'): 3105, ('initial', 'izer'): 3106, ('r', 'a'): 3107, ('train_', 'y'): 3108, ('ur', 'key'): 3109, ('k', 'ick'): 3110, ('s_', 'played'): 3111, ('cy', 'cle'): 3112, ('lat', 'er'): 3113, ('St', 'atus'): 3114, ('acti', 've'): 3115, ('200', '0'): 3116, ('sh', 'ort'): 3117, ('visual', 'ize'): 3118, ('word', 'cloud'): 3119, ('ob', 'servations'): 3120, ('AU', 'C'): 3121, ('Pro', 'ces'): 3122, ('sent', 'ence'): 3123, ('trodu', 'ction'): 3124, ('f1', '_score'): 3125, ('Cal', 'cul'): 3126, ('os', 't_'): 3127, ('detail', 's'): 3128, ('G', 'lob'): 3129, ('grid', '_'): 3130, ('sto', 're'): 3131, ('_', 'names'): 3132, ('I', 'Q'): 3133, ('IQ', 'R'): 3134, ('kernel', '_'): 3135, ('application', '_'): 3136, ('_', 'mask'): 3137, ('cl', 'assi'): 3138, ('al', 'low'): 3139, ('mark', 'ers'): 3140, ('So', 'me'): 3141, ('cho', 'ose'): 3142, ('f', 'orest'): 3143, ('ad', 'am'): 3144, ('t', 'utori'): 3145, ('answ', 'er'): 3146, ('num_', 'workers'): 3147, ('f', 'in'): 3148, ('tre', 'ino'): 3149, ('D', 'S'): 3150, ('r', 's'): 3151, ('JH', 'C'): 3152, ('mo', 'di'): 3153, ('f', 'ree'): 3154, ('pe', 'ci'): 3155, ('su', 'c'): 3156, ('ef', 'fect'): 3157, ('ad', 'ow'): 3158, ('for', 'med'): 3159, ('head', 'er'): 3160, ('H', 'ot'): 3161, ('Th', 'en'): 3162, ('he', 'alth'): 3163, ('cor', 'related'): 3164, ('Not', 'ebook'): 3165, ('steps', '_per_epoch'): 3166, ('Un', 'der'): 3167, ('compl', 'ete'): 3168, ('training', '_'): 3169, ('starts', 'with'): 3170, ('99', '9'): 3171, ('label', '_'): 3172, ('20', 'GB'): 3173, ('dis', 'tributions'): 3174, ('duplic', 'ates'): 3175, ('us', 'iness'): 3176, ('pothes', 'is'): 3177, ('CO', 'VID'): 3178, ('do', 'cs'): 3179, ('An', 'y'): 3180, ('fa', 'ke'): 3181, ('av', 'g'): 3182, ('cf', 'g'): 3183, ('yn', 'omial'): 3184, ('pro', 'por'): 3185, ('c', 'ủ'): 3186, ('củ', 'a'): 3187, ('mu', '_v'): 3188, ('Li', 'fe'): 3189, ('channel', 's'): 3190, ('mon', 'itor'): 3191, ('S', 'tar'): 3192, ('al', 'most'): 3193, ('e', 'v'): 3194, ('be', 'ing'): 3195, ('to', 'ge'): 3196, ('toge', 'ther'): 3197, ('pol', 'y'): 3198, ('ord', 'in'): 3199, ('Libr', 'aries'): 3200, ('m', 'y_'): 3201, ('T', 'ok'): 3202, ('Tok', 'en'): 3203, ('nl', 'p'): 3204, ('f', 'ont_'): 3205, ('sh', 'ift'): 3206, ('tr', 'y_'): 3207, ('Bu', 'ild'): 3208, ('8', '00'): 3209, ('C', 'ur'): 3210, ('trans', 'action'): 3211, ('y_', 'test_'): 3212, ('vis', 'it'): 3213, ('P', 'lay'): 3214, ('pred', '_'): 3215, ('df_', 'top'): 3216, ('Hy', 'd'): 3217, ('k', 'w'): 3218, ('L', 'ist'): 3219, ('dig', 'it'): 3220, ('tr', 'on'): 3221, ('de', 'cre'): 3222, ('Eng', 'ine'): 3223, ('IM', 'G'): 3224, ('ad', 'er'): 3225, ('T', 'Y'): 3226, ('B', 'ER'): 3227, ('vir', 'us'): 3228, ('w', 'omen'): 3229, ('employ', 'e'): 3230, ('mu', '_x'): 3231, ('JH', 'N'): 3232, ('dev', 'el'): 3233, ('gr', 'ams'): 3234, ('T', 'ext'): 3235, ('sh', 'ade'): 3236, ('cor', 'p'): 3237, ('corp', 'us'): 3238, ('1', 'D'): 3239, ('meta', 'data'): 3240, ('er', 'gy'): 3241, ('con', 'sum'): 3242, ('Th', 'at'): 3243, ('sv', 'c'): 3244, ('resid', 'ual'): 3245, ('col', 'sample_'): 3246, ('colsample_', 'by'): 3247, ('de', 'mo'): 3248, ('in', 'sur'): 3249, ('insur', 'ance'): 3250, ('_f', 'inal'): 3251, ('bo', 'ol'): 3252, ('_id', 'x'): 3253, ('_', 'Par'): 3254, ('_Par', 't_'): 3255, ('_', 'pl'): 3256, ('all', '_'): 3257, ('L', 'E'): 3258, ('ei', 'ther'): 3259, ('Ret', 'urn'): 3260, ('ar', 'row'): 3261, ('Pe', 'ople'): 3262, ('l', 'm'): 3263, ('l', 'u'): 3264, ('sil', 'on'): 3265, ('pool', '_size'): 3266, ('ta', 'ken'): 3267, ('af', 'fect'): 3268, ('T', 'S'): 3269, ('MO', 'DE'): 3270, ('sugg', 'est_'): 3271, ('tick', '_params'): 3272, ('ch', 'ase'): 3273, ('C', 'R'): 3274, ('et', 'ary'): 3275, ('str', 'ides'): 3276, ('IM', 'M'): 3277, ('data', 'pivot'): 3278, ('w', 'ater'): 3279, ('co', 'ords'): 3280, ('fold', 'er'): 3281, ('st', 'andard'): 3282, ('com', 'par'): 3283, ('B', 'ayes'): 3284, ('d', 'ark'): 3285, ('ar', 'm'): 3286, ('r', 'ank'): 3287, ('publ', 'ic'): 3288, ('Al', 'so'): 3289, ('g', 's'): 3290, ('M', 'N'): 3291, ('Sco', 'res'): 3292, ('cl', 'assifi'): 3293, ('test_', 'set'): 3294, ('Gradient', 'Boosting'): 3295, ('br', 'ain'): 3296, ('data', '1'): 3297, ('data_', 'train'): 3298, ('conom', 'y'): 3299, ('un', 'employed'): 3300, ('tr', 'ip'): 3301, ('df_sales', '_'): 3302, ('_', 'cases'): 3303, ('n', 'one'): 3304, ('cre', 'ating'): 3305, ('vis', 'ible'): 3306, ('au', 'top'): 3307, ('autop', 'ct'): 3308, ('Se', 'ction'): 3309, ('t', 'rend'): 3310, ('g', 'ues'): 3311, ('dif', 'f'): 3312, ('s', 'olution'): 3313, ('dat', 'al'): 3314, ('datal', 'o'): 3315, ('ac', 'tions'): 3316, ('image', '_id'): 3317, ('ven', 'ue'): 3318, ('it', 'a'): 3319, ('Re', 'c'): 3320, ('with', '_'): 3321, ('Tool', 's'): 3322, ('attach', 'ment'): 3323, ('A', 'mer'): 3324, ('ac', 'ity'): 3325, ('co', 'ordin'): 3326, ('an', 'other'): 3327, ('Re', 'call'): 3328, ('at', 'tribute'): 3329, ('O', 'ther'): 3330, ('l', 'it'): 3331, ('n_', 'neighbors'): 3332, ('peri', 'od'): 3333, ('Res', 'ult'): 3334, ('es', 'sion'): 3335, ('_', 'leaf'): 3336, ('experi', 'ence'): 3337, ('feat', 's'): 3338, ('line', 'plot'): 3339, ('expect', 'ancy'): 3340, ('total', 's'): 3341, ('ge', 'o'): 3342, ('sto', 'ck'): 3343, ('toc', 'ca'): 3344, ('P', 'ath'): 3345, ('inter', 'pol'): 3346, ('emp', 'ty'): 3347, ('im', 'plement'): 3348, ('F', 'ig'): 3349, ('Fig', 'ure'): 3350, ('sp', 'ac'): 3351, ('Po', 'int'): 3352, ('statis', 'tical'): 3353, ('acc', 'ording'): 3354, ('Cont', 'ents'): 3355, ('iter', 'ation'): 3356, ('top', 'ping'): 3357, ('pat', 'tern'): 3358, ('p', 'endent'): 3359, ('Un', 'it'): 3360, ('F', 'ind'): 3361, ('ex', 'amples'): 3362, ('R', 'edu'): 3363, ('Stratified', 'KFold'): 3364, ('hou', 'sing'): 3365, ('al', 'ance'): 3366, ('out', 'ube'): 3367, ('oggetti', '_input'): 3368, ('6', '00'): 3369, ('i', 'll'): 3370, ('ma', 'kes'): 3371, ('100', '00'): 3372, ('get', 'ting'): 3373, ('in', 'ference'): 3374, ('g', 'ot'): 3375, ('C', 'NN'): 3376, ('c', 'tric'): 3377, ('fi', 'd'): 3378, ('v', 'ince'): 3379, ('Q', '3'): 3380, ('n', 'n_'): 3381, ('d', 'ri'): 3382, ('ur', 'b'): 3383, ('v', 'à'): 3384, ('fli', 'x'): 3385, ('_y', 'r'): 3386, ('set_', 'option'): 3387, ('log', 'y'): 3388, ('sign', 'al'): 3389, ('d', 'y'): 3390, ('ad', 'dition'): 3391, ('ver', 'se'): 3392, ('Wh', 'en'): 3393, ('m', 'app'): 3394, ('fm', 't'): 3395, ('loc', 'ations'): 3396, ('in', 'es'): 3397, ('y', 'el'): 3398, ('stud', 'ents'): 3399, ('scal', 'ing'): 3400, ('F', '1'): 3401, ('E', 'arly'): 3402, ('N', 'ext'): 3403, ('E', 's'): 3404, ('al', 'f'): 3405, ('fur', 'ther'): 3406, ('wh', 'y'): 3407, ('ab', 'str'): 3408, ('k', 'ur'): 3409, ('A', 'm'): 3410, ('struct', 'ures'): 3411, ('ass', 'ert'): 3412, ('image', '_'): 3413, ('_', 'value'): 3414, ('de', 'coder'): 3415, ('H', 'ear'): 3416, ('di', 'ed'): 3417, ('R', 'est'): 3418, ('il', 't'): 3419, ('vari', 'ate'): 3420, ('H', 'istogram'): 3421, ('Gr', 'aph'): 3422, ('pop', 'ular'): 3423, ('fre', 'quent'): 3424, ('N', 'on'): 3425, ('B', 'e'): 3426, ('3', 'D'): 3427, ('V', 'G'): 3428, ('s', 'que'): 3429, ('sque', 'e'): 3430, ('fi', 'df'): 3431, ('ur', 'ation'): 3432, ('L', 'EN'): 3433, ('RF', 'M_'): 3434, ('im', 'a'): 3435, ('or', 'row'): 3436, ('show', '_'): 3437, ('is', 'on'): 3438, ('i', 'plot'): 3439, ('1', 'f'): 3440, ('i', 'ents'): 3441, ('Fem', 'ale'): 3442, ('Con', 'clusion'): 3443, ('langu', 'age'): 3444, ('_', 'A'): 3445, ('A', 'ir'): 3446, ('cess', 'ary'): 3447, ('train_', 'set'): 3448, ('al', 'b'): 3449, ('alb', 'ument'): 3450, ('albument', 'ations'): 3451, ('c', 'ard'): 3452, ('ap', 'er'): 3453, ('image', '_path'): 3454, ('expl', 'ore'): 3455, ('F', 'F'): 3456, ('season', '_'): 3457, ('Train', '_'): 3458, ('Train_', 'Box'): 3459, ('b', 'it'): 3460, ('dis', 'tributed'): 3461, ('fi', 've'): 3462, ('L', 'ay'): 3463, ('3', '3'): 3464, ('factor', 's'): 3465, ('C', 'lean'): 3466, ('Em', 'bed'): 3467, ('Embed', 'ding'): 3468, ('at', 'tention'): 3469, ('oth', 'ers'): 3470, ('pat', 'ient'): 3471, ('y_pred', '_'): 3472, ('appro', 'ach'): 3473, ('gres', 'sion'): 3474, ('new', '_df'): 3475, ('ver', 'i'): 3476, ('death', 's'): 3477, ('train_', 'loader'): 3478, ('N', 'O'): 3479, ('Ex', 'ter'): 3480, ('tourne', 'y_'): 3481, ('uzz', 'y'): 3482, ('obj', '_'): 3483, ('y', '2'): 3484, ('suc', 'cess'): 3485, ('save', 'fig'): 3486, ('th', 'ir'): 3487, ('sh', 'adow'): 3488, ('contin', 'u'): 3489, ('6', '5'): 3490, ('optim', 'izers'): 3491, ('ap', 'pear'): 3492, ('act', 'ually'): 3493, ('car', 'dio'): 3494, ('Out', 'li'): 3495, ('v', 'line'): 3496, ('partic', 'ular'): 3497, ('C', 'ar'): 3498, ('p', 'ca'): 3499, ('v', 'c'): 3500, ('_', 'num'): 3501, ('val_', 'idx'): 3502, ('min_child', '_weight'): 3503, ('EN', 'T'): 3504, ('m', 'ent_'): 3505, ('Spe', 'cies'): 3506, ('lo', 'se'): 3507, ('auto', 'encoder'): 3508, ('r', 'idge'): 3509, ('produ', 'ct_'): 3510, ('_t', 'ab'): 3511, ('result', 'ad'): 3512, ('vot', 'e'): 3513, ('pare', 'n'): 3514, ('gre', 'at'): 3515, ('F', 'ac'): 3516, ('re', 'moving'): 3517, ('regres', 'sor'): 3518, ('product', 's'): 3519, ('i', 'info'): 3520, ('M', 'y'): 3521, ('SV', 'M'): 3522, ('O', 'L'): 3523, ('mean_', 'absolute'): 3524, ('ter', 'ms'): 3525, ('applic', 'ations'): 3526, ('fr', 'ac'): 3527, ('train_', 'generator'): 3528, ('pre', 'processed'): 3529, ('child', 'ren'): 3530, ('T', 'ic'): 3531, ('Tic', 'ket_'): 3532, ('c', 'ác'): 3533, ('action', 'time'): 3534, ('cas', 'a'): 3535, ('sy', 's'): 3536, ('pe', 'ak'): 3537, ('vari', 'ous'): 3538, ('sch', 'ool'): 3539, ('I', 'Python'): 3540, ('P', 'andas'): 3541, ('re', 'ally'): 3542, ('Res', 'pon'): 3543, ('cor', 'respon'): 3544, ('evalu', 'ation'): 3545, ('pr', 'ior'): 3546, ('Pre', 'processing'): 3547, ('stud', 'y'): 3548, ('mo', 'du'): 3549, ('train_', 'dataset'): 3550, ('Colum', 'ns'): 3551, ('i', 'um'): 3552, ('log', '_'): 3553, ('get_', 'width'): 3554, ('tr', 'acking'): 3555, ('A', 'B'): 3556, ('se', 'gmentation'): 3557, ('B', 'as'): 3558, ('O', 'ur'): 3559, ('dimension', 's'): 3560, ('ch', 'anges'): 3561, ('Me', 'thod'): 3562, ('mar', 'gin'): 3563, ('set_', 'xticklabels'): 3564, ('d', 'om'): 3565, ('M', 'ale'): 3566, ('mem', 'ber'): 3567, ('r', 'u'): 3568, ('who', 'le'): 3569, ('de', 't'): 3570, ('LA', 'S'): 3571, ('max_', 'iter'): 3572, ('coef', '_'): 3573, ('S', 'quared'): 3574, ('re', 'ach'): 3575, ('N', 'A'): 3576, ('AT', 'ION_'): 3577, ('SK_ID', '_C'): 3578, ('SK_ID_C', 'UR'): 3579, ('SK_ID_CUR', 'R'): 3580, ('kernel_', 'initializer'): 3581, ('E', 'poch'): 3582, ('Con', 'f'): 3583, ('i', 'ç'): 3584, ('ver', 's'): 3585, ('max_', 'len'): 3586, ('M', 'as'): 3587, ('add_', 'trace'): 3588, ('fri', 'ends'): 3589, ('res', 'pect'): 3590, ('pl', '_yr'): 3591, ('pl_yr', 's_played'): 3592, ('col', 'le'): 3593, ('Coun', 'ter'): 3594, ('Plot', 's'): 3595, ('ward', 's'): 3596, ('V', 'ot'): 3597, ('Ma', 'ke'): 3598, ('im', 'ate'): 3599, ('r', 'ight_'): 3600, ('XGB', 'Regressor'): 3601, ('fid', 'ence'): 3602, ('const', 'ant'): 3603, ('si', 've'): 3604, ('E', 'ach'): 3605, ('C', 'U'): 3606, ('cv', '_'): 3607, ('squee', 'ze'): 3608, ('categorical_', 'crossentropy'): 3609, ('B', 'MI'): 3610, ('Ac', 'ti'): 3611, ('Acti', 'vation'): 3612, ('cl', 'es'): 3613, ('sur', 've'): 3614, ('R', 'GB'): 3615, ('tu', 'ple'): 3616, ('am', 'ong'): 3617, ('se', 'en'): 3618, ('set_', 'ylim'): 3619, ('f', 'are'): 3620, ('gener', 'ated'): 3621, ('Transform', 'er'): 3622, ('Vari', 'able'): 3623, ('ti', 'ves'): 3624, ('end', '_'): 3625, ('can', 'not'): 3626, ('p', 'age'): 3627, ('ac', 'cess'): 3628, ('I', 'ns'): 3629, ('one_', 'hot'): 3630, ('m', 'm'): 3631, ('tab', 'ular'): 3632, ('y_', 'hat'): 3633, ('align', 'ment'): 3634, ('_data', '_'): 3635, ('orrow', 'er'): 3636, ('cor', 'relations'): 3637, ('unique', '_'): 3638, ('Num', 'ba'): 3639, ('ac', 'ross'): 3640, ('object', 's'): 3641, ('hand', 'le'): 3642, ('Word', 'Cloud'): 3643, ('w', 'arm'): 3644, ('Y', '_test'): 3645, ('Load', 'ing'): 3646, ('Early', 'S'): 3647, ('EarlyS', 'topping'): 3648, ('_b', 'est_'): 3649, ('Se', 'lect'): 3650, ('r', 'b'): 3651, ('XGB', 'Classifier'): 3652, ('ax', 'vline'): 3653, ('ch', 'ance'): 3654, ('P', 'ipeline'): 3655, ('S', 'to'): 3656, ('au', 'gment'): 3657, ('f', 'ar'): 3658, ('li', 'p'): 3659, ('Imput', 'er'): 3660, ('N', 'U'): 3661, ('gre', 'ater'): 3662, ('am', 'pa'): 3663, ('fiel', 'd'): 3664, ('del', 'ta'): 3665, ('4', '8'): 3666, ('index', '_col'): 3667, ('DA', 'Y'): 3668, ('p', 'aper'): 3669, ('major', 'ity'): 3670, ('ad', 'a'): 3671, ('rel', 'a'): 3672, ('min_samples', '_split'): 3673, ('respon', 'se'): 3674, ('Reg', 'ular'): 3675, ('s', 'lide'): 3676, ('indi', 'vidual'): 3677, ('ta', 'i'): 3678, ('ef', 'ficient'): 3679, ('qu', 'ick'): 3680, ('2', 'd'): 3681, ('com', 'ment'): 3682, ('check', 'ing'): 3683, ('ct', 'ors'): 3684, ('Co', 'de'): 3685, ('extr', 'action'): 3686, ('id', 'ay'): 3687, ('mean_absolute', '_error'): 3688, ('ad', 'ded'): 3689, ('ti', 'vely'): 3690, ('target_', 'size'): 3691, ('datalo', 'ader'): 3692, ('zer', 'o_'): 3693, ('th', 'ink'): 3694, ('hy', 'pothesis'): 3695, ('e', 'qu'): 3696, ('s', 'lope'): 3697, ('u', 'tral'): 3698, ('Se', 'pal'): 3699, ('k', 'nn_'): 3700, ('pre', 'fix'): 3701, ('transform', 'ation'): 3702, ('and', '_'): 3703, ('Predic', 'tions'): 3704, ('p', 'ed'): 3705, ('Explor', 'atory'): 3706, ('Bu', 'ilding'): 3707, ('t', 'le'): 3708, ('p', 'df'): 3709, ('p', 'tion'): 3710, ('s', 'ense'): 3711, ('clean', 'ing'): 3712, ('inde', 'pendent'): 3713, ('Com', 'put'): 3714, ('secon', 'ds'): 3715, ('D', 'ete'): 3716, ('h', 'ic'): 3717, ('o', 'of'): 3718, ('label', 'size'): 3719, ('b', 'mi'): 3720, ('validation', '_'): 3721, ('w', 'ine'): 3722, ('precision', '_score'): 3723, ('K', 'e'): 3724, ('pati', 'ent_'): 3725, ('Re', 'covered'): 3726, ('h', '4'): 3727, ('S', 'P'): 3728, ('fun', 'zioni'): 3729, ('lam', 'en'): 3730, ('lamen', 'go'): 3731, ('inst', 'ead'): 3732, ('ic', 'an'): 3733, ('yel', 'low'): 3734, ('a', 'im'): 3735, ('du', 'ct'): 3736, ('L', 'asso'): 3737, ('wr', 'it'): 3738, ('list', 's'): 3739, ('na', 'ive'): 3740, ('St', 'at'): 3741, ('over', 'all'): 3742, ('re', 'pe'): 3743, ('Model', 's'): 3744, ('ne', 'cessary'): 3745, ('Dis', 'play'): 3746, ('contain', 'ing'): 3747, ('check', 'point'): 3748, ('Vector', 'izer'): 3749, ('spe', 'ed'): 3750, ('Conf', 'usion'): 3751, ('g', 'u'): 3752, ('_st', 'atus'): 3753, ('view', 's'): 3754, ('pres', 'sion'): 3755, ('Ob', 'servations'): 3756, ('_id', 's'): 3757, ('lo', 'od'): 3758, ('le', 'ague'): 3759, ('_p', 'romoted'): 3760, ('app', '_train'): 3761, ('b', 'ine'): 3762, ('con', 'text'): 3763, ('St', 'ates'): 3764, ('F', 'it'): 3765, ('a', 'ded'): 3766, ('Gaussian', 'NB'): 3767, ('roc_', 'curve'): 3768, ('an', 'n'): 3769, ('lef', 't_'): 3770, ('al', 'i'): 3771, ('e', 'c'): 3772, ('mapp', 'ing'): 3773, ('image', '_size'): 3774, ('train_', 'x'): 3775, ('charac', 'ters'): 3776, ('O', 'U'): 3777, ('In', 'troduction'): 3778, ('N', 'ull'): 3779, ('C', 'lose'): 3780, ('Mas', 'V'): 3781, ('MasV', 'n'): 3782, ('MasVn', 'r'): 3783, ('BsmtFin', 'Type'): 3784, ('S', 'ou'): 3785, ('ele', 'ment'): 3786, ('l', 'asso'): 3787, ('tri', 'ps'): 3788, ('p', '_data'): 3789, ('predic', 'ati'): 3790, ('df_', 'is'): 3791, ('ta', 'kes'): 3792, ('p', 'otenti'): 3793, ('skew', 'ed'): 3794, ('token', 'ize'): 3795, ('ignore', '_index'): 3796, ('i', 'er'): 3797, ('techni', 'ques'): 3798, ('prob', 'a'): 3799, ('Con', 'vert'): 3800, ('colsample_by', 'tree'): 3801, ('hour', 's'): 3802, ('2', 'nd'): 3803, ('are', 'st'): 3804, ('pun', 'ct'): 3805, ('BER', 'T'): 3806, ('df_', 'country'): 3807, ('Coun', 'tries'): 3808, ('ris', 'k'): 3809, ('_s', 'um'): 3810, ('tim', 'er'): 3811, ('wc', 'g'): 3812, ('u', 'int8'): 3813, ('pro', 'vided'): 3814, ('ad', 'v'): 3815, ('num_', 'classes'): 3816, ('I', 'ris'): 3817, ('min', 'imum'): 3818, ('as', 'ing'): 3819, ('ex', 'plo'): 3820, ('3', '8'): 3821, ('ne', 'ural'): 3822, ('Qu', 'anti'): 3823, ('en', 'ces'): 3824, ('Th', 'ank'): 3825, ('dete', 'ct'): 3826, ('float', '64'): 3827, ('n', 'os'): 3828, ('res', 'pe'): 3829, ('gener', 'ative'): 3830, ('me', 'l'): 3831, ('back', 'ward'): 3832, ('par', 'tial'): 3833, ('Pati', 'ent'): 3834, ('U', 'P'): 3835, ('in', 's'): 3836, ('validation', '_steps'): 3837, ('coun', 't_'): 3838, ('AU', 'TO'): 3839, ('num', '_fr'): 3840, ('num_fr', 'ames'): 3841, ('complex', 'ity'): 3842, ('nb', 'sp'): 3843, ('cell', 'ation'): 3844, ('linear', '_'): 3845, ('R', 'ob'): 3846, ('Rob', 'ust'): 3847, ('Robust', 'Scaler'): 3848, ('data', 'base'): 3849, ('G', 're'): 3850, ('pro', 'p'): 3851, ('t', 'ell'): 3852, ('disc', 'ret'): 3853, ('P', 'ie'): 3854, ('3', '7'): 3855, ('extr', 'a'): 3856, ('Def', 'ine'): 3857, ('Pre', 'cision'): 3858, ('Ret', 'urns'): 3859, ('z', 'o'): 3860, ('S', 'mo'): 3861, ('train_', 'index'): 3862, ('ex', 'act'): 3863, ('L', 'ow'): 3864, ('DAY', 'S_'): 3865, ('label', 's_'): 3866, ('ex', 'ist'): 3867, ('index', 'es'): 3868, ('f', 'et'): 3869, ('hidden', '_size'): 3870, ('me', 't'): 3871, ('c', 'abin'): 3872, ('surve', 'y'): 3873, ('shape', '_'): 3874, ('redu', 'ction'): 3875, ('start', 'ed'): 3876, ('possi', 'bil'): 3877, ('interest', 'ing'): 3878, ('3', '000'): 3879, ('eas', 'y'): 3880, ('Plot', 'ting'): 3881, ('2', '3'): 3882, ('start', 'ing'): 3883, ('bar', 's'): 3884, ('ch', 'all'): 3885, ('th', 'ough'): 3886, ('Sub', 'mission'): 3887, ('lit', 'tle'): 3888, ('ve', 'c'): 3889, ('K', 'Means'): 3890, ('T', 'un'): 3891, ('data', 'frames'): 3892, ('re', 'co'): 3893, ('Check', 'point'): 3894, ('imput', 'e'): 3895, ('a', 'y_'): 3896, ('go', 'al'): 3897, ('to', 's'): 3898, ('arg', 'es'): 3899, ('ê', 'n'): 3900, ('v', 'oice'): 3901, ('Q', 'C'): 3902, ('Out', 'put'): 3903, ('resul', 't_df'): 3904, ('ogget', 'to_'): 3905, ('iter', 'ations'): 3906, ('trans', 'pose'): 3907, ('f', 'as'): 3908, ('identi', 'fy'): 3909, ('of', 'ten'): 3910, ('B', 'in'): 3911, ('f', 'amil'): 3912, ('trace', '1'): 3913, ('V', 'i'): 3914, ('op', 't'): 3915, ('top', '_'): 3916, ('le', 'te'): 3917, ('F', 'il'): 3918, ('smo', 'ker'): 3919, ('fore', 'cast'): 3920, ('Calcul', 'ate'): 3921, ('Wh', 'ich'): 3922, ('dep', 'endent'): 3923, ('er', 'o'): 3924, ('A', 'S'): 3925, ('d', 'p'): 3926, ('Sal', 'es'): 3927, ('F', 'LA'): 3928, ('ro', 's'): 3929, ('_', '2'): 3930, ('l', 'st'): 3931, ('Pro', 's'): 3932, ('Pros', 'per'): 3933, ('d', 'pi'): 3934, ('p', 'romoted'): 3935, ('immag', 'ini'): 3936, ('25', '0'): 3937, ('torch', 'vision'): 3938, ('ed', 'a'): 3939, ('sy', 'stem'): 3940, ('provid', 'es'): 3941, ('De', 'fa'): 3942, ('c', 'um'): 3943, ('over', '_'): 3944, ('r', 'ace'): 3945, ('S', 'ell'): 3946, ('b', 'all'): 3947, ('pair', 's'): 3948, ('sub', 'mit'): 3949, ('duplic', 'ated'): 3950, ('group', 'ed'): 3951, ('normal', 'ization'): 3952, ('P', 'T'): 3953, ('sh', 'if'): 3954, ('Redu', 'ce'): 3955, ('loss', '_'): 3956, ('re', 'q'): 3957, ('M', 'ed'): 3958, ('_', 'DIR'): 3959, ('olu', 'me'): 3960, ('py', 'torch'): 3961, ('Net', 'work'): 3962, ('f', 'n'): 3963, ('ğ', 'er'): 3964, ('so', 'lo'): 3965, ('ệ', 'u'): 3966, ('200', '5'): 3967, ('m', 'and'): 3968, ('5', 'px'): 3969, ('R', 'oman'): 3970, ('ad', '_'): 3971, ('Cat', 'Boost'): 3972, ('ou', 'se'): 3973, ('wr', 'ong'): 3974, ('comp', 'any'): 3975, ('ic', 'ally'): 3976, ('ful', 'ly'): 3977, ('fil', 'led'): 3978, ('set_', 'visible'): 3979, ('2', '6'): 3980, ('f', 'our'): 3981, ('form', 's'): 3982, ('eng', 'lish'): 3983, ('L', 'ight'): 3984, ('Ap', 'ply'): 3985, ('V', 'er'): 3986, ('ab', 'e'): 3987, ('0', '6'): 3988, ('coef', 'fici'): 3989, ('Over', 'all'): 3990, ('h', 'app'): 3991, ('ob', 'tain'): 3992, ('M', 'an'): 3993, ('P', 'lease'): 3994, ('ot', 'e'): 3995, ('Q', 'ues'): 3996, ('i', 'v'): 3997, ('rec', 'ords'): 3998, ('incre', 'ases'): 3999, ('log', 'reg'): 4000, ('pl', 'ate'): 4001, ('l', 'bl'): 4002, ('L', 'ong'): 4003, ('L', 'ot'): 4004, ('list', 'a'): 4005, ('p', 'y_'): 4006, ('Q', '7'): 4007, ('new', 'timer'): 4008, ('newtimer', 'oman'): 4009, ('train', 'IMM'): 4010, ('structures', '_csv'): 4011, ('clf', '_model'): 4012, ('exp', 'and'): 4013, ('produ', 'ction'): 4014, ('white', 'grid'): 4015, ('A', 'no'): 4016, ('op', 'tions'): 4017, ('gi', 'ves'): 4018, ('i', 'x'): 4019, ('ti', 'ps'): 4020, ('pop', 'ulation'): 4021, ('read_', 'json'): 4022, ('R', 'el'): 4023, ('F', 'inal'): 4024, ('reduce', '_'): 4025, ('Res', 'id'): 4026, ('Resid', 'ual'): 4027, ('b', 'usiness'): 4028, ('high', 'ly'): 4029, ('go', 'ogle'): 4030, ('name', 'd'): 4031, ('ne', 'ur'): 4032, ('l', '2'): 4033, ('propor', 'tion'): 4034, ('r', 'ams'): 4035, ('h', 'ost'): 4036, ('pro', 'gram'): 4037, ('dis', 'aster'): 4038, ('m', 'ass'): 4039, ('Ch', 'art'): 4040, ('ona', 'virus'): 4041, ('_re', 'gression'): 4042, ('p', '_df'): 4043, ('_s', 'peci'): 4044, ('Hyd', 'ar'): 4045, ('ogg', 'B'): 4046, ('applic', 'azione'): 4047, ('_f', 'uzzy'): 4048, ('devel', 'op'): 4049, ('pair', 'plot'): 4050, ('vi', 'olin'): 4051, ('ver', 'si'): 4052, ('ma', 'king'): 4053, ('predict', 'ing'): 4054, ('expres', 's'): 4055, ('Check', 'ing'): 4056, ('en', 'ge'): 4057, ('int', '16'): 4058, ('e', 'ded'): 4059, ('en', 'ough'): 4060, ('predict_', 'proba'): 4061, ('fre', 'q'): 4062, ('res', 'ample'): 4063, ('un', 'til'): 4064, ('some', 'thing'): 4065, ('we', 'b'): 4066, ('plac', 'ed'): 4067, ('lo', 'aded'): 4068, ('E', 'M'): 4069, ('_', 'cat'): 4070, ('previ', 'ous_'): 4071, ('test_', 'index'): 4072, ('_', 'X'): 4073, ('c', 'el'): 4074, ('GD', 'P'): 4075, ('Pres', 'ent'): 4076, ('U', 'ser'): 4077, ('can', 'cer'): 4078, ('c', 'ó'): 4079, ('cat', 'plot'): 4080, ('_s', 'er'): 4081, ('oggetti', '_'): 4082, ('tocca', '_b'): 4083, ('tocca_b', 'ord'): 4084, ('tocca_bord', 'o'): 4085, ('M', 'odu'): 4086, ('Modu', 'le'): 4087, ('lo', 'op'): 4088, ('H', 'T'): 4089, ('orient', 'ation'): 4090, ('ver', 'tical'): 4091, ('graph', '_'): 4092, ('re', 'search'): 4093, ('str', 'at'): 4094, ('modi', 'fied'): 4095, ('train', 'able'): 4096, ('s', 'n'): 4097, ('0', 'f'): 4098, ('ter', 'min'): 4099, ('re', 'main'): 4100, ('pen', 'al'): 4101, ('Glob', 'al'): 4102, ('F', 'E'): 4103, ('he', 'ight_'): 4104, ('y_', 'predict'): 4105, ('In', 'ference'): 4106, ('_b', 'alance'): 4107, ('medi', 'um'): 4108, ('recall', '_score'): 4109, ('data', 'set_'): 4110, ('best_', 'score'): 4111, ('train_', 'loss'): 4112, ('experiment', 'al'): 4113, ('are', 'as'): 4114, ('DE', 'F'): 4115, ('E', 'conomy'): 4116, ('le', '_'): 4117, ('_', 'info'): 4118, ('D', 'IM'): 4119, ('data', '0'): 4120, ('ir', 'r'): 4121, ('oggetto_', 'out'): 4122, ('F', '5'): 4123, ('it', 'ch'): 4124, ('feature_', 'names'): 4125, ('feature_', 'importances'): 4126, ('fl', 'ags'): 4127, ('g', 'ap'): 4128, ('_f', 'n'): 4129, ('am', 'a'): 4130, ('set', 'ting'): 4131, ('re', 'pres'): 4132, ('repres', 'ents'): 4133, ('loc', 'al'): 4134, ('Ad', 'ding'): 4135, ('explo', 'de'): 4136, ('trace', '2'): 4137, ('word', '_'): 4138, ('Token', 'izer'): 4139, ('bin', 'ary_'): 4140, ('struct', 'ure'): 4141, ('imp', 'act'): 4142, ('in', 'c'): 4143, ('p', 'ict'): 4144, ('P', 'art'): 4145, ('r', 'ich'): 4146, ('log', 'its'): 4147, ('c', 'ros'): 4148, ('I', 'I'): 4149, ('rec', 'ord'): 4150, ('or', 'ch'): 4151, ('ol', 'ar'): 4152, ('val_', 'acc'): 4153, ('r', 'on'): 4154, ('Rec', 'ency'): 4155, ('N', 'Y'): 4156, ('Hear', 't'): 4157, ('de', 'red'): 4158, ('s_', 'per_'): 4159, ('cl', 'ient'): 4160, ('_st', 'ation'): 4161, ('wc', 'g_'): 4162, ('covid19', '_'): 4163, ('_', 'qu'): 4164, ('key', 'word'): 4165, ('en', 'sity'): 4166, ('enti', 're'): 4167, ('Y', 'our'): 4168, ('proble', 'ms'): 4169, ('re', 'mo'): 4170, ('k', 'ip'): 4171, ('ma', 'e'): 4172, ('am', 'ent'): 4173, ('an', 'im'): 4174, ('ob', 'servation'): 4175, ('colum', 'n_'): 4176, ('ren', 't'): 4177, ('FLA', 'G'): 4178, ('da', 'de'): 4179, ('coun', 'ter'): 4180, ('curren', 't_'): 4181, ('In', 'voice'): 4182, ('input_', 'ids'): 4183, ('_b', 'lock'): 4184, ('t', 'issue'): 4185, ('P', 'et'): 4186, ('Pet', 'al'): 4187, ('x_', 'train_'): 4188, ('t', 'urkey'): 4189, ('el', 'u'): 4190, ('um', 'ents'): 4191, ('M', 'ore'): 4192, ('h', 'over'): 4193, ('every', 'thing'): 4194, ('pret', 'ty'): 4195, ('al', 'ways'): 4196, ('ve', 'ctors'): 4197, ('On', 'ly'): 4198, ('F', 'ull'): 4199, ('round', 's'): 4200, ('y', 'es'): 4201, ('c', 'tively'): 4202, ('Unit', 'ed'): 4203, ('vi', 'ous'): 4204, ('IMG', '_SIZE'): 4205, ('shif', 't_'): 4206, ('shift_', 'range'): 4207, ('Model', 'Checkpoint'): 4208, ('S', 'GD'): 4209, ('si', 'c'): 4210, ('O', 'S'): 4211, ('D', 'S_'): 4212, ('IC', 'E'): 4213, ('Day', 's'): 4214, ('Pro', 'b'): 4215, ('C', 'PU'): 4216, ('Y', 'es'): 4217, ('Pol', 'ynomial'): 4218, ('coordin', 'ates'): 4219, ('test_', 'X'): 4220, ('off', 'set'): 4221, ('d', '_df'): 4222, ('ộ', 't'): 4223, ('as', 'tic'): 4224, ('col', 'una'): 4225, ('posi', 't'): 4226, ('_', 'scores_'): 4227, ('s', 'ens'): 4228, ('sens', 'ory'): 4229, ('u', 'pl'): 4230, ('in', 'si'): 4231, ('pun', 'ti'): 4232, ('for', 'a'): 4233, ('н', 'а'): 4234, ('c', 'c'): 4235, ('the', 'ta'): 4236, ('ple', 'ase'): 4237, ('look', 'ing'): 4238, ('f', 'act'): 4239, ('es', 'tim'): 4240, ('pr', 'acti'): 4241, ('av', 'ing'): 4242, ('Ch', 'ar'): 4243, ('doc', 'ument'): 4244, ('p', 'th'): 4245, ('p', 'ast'): 4246, ('Light', 'GBM'): 4247, ('larg', 'er'): 4248, ('cer', 'tain'): 4249, ('N', 'ai'): 4250, ('Nai', 've'): 4251, ('over', 'fitting'): 4252, ('co', 're'): 4253, ('tutori', 'al'): 4254, ('m', 'ess'): 4255, ('b', 'box'): 4256, ('H', 'and'): 4257, ('X', '2'): 4258, ('categorical_', 'columns'): 4259, ('min_samples', '_leaf'): 4260, ('de', 'al'): 4261, ('Fi', 'll'): 4262, ('Fre', 'edom'): 4263, ('D', 'ise'): 4264, ('Dise', 'ase'): 4265, ('L', 'T'): 4266, ('ax', '0'): 4267, ('hou', 'se_'): 4268, ('tech', '_'): 4269, ('un', 'scaled'): 4270, ('df_', 'treino'): 4271, ('_', 'min'): 4272, ('das', 'h'): 4273, ('In', 'st'): 4274, ('Le', 'arn'): 4275, ('vocab', '_size'): 4276, ('input_', 'dim'): 4277, ('en', 'ergy'): 4278, ('ne', 'eded'): 4279, ('t', 'on'): 4280, ('_t', 'able'): 4281, ('identi', 'fi'): 4282, ('abe', 'tes'): 4283, ('cl', 'imate'): 4284, ('0', '8'): 4285, ('Engine', 'ering'): 4286, ('an', 'ies'): 4287, ('hol', 'iday'): 4288, ('a', 'il'): 4289, ('coef', 'ficient'): 4290, ('n_', 'clusters'): 4291, ('al', 'ert'): 4292, ('de', 'ci'): 4293, ('seed', '_'): 4294, ('Ac', 'tive'): 4295, ('m', 'ut'): 4296, ('sch', 'eduler'): 4297, ('ep', 'isode'): 4298, ('test_', 'y'): 4299, ('er', 'ci'): 4300, ('erci', 'se'): 4301, ('P', 'layer'): 4302, ('ol', 'es'): 4303, ('Y', 'r'): 4304, ('hist', 'plot'): 4305, ('c', 'df'): 4306, ('application_', 'train_df'): 4307, ('appl', '_to_'): 4308, ('appl_to_', 'text'): 4309, ('PI', 'L'): 4310, ('_s', 'ample'): 4311, ('at', 'ural'): 4312, ('contr', 'ol'): 4313, ('thing', 's'): 4314, ('se', 'gment'): 4315, ('f', 'alse'): 4316, ('i', 'red'): 4317, ('spe', 'cies'): 4318, ('to', 'wards'): 4319, ('ac', 'cur'): 4320, ('ep', 'silon'): 4321, ('x', 'test'): 4322, ('In', 'ter'): 4323, ('expect', 'ed'): 4324, ('de', 'termin'): 4325, ('Eval', 'uation'): 4326, ('penal', 'ty'): 4327, ('down', 'load'): 4328, ('base', '_'): 4329, ('ab', 'ly'): 4330, ('bal', 'ance'): 4331, ('pro', 'vide'): 4332, ('low', 'est'): 4333, ('make', '_pipeline'): 4334, ('lo', 's'): 4335, ('O', 's'): 4336, ('tun', 'ed'): 4337, ('r', 'am'): 4338, ('C', 'ap'): 4339, ('Se', 'gment'): 4340, ('ne', 'utral'): 4341, ('color', '_'): 4342, ('Q7', '_Part_'): 4343, ('P', 'ER'): 4344, ('vers', 'ari'): 4345, ('ST', 'AM'): 4346, ('STAM', 'PA'): 4347, ('datapivot', '_'): 4348, ('mo', 'le'): 4349, ('mole', 'cu'): 4350, ('molecu', 'le'): 4351, ('molecule', '_name'): 4352, ('ا', 'ل'): 4353, ('data_', 'clean'): 4354, ('cv', 't'): 4355, ('cvt', 'Color'): 4356, ('interpol', 'ation'): 4357, ('COL', 'OR'): 4358, ('DE', 'R'): 4359, ('is', 'y'): 4360, ('al', 'ong'): 4361, ('dimension', 'al'): 4362, ('t', 'urn'): 4363, ('sci', 'kit'): 4364, ('Defa', 'ult'): 4365, ('ide', 'a'): 4366, ('Ker', 'as'): 4367, ('0', '4'): 4368, ('Posi', 'tive'): 4369, ('de', 'com'): 4370, ('fore', 'cas'): 4371, ('fo', 'c'): 4372, ('au', 'gmentation'): 4373, ('P', 'ur'): 4374, ('tree', '_'): 4375, ('s_', 'list'): 4376, ('5', '000'): 4377, ('log', 'istic'): 4378, ('Mis', 's'): 4379, ('ax', '3'): 4380, ('f', 'ast'): 4381, ('Sci', 'ence'): 4382, ('E', 'du'): 4383, ('Edu', 'cation'): 4384, ('transform', 'ers'): 4385, ('or', 'dered'): 4386, ('li', 'ệu'): 4387, ('t', 'ack'): 4388, ('net', 'flix'): 4389, ('hot', 'el'): 4390, ('b', 'ank'): 4391, ('var', '_'): 4392, ('special', 'Teams'): 4393, ('rela', 'zioni'): 4394, ('d', 'z'): 4395, ('clu', 'de'): 4396, ('pre', 'process'): 4397, ('bu', 'ilding'): 4398, ('speci', 'fied'): 4399, ('com', 'bine'): 4400, ('annot', 'ate'): 4401, ('par', 'ation'): 4402, ('graph', 's'): 4403, ('no', 'de'): 4404, ('le', 'ave'): 4405, ('le', 'aves'): 4406, ('DAT', 'E'): 4407, ('MA', 'E'): 4408, ('add', 'res'): 4409, ('R', 'atio'): 4410, ('W', 'OR'): 4411, ('par', 'se_'): 4412, ('reg_', 'lambda'): 4413, ('k', 'ers'): 4414, ('seq', '_'): 4415, ('SE', 'LE'): 4416, ('SELE', 'CT'): 4417, ('fi', 'ps'): 4418, ('make', '_'): 4419, ('L', 'U'): 4420, ('marker', '_color'): 4421, ('_', 'width'): 4422, ('lst', 'm'): 4423, ('part', 'ment'): 4424, ('De', 'ck'): 4425, ('C', 'u'): 4426, ('skew', 'ness'): 4427, ('am', 'en'): 4428, ('S', 'ig'): 4429, ('kaggle', '_'): 4430, ('_', 'nodes'): 4431, ('l', 'ist_'): 4432, ('h', 'ort'): 4433, ('las', 't_df'): 4434, ('forma', 'colore'): 4435, ('immagine', '_in'): 4436, ('_co', 'per'): 4437, ('_', 'probs'): 4438, ('rand', 'int'): 4439, ('ul', 'es'): 4440, ('mat', 'ches'): 4441, ('continu', 'ous'): 4442, ('in', 'ver'): 4443, ('sequen', 'tial'): 4444, ('Pro', 'duct'): 4445, ('sent', 'ences'): 4446, ('star', 'ter'): 4447, ('re', 'le'): 4448, ('true', '_'): 4449, ('binary_', 'crossentropy'): 4450, ('_', 'date'): 4451, ('bi', 'as'): 4452, ('vi', 'sed'): 4453, ('abstr', 'act'): 4454, ('t_', 'x'): 4455, ('new', 's'): 4456, ('max_', 'length'): 4457, ('af', 'fic'): 4458, ('ar', 'tic'): 4459, ('artic', 'le'): 4460, ('Ke', 'y'): 4461, ('y', 'outube'): 4462, ('to_', 'categorical'): 4463, ('GradientBoosting', 'Classifier'): 4464, ('obser', 've'): 4465, ('g', 'pu'): 4466, ('Mon', 'etary'): 4467, ('Year', 's'): 4468, ('M', 'ap'): 4469, ('play', 'er_'): 4470, ('r', 'ain'): 4471, ('ch', 'i'): 4472, ('oc', 'c'): 4473, ('T', 'V'): 4474, ('Distance', '_'): 4475, ('Distance_', 'To'): 4476, ('Distance_To', '_'): 4477, ('to', 'urn'): 4478, ('border', 'axes'): 4479, ('borderaxes', 'pad'): 4480, ('df_', 'scaled'): 4481, ('irr', 'ational'): 4482, ('posi', 'zioni'): 4483, ('ogg', 'A'): 4484, ('inclu', 'ded'): 4485, ('con', 'tour'): 4486, ('d', 'x'): 4487, ('auto', 'mat'): 4488, ('comput', 'e'): 4489, ('Wor', 'ld'): 4490, ('3', '9'): 4491, ('cho', 'ice'): 4492, ('c_', 'min'): 4493, ('c_', 'max'): 4494, ('background', '_'): 4495, ('u', 'su'): 4496, ('E', 'le'): 4497, ('random', 'ly'): 4498, ('re', 'ques'): 4499, ('F', 'low'): 4500, ('100', '0000'): 4501, ('_data', 'set_'): 4502, ('vi', 'ation'): 4503, ('Categ', 'ory'): 4504, ('cat', '_'): 4505, ('Ne', 'g'): 4506, ('d', 'ados'): 4507, ('outli', 'er'): 4508, ('train_', 'dl'): 4509, ('our', 'ne'): 4510, ('se', 'to'): 4511, ('seto', 'sa'): 4512, ('feren', 'ces'): 4513, ('win', 's'): 4514, ('w', 'd'): 4515, ('th', 'al'): 4516, ('CA', '_'): 4517, ('Sou', 'th'): 4518, ('tr', 'avel'): 4519, ('Ob', 'servation'): 4520, ('E_', 'SIZE'): 4521, ('G', 'ols'): 4522, ('20', '14'): 4523, ('val', 's'): 4524, ('A', 'x'): 4525, ('ir', 'cle'): 4526, ('D', 'ensity'): 4527, ('s', 'urvi'): 4528, ('chall', 'enge'): 4529, ('max', 'len'): 4530, ('predict', 'ed_'): 4531, ('Lo', 'ok'): 4532, ('Vot', 'ing'): 4533, ('am', 'ps'): 4534, ('Ste', 'p'): 4535, ('N', 'or'): 4536, ('pat', 'ter'): 4537, ('ace', 'book'): 4538, ('T', 're'): 4539, ('7', '8'): 4540, ('con', 'stru'): 4541, ('MODE', 'L'): 4542, ('j', 'pe'): 4543, ('jpe', 'g'): 4544, ('Normal', 'ize'): 4545, ('det', 'ach'): 4546, ('Es', 'timat'): 4547, ('sat', 'is'): 4548, ('Numer', 'ical'): 4549, ('cros', 'st'): 4550, ('crosst', 'ab'): 4551, ('Am', 'ount'): 4552, ('Prob', 'ability'): 4553, ('crim', 'es'): 4554, ('expl', 'or'): 4555, ('k', 'f'): 4556, ('an', 't_'): 4557, ('pres', 'sure'): 4558, ('S', 'entiment'): 4559, ('get_', 'x'): 4560, ('t', 'pu'): 4561, ('L', 'angu'): 4562, ('P', 'S'): 4563, ('list', 'ing'): 4564, ('t', 'ừ'): 4565, ('ke', 'y_'): 4566, ('Day', 'Num'): 4567, ('P', 'at'): 4568, ('as', '_index'): 4569, ('Ne', 'ural'): 4570, ('res', 'net'): 4571, ('sl', 'ice'): 4572, ('r', 'ather'): 4573, ('pre', 'pare'): 4574, ('ele', 'ments'): 4575, ('subplot', 's_'): 4576, ('subplots_', 'adjust'): 4577, ('f', 'ine'): 4578, ('ti', 'mal'): 4579, ('conne', 'ct'): 4580, ('5', '2'): 4581, ('qu', 'ite'): 4582, ('le', 'm'): 4583, ('ma', '_'): 4584, ('link', 's'): 4585, ('gre', 'es'): 4586, ('tun', 'ing'): 4587, ('abil', 'ities'): 4588, ('st', 'age'): 4589, ('gr', 'ade'): 4590, ('des', 'c'): 4591, ('ac', 'he'): 4592, ('_', 'top'): 4593, ('Reduce', 'L'): 4594, ('ReduceL', 'RO'): 4595, ('ReduceLRO', 'n'): 4596, ('ReduceLROn', 'P'): 4597, ('ReduceLROnP', 'late'): 4598, ('ReduceLROnPlate', 'au'): 4599, ('cn', 't'): 4600, ('fold', '_'): 4601, ('min', 'im'): 4602, ('IN', 'PU'): 4603, ('C', 'redit'): 4604, ('F', 'uture'): 4605, ('X', '1'): 4606, ('S', 'MO'): 4607, ('SMO', 'TE'): 4608, ('ad', 'r'): 4609, ('_s', 'ch'): 4610, ('coef', 'f'): 4611, ('and', 'id'): 4612, ('follow', 'ed'): 4613, ('temp', '_'): 4614, ('p', '1'): 4615, ('at', 'tr'): 4616, ('s', 'r'): 4617, ('sco', 'pe'): 4618, ('BsmtFin', 'SF'): 4619, ('discret', 'e_'): 4620, ('s', 'g'): 4621, ('b', 'nb'): 4622, ('E', 'v'): 4623, ('s', '2'): 4624, ('A', 'VG'): 4625, ('Length', 'Cm'): 4626, ('F', 'I'): 4627, ('ad', 'versari'): 4628, ('P', 'lat'): 4629, ('arg', 'ument'): 4630, ('et', 'y'): 4631, ('Ex', 'ample'): 4632, ('or', 't_'): 4633, ('back', 'end'): 4634, ('encode', 'd'): 4635, ('S', 'up'): 4636, ('Sup', 'port'): 4637, ('left_', 'on'): 4638, ('36', '5'): 4639, ('H', 'E'): 4640, ('zo', 'om'): 4641, ('stat', 'istic'): 4642, ('prob', 'ably'): 4643, ('ho', 'me'): 4644, ('mark', 's'): 4645, ('en', 'try'): 4646, ('F', 'V'): 4647, ('FV', 'C'): 4648, ('tr', 'n_'): 4649, ('iter', 'rows'): 4650, ('20', '22'): 4651, ('data_', 'dir'): 4652, ('R', 'NN'): 4653, ('l', '1'): 4654, ('Vari', 'ables'): 4655, ('punct', 'uation'): 4656, ('de', 'ğer'): 4657, ('e', 'red'): 4658, ('D', 'uration'): 4659, ('por', 't_'): 4660, ('num_', 'epochs'): 4661, ('y_', 'predicted'): 4662, ('Qual', 'Test'): 4663, ('train', '13'): 4664, ('c', 'entr'): 4665, ('sl', 'ices'): 4666, ('F', 'lo'): 4667, ('rgb', 'a'): 4668, ('T', 'a'): 4669, ('img', 's'): 4670, ('Mat', 'plotlib'): 4671, ('HT', 'ML'): 4672, ('R', 'ed'): 4673, ('on', 'ce'): 4674, ('ti', 'ce'): 4675, ('ext', 'end'): 4676, ('e', 'ight'): 4677, ('asso', 'ci'): 4678, ('h', 'is'): 4679, ('mal', 'es'): 4680, ('at', 'ely'): 4681, ('com', 'ments'): 4682, ('spac', 'y'): 4683, ('kw', 's'): 4684, ('ts', 'a'): 4685, ('n', 'es'): 4686, ('bo', 'ost_'): 4687, ('Import', 'ance'): 4688, ('B', 'ef'): 4689, ('Bef', 'ore'): 4690, ('fix', 'ed'): 4691, ('df', '5'): 4692, ('answ', 'ers'): 4693, ('lgb', 'm'): 4694, ('drop_', 'duplicates'): 4695, ('return', '_sequences'): 4696, ('dete', 'c'): 4697, ('detec', 'tron'): 4698, ('detectron', '2'): 4699, ('reg', 'plot'): 4700, ('Co', 'vid'): 4701, ('19', '9'): 4702, ('Re', 'LU'): 4703, ('RF', 'M'): 4704, ('data', '2'): 4705, ('a', 'ur'): 4706, ('Auto', 'ML'): 4707, ('Com', 'par'): 4708, ('A', 'da'): 4709, ('Ada', 'Boost'): 4710, ('l', 'à'): 4711, ('At', 'tack'): 4712, ('M', 'aster'): 4713, ('G', 'C'): 4714, ('season_', 'en'): 4715, ('season_en', 'rich'): 4716, ('H', 'P'): 4717, ('employe', 'e'): 4718, ('df_', 'insight'): 4719, ('JH', 'H'): 4720, ('H', 'ouse'): 4721, ('appl', 'i'): 4722, ('appli', 'ed'): 4723, ('_dim', 's'): 4724, ('U', 'p'): 4725, ('thir', 'd'): 4726, ('array', 's'): 4727, ('inst', 'ances'): 4728, ('new', 'axis'): 4729, ('k', 's'): 4730, ('D', 'ict'): 4731, ('extract', 'ed'): 4732, ('conv', 'olution'): 4733, ('al', 'le'): 4734, ('alle', 'l'): 4735, ('tribu', 'tes'): 4736, ('ass', 'um'): 4737, ('in', 'a'): 4738, ('call', 's'): 4739, ('best_', 'estimator'): 4740, ('best_estimator', '_'): 4741, ('to_', 'numpy'): 4742, ('T', 'fidf'): 4743, ('man', 'ual'): 4744, ('_', 'seed'): 4745, ('u', 'el'): 4746, ('a', 'it'): 4747, ('O', 'p'): 4748, ('to', 'sis'): 4749, ('b', 'b'): 4750, ('U', 'RE'): 4751, ('quanti', 'dade'): 4752, ('font', 'dict'): 4753, ('A', 'v'): 4754, ('ack', 'et'): 4755, ('ch', 'os'): 4756, ('chos', 'en'): 4757, ('T', 'A'): 4758, ('A', 'A'): 4759, ('tri', 'tion'): 4760, ('J', 'ob'): 4761, ('ậ', 'p'): 4762, ('_', 'M'): 4763, ('Qu', 'ant'): 4764, ('sof', 't_'): 4765, ('ad_', 'dates'): 4766, ('rfm', '_'): 4767, ('upl', 'ing'): 4768, ('ou', 'pl'): 4769, ('de', 'fect'): 4770, ('Get', 'ting'): 4771, ('Multi', 'ple'): 4772, ('un', 'it'): 4773, ('color', 'bar'): 4774, ('region', 's'): 4775, ('Bl', 'ues'): 4776, ('des', 'ired'): 4777, ('oper', 'ation'): 4778, ('pat', 'ch'): 4779, ('off', 'line'): 4780, ('Amer', 'ican'): 4781, ('direct', 'ly'): 4782, ('re', 'ference'): 4783, ('ak', 'ing'): 4784, ('T', 'F'): 4785, ('wi', 'kip'): 4786, ('wikip', 'ed'): 4787, ('wikiped', 'ia'): 4788, ('consum', 'ption'): 4789, ('da', 'ily'): 4790, ('S', 'at'): 4791, ('right_', 'on'): 4792, ('S', 'ARIMA'): 4793, ('Par', 'ame'): 4794, ('N', 'E'): 4795, ('j', 'it'): 4796, ('i', 'ved'): 4797, ('tr', 'aces'): 4798, ('_fr', 'action'): 4799, ('prep', 'ared'): 4800, ('lo', 'ans'): 4801, ('M', 'ENT'): 4802, ('um', 'a'): 4803, ('m', 'ing'): 4804, ('test_', 'loader'): 4805, ('fri', 'end'): 4806, ('img', '_size'): 4807, ('B', 'orrower'): 4808, ('f', 't'): 4809, ('RE', 'G'): 4810, ('book', 'ing'): 4811, ('C', 'LAS'): 4812, ('50', 'K'): 4813, ('tourn', 'ament'): 4814, ('Proces', 'sed'): 4815, ('df', 'plt'): 4816, ('RFM_', 'Point'): 4817, ('re', 'covered'): 4818, ('2', '_age'): 4819, ('co', 'des'): 4820, ('re', 'verse'): 4821, ('show', 'n'): 4822, ('Fin', 'ally'): 4823, ('inclu', 'ding'): 4824, ('Num', 'Py'): 4825, ('mean', 'ing'): 4826, ('T', 'able'): 4827, ('correspon', 'ding'): 4828, ('us', 'ers'): 4829, ('data', '_frame'): 4830, ('bo', 'ard'): 4831, ('de', 'lete'): 4832, ('we', 'ather'): 4833, ('per', 'formed'): 4834, ('_', 'values'): 4835, ('diag', 'nos'): 4836, ('residual', 's'): 4837, ('Fin', 'ish'): 4838, ('early_stop', 'p'): 4839, ('early_stopp', 'ing_'): 4840, ('early_stopping_', 'rounds'): 4841, ('comp', 'anies'): 4842, ('h', 'alf'): 4843, ('There', 'fore'): 4844, ('cle', 'arly'): 4845, ('fe', 'ed'): 4846, ('s', 'light'): 4847, ('differen', 'ces'): 4848, ('Res', 'Net'): 4849, ('fi', 'fa'): 4850, ('v', 'ity'): 4851, ('Go', 'ogle'): 4852, ('pro', 'f'): 4853, ('b', 'agging'): 4854, ('descr', 'ip'): 4855, ('ri', 'ed'): 4856, ('as', '_'): 4857, ('feature_importances', '_'): 4858, ('class', '_weight'): 4859, ('Com', 'mon'): 4860, ('pr', 'im'): 4861, ('ex', 'am'): 4862, ('analy', 'ze'): 4863, ('vir', 'gin'): 4864, ('virgin', 'ica'): 4865, ('arti', 'cles'): 4866, ('pass', 'enger'): 4867, ('calcul', 'ated'): 4868, ('l', 'b'): 4869, ('Ho', 'me'): 4870, ('Ch', 'ange'): 4871, ('IMA', 'GE'): 4872, ('ư', 'ợ'): 4873, ('tr', 'ong'): 4874, ('R', 'AT'): 4875, ('P', 'M'): 4876, ('IMA', 'G'): 4877, ('training_', 'set'): 4878, ('_t', 'un'): 4879, ('train_', 'meta'): 4880, ('house', 'hold'): 4881, ('Ker', 'nel'): 4882, ('mod', 'ules'): 4883, ('addition', 'al'): 4884, ('Bas', 'ic'): 4885, ('ext', 'ent'): 4886, ('compar', 'ison'): 4887, ('linewidth', 's'): 4888, ('el', 'ow'): 4889, ('Ac', 'c'): 4890, ('need', 's'): 4891, ('top', 'ic'): 4892, ('rele', 'v'): 4893, ('posi', 'tives'): 4894, ('ho', 'pe'): 4895, ('entr', 'ies'): 4896, ('Cor', 'r'): 4897, ('arti', 'le'): 4898, ('ele', 'ctric'): 4899, ('de', 'eps'): 4900, ('patter', 'ns'): 4901, ('Tre', 'es'): 4902, ('Vi', 'ew'): 4903, ('j', 'ax'): 4904, ('pool', 'ing'): 4905, ('Simple', 'Imputer'): 4906, ('not', 'es'): 4907, ('play', 'ground'): 4908, ('_st', 'ep'): 4909, ('model', '1'): 4910, ('set_', 'style'): 4911, ('aggreg', 'ations'): 4912, ('base', '_model'): 4913, ('Trans', 'action'): 4914, ('Neg', 'ative'): 4915, ('d', 'os'): 4916, ('CU', 'DA'): 4917, ('al', 'es'): 4918, ('mo', 'st_'): 4919, ('iç', 'in'): 4920, ('Re', 'venue'): 4921, ('c', 'andid'): 4922, ('6', '9'): 4923, ('dec', 'ay'): 4924, ('num_', 'images'): 4925, ('geo', 'me'): 4926, ('se', 'c'): 4927, ('m', 'enti'): 4928, ('c', 'nn'): 4929, ('Fi', 'replace'): 4930, ('Exter', 'ior'): 4931, ('d', 'b'): 4932, ('d', 't_'): 4933, ('H', 'orizont'): 4934, ('Horizont', 'al_'): 4935, ('Horizontal_', 'Distance_To_'): 4936, ('df_', 'urb'): 4937, ('df_urb', 'an'): 4938, ('_re', 'call'): 4939, ('eng', 'age'): 4940, ('path', '_id'): 4941, ('PER', '_'): 4942, ('input_', 'formacolore'): 4943, ('item', '1'): 4944, ('colle', 'ctions'): 4945, ('r', 'ai'): 4946, ('rai', 'se'): 4947, ('up', 'vote'): 4948, ('str', 'y'): 4949, ('p', 'as'): 4950, ('eas', 'ily'): 4951, ('level', 's'): 4952, ('dig', 'its'): 4953, ('l', 'w'): 4954, ('y', 'ticklabels'): 4955, ('load', 'ing'): 4956, ('is', 'ine'): 4957, ('sc', 'ient'): 4958, ('separ', 'ate'): 4959, ('par', 'se'): 4960, ('wi', 'ki'): 4961, ('f', 'pr'): 4962, ('Sum', 'mary'): 4963, ('as', 'h'): 4964, ('proces', 's_'): 4965, ('Le', 'vel'): 4966, ('um', 'b'): 4967, ('our', 'ces'): 4968, ('bas', 'is'): 4969, ('Clean', 'ing'): 4970, ('m', 'ic'): 4971, ('ho', 'od'): 4972, ('F', 'OL'): 4973, ('Scal', 'ing'): 4974, ('pur', 'chase'): 4975, ('PL', 'O'): 4976, ('oc', 'curren'): 4977, ('Lay', 'er'): 4978, ('performance', '_'): 4979, ('dum', 'my'): 4980, ('fet', 'ch'): 4981, ('Re', 'lease'): 4982, ('versi', 'color'): 4983, ('start_', 'time'): 4984, ('ite', 'ct'): 4985, ('itect', 'ure'): 4986, ('Custo', 'mers'): 4987, ('dic', 't_'): 4988, ('df', '3'): 4989, ('ck', 'd_df'): 4990, ('sy', 'mb'): 4991, ('n', 'fl'): 4992, ('up', 'ation'): 4993, ('m', 'ột'): 4994, ('fi', 're'): 4995, ('X_', 'test_'): 4996, ('He', 'alth'): 4997, ('z', 'ation'): 4998, ('g', 'color'): 4999}\n"
     ]
    }
   ],
   "source": [
    "print(bpc)"
   ]
  },
  {
   "cell_type": "code",
   "execution_count": 38,
   "id": "ced4ef79-dc16-46d1-8d1e-e3a4fa090e4a",
   "metadata": {},
   "outputs": [
    {
     "data": {
      "application/vnd.jupyter.widget-view+json": {
       "model_id": "7ee0bd4189fa46deb8afc000c022644b",
       "version_major": 2,
       "version_minor": 0
      },
      "text/plain": [
       "  0%|          | 0/91 [00:00<?, ?it/s]"
      ]
     },
     "metadata": {},
     "output_type": "display_data"
    },
    {
     "data": {
      "text/plain": [
       "['\\n',\n",
       " '<C>',\n",
       " '\\n',\n",
       " '\\n',\n",
       " '\\n',\n",
       " '\\n',\n",
       " '\\n',\n",
       " 'import',\n",
       " '</w>',\n",
       " 'numpy',\n",
       " '</w>',\n",
       " 'as',\n",
       " '</w>',\n",
       " 'np',\n",
       " '</w>',\n",
       " '\\n',\n",
       " 'import',\n",
       " '</w>',\n",
       " 'pandas',\n",
       " '</w>',\n",
       " 'as',\n",
       " '</w>',\n",
       " 'pd',\n",
       " '</w>',\n",
       " '\\n',\n",
       " '\\n',\n",
       " '\\n',\n",
       " '\\n',\n",
       " '\\n',\n",
       " 'import',\n",
       " '</w>',\n",
       " 'os',\n",
       " '\\n',\n",
       " 'for',\n",
       " '</w>',\n",
       " 'dirname',\n",
       " ',',\n",
       " '</w>',\n",
       " '_',\n",
       " ',',\n",
       " '</w>',\n",
       " 'filenames',\n",
       " '</w>',\n",
       " 'in',\n",
       " '</w>',\n",
       " 'os',\n",
       " '.',\n",
       " 'walk',\n",
       " '(',\n",
       " \"'\",\n",
       " '/',\n",
       " 'kaggle',\n",
       " '/',\n",
       " 'input',\n",
       " \"'\",\n",
       " ')',\n",
       " ':',\n",
       " '\\n',\n",
       " '</w>',\n",
       " '</w>',\n",
       " '</w>',\n",
       " '</w>',\n",
       " 'for',\n",
       " '</w>',\n",
       " 'filename',\n",
       " '</w>',\n",
       " 'in',\n",
       " '</w>',\n",
       " 'filenames',\n",
       " ':',\n",
       " '\\n',\n",
       " '</w>',\n",
       " '</w>',\n",
       " '</w>',\n",
       " '</w>',\n",
       " '</w>',\n",
       " '</w>',\n",
       " '</w>',\n",
       " '</w>',\n",
       " 'print',\n",
       " '(',\n",
       " 'os',\n",
       " '.',\n",
       " 'path',\n",
       " '.',\n",
       " 'join',\n",
       " '(',\n",
       " 'dirname',\n",
       " ',',\n",
       " '</w>',\n",
       " 'filename',\n",
       " ')',\n",
       " ')',\n",
       " '\\n',\n",
       " '\\n',\n",
       " '\\n',\n",
       " '\\n',\n",
       " '\\n',\n",
       " '<C>',\n",
       " '\\n',\n",
       " 'import',\n",
       " '</w>',\n",
       " 'numpy',\n",
       " '</w>',\n",
       " 'as',\n",
       " '</w>',\n",
       " 'np',\n",
       " '\\n',\n",
       " 'import',\n",
       " '</w>',\n",
       " 'pandas',\n",
       " '</w>',\n",
       " 'as',\n",
       " '</w>',\n",
       " 'pd',\n",
       " '\\n',\n",
       " 'import',\n",
       " '</w>',\n",
       " 'random',\n",
       " '\\n',\n",
       " '\\n',\n",
       " 'from',\n",
       " '</w>',\n",
       " 'sklearn',\n",
       " '.',\n",
       " 'model_selection',\n",
       " '</w>',\n",
       " 'import',\n",
       " '</w>',\n",
       " 'train_test_split',\n",
       " ',',\n",
       " '</w>',\n",
       " 'cross_val_score',\n",
       " '\\n',\n",
       " 'from',\n",
       " '</w>',\n",
       " 'sklearn',\n",
       " '.',\n",
       " 'preprocessing',\n",
       " '</w>',\n",
       " 'import',\n",
       " '</w>',\n",
       " 'StandardScaler',\n",
       " ',',\n",
       " '</w>',\n",
       " 'RobustScaler',\n",
       " '\\n',\n",
       " 'from',\n",
       " '</w>',\n",
       " 'cat',\n",
       " 'boost',\n",
       " '</w>',\n",
       " 'import',\n",
       " '</w>',\n",
       " 'CatBoost',\n",
       " 'Regressor',\n",
       " '\\n',\n",
       " 'from',\n",
       " '</w>',\n",
       " 'sklearn',\n",
       " '.',\n",
       " 'ensemble',\n",
       " '</w>',\n",
       " 'import',\n",
       " '</w>',\n",
       " 'RandomForestRegressor',\n",
       " '\\n',\n",
       " 'from',\n",
       " '</w>',\n",
       " 'sklearn',\n",
       " '.',\n",
       " 'metrics',\n",
       " '</w>',\n",
       " 'import',\n",
       " '</w>',\n",
       " 'r2_score',\n",
       " '</w>',\n",
       " 'as',\n",
       " '</w>',\n",
       " 'r2',\n",
       " '\\n',\n",
       " 'from',\n",
       " '</w>',\n",
       " 'sklearn',\n",
       " '.',\n",
       " 'model_selection',\n",
       " '</w>',\n",
       " 'import',\n",
       " '</w>',\n",
       " 'KFold',\n",
       " ',',\n",
       " '</w>',\n",
       " 'GridSearchCV',\n",
       " '\\n',\n",
       " '\\n',\n",
       " 'from',\n",
       " '</w>',\n",
       " 'datetime',\n",
       " '</w>',\n",
       " 'import',\n",
       " '</w>',\n",
       " 'datetime',\n",
       " '\\n',\n",
       " '\\n',\n",
       " 'import',\n",
       " '</w>',\n",
       " 'matplotlib',\n",
       " '\\n',\n",
       " 'import',\n",
       " '</w>',\n",
       " 'matplotlib',\n",
       " '.',\n",
       " 'pyplot',\n",
       " '</w>',\n",
       " 'as',\n",
       " '</w>',\n",
       " 'plt',\n",
       " '\\n',\n",
       " 'import',\n",
       " '</w>',\n",
       " 'seaborn',\n",
       " '</w>',\n",
       " 'as',\n",
       " '</w>',\n",
       " 'sns',\n",
       " '\\n',\n",
       " '%',\n",
       " 'matplotlib',\n",
       " '</w>',\n",
       " 'inline',\n",
       " '\\n',\n",
       " '\\n',\n",
       " '<C>',\n",
       " '\\n',\n",
       " 'import',\n",
       " '</w>',\n",
       " 'warnings',\n",
       " '\\n',\n",
       " 'warnings',\n",
       " '.',\n",
       " 'filterwarnings',\n",
       " '(',\n",
       " \"'\",\n",
       " 'ignore',\n",
       " \"'\",\n",
       " ')',\n",
       " '\\n',\n",
       " '\\n',\n",
       " '<C>',\n",
       " '\\n',\n",
       " 'matplotlib',\n",
       " '.',\n",
       " 'rcParams',\n",
       " '.',\n",
       " 'update',\n",
       " '(',\n",
       " '{',\n",
       " \"'\",\n",
       " 'font',\n",
       " '.',\n",
       " 'size',\n",
       " \"'\",\n",
       " ':',\n",
       " '</w>',\n",
       " '14',\n",
       " '}',\n",
       " ')',\n",
       " '\\n',\n",
       " '\\n',\n",
       " '<C>',\n",
       " '\\n',\n",
       " 'def',\n",
       " '</w>',\n",
       " 'evaluate',\n",
       " '_',\n",
       " 'preds',\n",
       " '(',\n",
       " 'train_',\n",
       " 'true',\n",
       " '_values',\n",
       " ',',\n",
       " '</w>',\n",
       " 'train_',\n",
       " 'pred',\n",
       " '_values',\n",
       " ',',\n",
       " '</w>',\n",
       " 'test_',\n",
       " 'true',\n",
       " '_values',\n",
       " ',',\n",
       " '</w>',\n",
       " 'test_',\n",
       " 'pred',\n",
       " '_values',\n",
       " ')',\n",
       " ':',\n",
       " '\\n',\n",
       " '</w>',\n",
       " '</w>',\n",
       " '</w>',\n",
       " '</w>',\n",
       " 'print',\n",
       " '(',\n",
       " '\"',\n",
       " 'Train',\n",
       " '</w>',\n",
       " 'R2',\n",
       " ':',\n",
       " '\\\\',\n",
       " 't',\n",
       " '\"',\n",
       " '</w>',\n",
       " '+',\n",
       " '</w>',\n",
       " 'str',\n",
       " '(',\n",
       " 'round',\n",
       " '(',\n",
       " 'r2',\n",
       " '(',\n",
       " 'train_',\n",
       " 'true',\n",
       " '_values',\n",
       " ',',\n",
       " '</w>',\n",
       " 'train_',\n",
       " 'pred',\n",
       " '_values',\n",
       " ')',\n",
       " ',',\n",
       " '</w>',\n",
       " '3',\n",
       " ')',\n",
       " ')',\n",
       " ')',\n",
       " '\\n',\n",
       " '</w>',\n",
       " '</w>',\n",
       " '</w>',\n",
       " '</w>',\n",
       " 'pr',\n",
       " 'in',\n",
       " '</w>']"
      ]
     },
     "execution_count": 38,
     "metadata": {},
     "output_type": "execute_result"
    }
   ],
   "source": [
    "bpe.encode(text[:1000], bpc, verbose=True)"
   ]
  },
  {
   "cell_type": "code",
   "execution_count": 14,
   "id": "39d3e798-3589-48a3-bc40-737229225af3",
   "metadata": {},
   "outputs": [
    {
     "data": {
      "application/vnd.jupyter.widget-view+json": {
       "model_id": "114db09a71e8404e81437fd981fe84a9",
       "version_major": 2,
       "version_minor": 0
      },
      "text/plain": [
       "  0%|          | 0/130527 [00:00<?, ?it/s]"
      ]
     },
     "metadata": {},
     "output_type": "display_data"
    },
    {
     "ename": "KeyboardInterrupt",
     "evalue": "",
     "output_type": "error",
     "traceback": [
      "\u001b[1;31m---------------------------------------------------------------------------\u001b[0m",
      "\u001b[1;31mKeyboardInterrupt\u001b[0m                         Traceback (most recent call last)",
      "Cell \u001b[1;32mIn[14], line 4\u001b[0m\n\u001b[0;32m      2\u001b[0m l \u001b[38;5;241m=\u001b[39m \u001b[38;5;241m0\u001b[39m\n\u001b[0;32m      3\u001b[0m \u001b[38;5;28;01mfor\u001b[39;00m k, text \u001b[38;5;129;01min\u001b[39;00m \u001b[38;5;28menumerate\u001b[39m(tqdm(collection)):\n\u001b[1;32m----> 4\u001b[0m     collection_encoded\u001b[38;5;241m.\u001b[39mappend(\u001b[43mbpe\u001b[49m\u001b[38;5;241;43m.\u001b[39;49m\u001b[43mencode\u001b[49m\u001b[43m(\u001b[49m\u001b[43mtext\u001b[49m\u001b[43m,\u001b[49m\u001b[43m \u001b[49m\u001b[43mbpc\u001b[49m\u001b[43m)\u001b[49m)\n\u001b[0;32m      5\u001b[0m     \u001b[38;5;28;01mif\u001b[39;00m \u001b[38;5;28mlen\u001b[39m(collection_encoded) \u001b[38;5;241m==\u001b[39m \u001b[38;5;241m1000\u001b[39m:\n\u001b[0;32m      6\u001b[0m         \u001b[38;5;28;01mwith\u001b[39;00m \u001b[38;5;28mopen\u001b[39m(path\u001b[38;5;241m+\u001b[39m\u001b[38;5;124mf\u001b[39m\u001b[38;5;124m'\u001b[39m\u001b[38;5;124mencoded_collection\u001b[39m\u001b[38;5;132;01m{\u001b[39;00ml\u001b[38;5;132;01m}\u001b[39;00m\u001b[38;5;124m.dat\u001b[39m\u001b[38;5;124m'\u001b[39m, \u001b[38;5;124m'\u001b[39m\u001b[38;5;124mwb\u001b[39m\u001b[38;5;124m'\u001b[39m) \u001b[38;5;28;01mas\u001b[39;00m f:\n",
      "File \u001b[1;32mD:\\WPy64-31150\\notebooks\\create code readability\\cpc_bpe.py:148\u001b[0m, in \u001b[0;36mencode\u001b[1;34m(text, bpe_codes, verbose)\u001b[0m\n\u001b[0;32m    146\u001b[0m \u001b[38;5;28;01mdef\u001b[39;00m \u001b[38;5;21mencode\u001b[39m(text, bpe_codes, verbose\u001b[38;5;241m=\u001b[39m\u001b[38;5;28;01mFalse\u001b[39;00m):\n\u001b[0;32m    147\u001b[0m     \u001b[38;5;66;03m# Encodes a whole text rather than a single word\u001b[39;00m\n\u001b[1;32m--> 148\u001b[0m     tokens \u001b[38;5;241m=\u001b[39m \u001b[43m[\u001b[49m\u001b[43m \u001b[49m\u001b[38;5;28;43mlist\u001b[39;49m\u001b[43m(\u001b[49m\u001b[43mencode_word\u001b[49m\u001b[43m(\u001b[49m\u001b[43mw\u001b[49m\u001b[43m,\u001b[49m\u001b[43m \u001b[49m\u001b[43mbpe_codes\u001b[49m\u001b[43m)\u001b[49m\u001b[43m)\u001b[49m\u001b[43m \u001b[49m\u001b[38;5;28;43;01mfor\u001b[39;49;00m\u001b[43m \u001b[49m\u001b[43mw\u001b[49m\u001b[43m \u001b[49m\u001b[38;5;129;43;01min\u001b[39;49;00m\u001b[43m \u001b[49m\u001b[43mtext\u001b[49m\u001b[38;5;241;43m.\u001b[39;49m\u001b[43msplit\u001b[49m\u001b[43m(\u001b[49m\u001b[38;5;124;43m'\u001b[39;49m\u001b[38;5;124;43m \u001b[39;49m\u001b[38;5;124;43m'\u001b[39;49m\u001b[43m)\u001b[49m\u001b[43m \u001b[49m\u001b[43m]\u001b[49m   \u001b[38;5;66;03m# hat das format [ ['w', 'as'], ['i', 'st'], ... ]\u001b[39;00m\n\u001b[0;32m    149\u001b[0m     concat \u001b[38;5;241m=\u001b[39m []\n\u001b[0;32m    150\u001b[0m     \u001b[38;5;28;01mif\u001b[39;00m verbose: tokens \u001b[38;5;241m=\u001b[39m tqdm(tokens)\n",
      "File \u001b[1;32mD:\\WPy64-31150\\notebooks\\create code readability\\cpc_bpe.py:148\u001b[0m, in \u001b[0;36m<listcomp>\u001b[1;34m(.0)\u001b[0m\n\u001b[0;32m    146\u001b[0m \u001b[38;5;28;01mdef\u001b[39;00m \u001b[38;5;21mencode\u001b[39m(text, bpe_codes, verbose\u001b[38;5;241m=\u001b[39m\u001b[38;5;28;01mFalse\u001b[39;00m):\n\u001b[0;32m    147\u001b[0m     \u001b[38;5;66;03m# Encodes a whole text rather than a single word\u001b[39;00m\n\u001b[1;32m--> 148\u001b[0m     tokens \u001b[38;5;241m=\u001b[39m [ \u001b[38;5;28mlist\u001b[39m(\u001b[43mencode_word\u001b[49m\u001b[43m(\u001b[49m\u001b[43mw\u001b[49m\u001b[43m,\u001b[49m\u001b[43m \u001b[49m\u001b[43mbpe_codes\u001b[49m\u001b[43m)\u001b[49m) \u001b[38;5;28;01mfor\u001b[39;00m w \u001b[38;5;129;01min\u001b[39;00m text\u001b[38;5;241m.\u001b[39msplit(\u001b[38;5;124m'\u001b[39m\u001b[38;5;124m \u001b[39m\u001b[38;5;124m'\u001b[39m) ]   \u001b[38;5;66;03m# hat das format [ ['w', 'as'], ['i', 'st'], ... ]\u001b[39;00m\n\u001b[0;32m    149\u001b[0m     concat \u001b[38;5;241m=\u001b[39m []\n\u001b[0;32m    150\u001b[0m     \u001b[38;5;28;01mif\u001b[39;00m verbose: tokens \u001b[38;5;241m=\u001b[39m tqdm(tokens)\n",
      "File \u001b[1;32mD:\\WPy64-31150\\notebooks\\create code readability\\cpc_bpe.py:114\u001b[0m, in \u001b[0;36mencode_word\u001b[1;34m(orig, bpe_codes)\u001b[0m\n\u001b[0;32m    112\u001b[0m new_word \u001b[38;5;241m=\u001b[39m []\n\u001b[0;32m    113\u001b[0m i \u001b[38;5;241m=\u001b[39m \u001b[38;5;241m0\u001b[39m\n\u001b[1;32m--> 114\u001b[0m \u001b[38;5;28;01mwhile\u001b[39;00m \u001b[43mi\u001b[49m\u001b[43m \u001b[49m\u001b[38;5;241;43m<\u001b[39;49m\u001b[43m \u001b[49m\u001b[38;5;28;43mlen\u001b[39;49m\u001b[43m(\u001b[49m\u001b[43mword\u001b[49m\u001b[43m)\u001b[49m:\n\u001b[0;32m    115\u001b[0m     \u001b[38;5;28;01mtry\u001b[39;00m:\n\u001b[0;32m    116\u001b[0m         j \u001b[38;5;241m=\u001b[39m word\u001b[38;5;241m.\u001b[39mindex(first, i)\n",
      "\u001b[1;31mKeyboardInterrupt\u001b[0m: "
     ]
    }
   ],
   "source": [
    "collection_encoded = []\n",
    "l = 0\n",
    "for k, text in enumerate(tqdm(collection)):\n",
    "    collection_encoded.append(bpe.encode(text, bpc))\n",
    "    if len(collection_encoded) == 1000:\n",
    "        with open(path+f'encoded_collection{l}.dat', 'wb') as f:\n",
    "            pkl.dump(collection_encoded, f)\n",
    "        l += 1\n",
    "        collection_encoded = []"
   ]
  },
  {
   "cell_type": "code",
   "execution_count": 15,
   "id": "af4e5b5a-4ecf-422b-b626-97d2e539595c",
   "metadata": {},
   "outputs": [
    {
     "data": {
      "text/plain": [
       "['np',\n",
       " '.',\n",
       " 'array',\n",
       " '</w>',\n",
       " '=',\n",
       " '</w>',\n",
       " '[',\n",
       " '4',\n",
       " ',',\n",
       " '</w>',\n",
       " '3',\n",
       " ',',\n",
       " '</w>',\n",
       " '2',\n",
       " ']',\n",
       " '</w>']"
      ]
     },
     "execution_count": 15,
     "metadata": {},
     "output_type": "execute_result"
    }
   ],
   "source": [
    "bpe.encode('np.array = [4, 3, 2]', bpc)"
   ]
  },
  {
   "cell_type": "code",
   "execution_count": 6,
   "id": "0ec2a5ae-1d38-4b72-a72a-d353493aee47",
   "metadata": {},
   "outputs": [
    {
     "data": {
      "application/vnd.jupyter.widget-view+json": {
       "model_id": "4b6ca181e55343508fb38ca9eea94c7a",
       "version_major": 2,
       "version_minor": 0
      },
      "text/plain": [
       "  0%|          | 0/130 [00:00<?, ?it/s]"
      ]
     },
     "metadata": {},
     "output_type": "display_data"
    }
   ],
   "source": [
    "from collections import Counter\n",
    "path = 'F:/$daten/datasets/pythoncode/train/'\n",
    "counter = Counter()\n",
    "for k in trange(130):\n",
    "    with open(path+f'encoded_collection{k}.dat', 'rb') as f:\n",
    "        collection = pkl.load(f)\n",
    "    for i in range(len(collection)):\n",
    "        counter = counter | Counter(collection[i])"
   ]
  },
  {
   "cell_type": "code",
   "execution_count": 14,
   "id": "d5a12945-24ec-4a71-9bf0-d2ce8a6513dd",
   "metadata": {},
   "outputs": [
    {
     "data": {
      "text/plain": [
       "10334"
      ]
     },
     "execution_count": 14,
     "metadata": {},
     "output_type": "execute_result"
    }
   ],
   "source": [
    "alphabet = set((a for a, n in counter.items() if n>2))\n",
    "len(alphabet)"
   ]
  },
  {
   "cell_type": "code",
   "execution_count": 31,
   "id": "084fc8f2-fed5-4780-886e-1f152aaaad0d",
   "metadata": {},
   "outputs": [],
   "source": [
    "from tokenizer_bpe import Tokenizer\n",
    "import torch\n",
    "#tokenizer = Tokenizer(set(alphabet))\n",
    "torch.save([tokenizer.t2i, tokenizer.i2t, tokenizer.bpe_code], 'cpc_tokenizer.dat')"
   ]
  },
  {
   "cell_type": "code",
   "execution_count": 3,
   "id": "21eb5f41-3103-411f-a6a4-71f414e43362",
   "metadata": {},
   "outputs": [],
   "source": [
    "import torch\n",
    "_, _, bpc = torch.load('cpc_tokenizer.dat')"
   ]
  },
  {
   "cell_type": "code",
   "execution_count": 18,
   "id": "67c7a4ca-40db-49a3-afd3-cc6c9f0ffdf2",
   "metadata": {},
   "outputs": [
    {
     "data": {
      "text/plain": [
       "{}"
      ]
     },
     "execution_count": 18,
     "metadata": {},
     "output_type": "execute_result"
    }
   ],
   "source": [
    "bpc"
   ]
  },
  {
   "cell_type": "code",
   "execution_count": 30,
   "id": "dceafac2-c05d-4300-bec1-c13ed09c2618",
   "metadata": {},
   "outputs": [],
   "source": [
    "from tokenizer_bpe import Tokenizer\n",
    "from collections import defaultdict\n",
    "import torch\n",
    "tokenizer.t2i, tokenizer.i2t, _ = torch.load('cpc_tokenizer.dat')\n",
    "tokenizer.bpe_code = bpc"
   ]
  },
  {
   "cell_type": "markdown",
   "id": "7413bd17-2b3b-44ce-b8bc-a745449d001a",
   "metadata": {},
   "source": [
    "## Abspeichern ohne BPE"
   ]
  },
  {
   "cell_type": "code",
   "execution_count": null,
   "id": "516ba94f-cb9c-4fbd-94cd-937752ea7b85",
   "metadata": {},
   "outputs": [
    {
     "data": {
      "application/vnd.jupyter.widget-view+json": {
       "model_id": "8235201f5ec243dcab5a5fa16d18ea57",
       "version_major": 2,
       "version_minor": 0
      },
      "text/plain": [
       "  0%|          | 0/139386 [00:00<?, ?it/s]"
      ]
     },
     "metadata": {},
     "output_type": "display_data"
    }
   ],
   "source": [
    "collection = []\n",
    "for fn in tqdm(files):\n",
    "    with open(path+fn, 'r') as f:\n",
    "        d = json.load(f)\n",
    "        \n",
    "    code = ''\n",
    "    for cell, celltext in d['source'].items():\n",
    "        #print(d['cell_type'][cell].capitalize())\n",
    "        celltype = d['cell_type'][cell]\n",
    "        if celltype == 'code':\n",
    "            code += '\\n<C>\\n'\n",
    "            ##code += strip_comments(celltext)\n",
    "            code += celltext\n",
    "        if celltype == 'markdown':\n",
    "            code += '\\n<M>\\n'\n",
    "            code += celltext\n",
    "    collection.append(code)"
   ]
  },
  {
   "cell_type": "code",
   "execution_count": null,
   "id": "bd7a23bb-658f-4689-987e-34f43c54a3c9",
   "metadata": {},
   "outputs": [],
   "source": [
    "\n",
    "with open(path+f'collection.dat', 'wb') as f:\n",
    "    pkl.dump(collection, f)"
   ]
  }
 ],
 "metadata": {
  "kernelspec": {
   "display_name": "Python 3 (ipykernel)",
   "language": "python",
   "name": "python3"
  },
  "language_info": {
   "codemirror_mode": {
    "name": "ipython",
    "version": 3
   },
   "file_extension": ".py",
   "mimetype": "text/x-python",
   "name": "python",
   "nbconvert_exporter": "python",
   "pygments_lexer": "ipython3",
   "version": "3.11.5"
  }
 },
 "nbformat": 4,
 "nbformat_minor": 5
}
